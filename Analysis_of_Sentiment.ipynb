{
 "cells": [
  {
   "cell_type": "code",
   "execution_count": 14,
   "metadata": {
    "colab": {
     "base_uri": "https://localhost:8080/"
    },
    "executionInfo": {
     "elapsed": 1538,
     "status": "ok",
     "timestamp": 1658696025151,
     "user": {
      "displayName": "Carol Wan",
      "userId": "13970907988638492558"
     },
     "user_tz": 240
    },
    "id": "3PATt5Qo8lEK",
    "outputId": "ff8d196a-b567-4af6-e5b4-42bea32dd124"
   },
   "outputs": [],
   "source": [
    "# !pip install pandas\n",
    "# !pip install imbalanced-learn\n",
    "# !pip install seaborn\n",
    "# !pip install graphviz\n",
    "# !pip install sklearn\n",
    "# !pip install xgboost\n",
    "# !pip install numpy\n",
    "# !pip install stopwords\n",
    "\n",
    "import pandas as pd\n",
    "import numpy as np\n",
    "import random\n",
    "import seaborn as sns\n",
    "import matplotlib.pyplot as plt\n",
    "import graphviz\n",
    "import re\n",
    "import nltk\n",
    "# nltk.download('stopwords')\n",
    "# stemmer = nltk.SnowballStemmer(\"english\")\n",
    "import string\n",
    "import csv\n",
    "\n",
    "from sklearn.feature_extraction import text\n",
    "from nltk.corpus import stopwords\n",
    "stopwords = set(stopwords.words('english'))\n",
    "from sklearn.decomposition import PCA\n",
    "from sklearn.neighbors import KNeighborsClassifier\n",
    "from sklearn.model_selection import train_test_split, KFold, cross_val_score, cross_val_predict, LeaveOneOut, GridSearchCV, StratifiedKFold\n",
    "from sklearn.preprocessing import StandardScaler, label_binarize\n",
    "from sklearn.multiclass import OneVsRestClassifier\n",
    "from sklearn import metrics, svm, tree, preprocessing\n",
    "from sklearn.metrics import confusion_matrix, multilabel_confusion_matrix,plot_confusion_matrix\n",
    "from sklearn.metrics import accuracy_score, precision_score, recall_score, f1_score\n",
    "from sklearn.metrics import classification_report, roc_curve, auc, roc_auc_score\n",
    "from sklearn.metrics._plot.roc_curve import plot_roc_curve\n",
    "from imblearn.over_sampling import SMOTE, RandomOverSampler\n",
    "from imblearn.pipeline import Pipeline\n",
    "# from imblearn.combine import SMOTETomek\n",
    "# from imblearn.under_sampling import TomekLinks\n",
    "from itertools import cycle\n",
    "from sklearn.linear_model import LogisticRegression, LinearRegression\n",
    "from sklearn.naive_bayes import MultinomialNB\n",
    "from sklearn.ensemble import RandomForestClassifier\n",
    "from sklearn.tree import DecisionTreeClassifier\n",
    "from sklearn.svm import SVC\n",
    "from mlxtend.evaluate import confusion_matrix\n",
    "from mlxtend.plotting import plot_confusion_matrix\n",
    "from sklearn.feature_selection import RFECV, SelectFromModel\n",
    "from numpy import mean\n",
    "from sklearn.pipeline import make_pipeline\n",
    "from sklearn.model_selection import cross_validate"
   ]
  },
  {
   "cell_type": "code",
   "execution_count": 15,
   "metadata": {
    "colab": {
     "base_uri": "https://localhost:8080/",
     "height": 173
    },
    "executionInfo": {
     "elapsed": 335,
     "status": "ok",
     "timestamp": 1658696026668,
     "user": {
      "displayName": "Carol Wan",
      "userId": "13970907988638492558"
     },
     "user_tz": 240
    },
    "id": "gb6ern-b8rv-",
    "outputId": "4e3622af-d2ce-4618-ef3b-e9765083f1da"
   },
   "outputs": [
    {
     "data": {
      "text/html": [
       "<div>\n",
       "<style scoped>\n",
       "    .dataframe tbody tr th:only-of-type {\n",
       "        vertical-align: middle;\n",
       "    }\n",
       "\n",
       "    .dataframe tbody tr th {\n",
       "        vertical-align: top;\n",
       "    }\n",
       "\n",
       "    .dataframe thead th {\n",
       "        text-align: right;\n",
       "    }\n",
       "</style>\n",
       "<table border=\"1\" class=\"dataframe\">\n",
       "  <thead>\n",
       "    <tr style=\"text-align: right;\">\n",
       "      <th></th>\n",
       "      <th>service_name</th>\n",
       "      <th>polarity</th>\n",
       "      <th>subjectivity</th>\n",
       "    </tr>\n",
       "    <tr>\n",
       "      <th>created_at_date</th>\n",
       "      <th></th>\n",
       "      <th></th>\n",
       "      <th></th>\n",
       "    </tr>\n",
       "  </thead>\n",
       "  <tbody>\n",
       "    <tr>\n",
       "      <th>2022-06-12</th>\n",
       "      <td>Netflix</td>\n",
       "      <td>0.000000</td>\n",
       "      <td>0.0</td>\n",
       "    </tr>\n",
       "    <tr>\n",
       "      <th>2022-06-12</th>\n",
       "      <td>Netflix</td>\n",
       "      <td>0.900000</td>\n",
       "      <td>0.9</td>\n",
       "    </tr>\n",
       "    <tr>\n",
       "      <th>2022-06-12</th>\n",
       "      <td>Netflix</td>\n",
       "      <td>0.333333</td>\n",
       "      <td>0.8</td>\n",
       "    </tr>\n",
       "  </tbody>\n",
       "</table>\n",
       "</div>"
      ],
      "text/plain": [
       "                service_name  polarity  subjectivity\n",
       "created_at_date                                     \n",
       "2022-06-12           Netflix  0.000000           0.0\n",
       "2022-06-12           Netflix  0.900000           0.9\n",
       "2022-06-12           Netflix  0.333333           0.8"
      ]
     },
     "execution_count": 15,
     "metadata": {},
     "output_type": "execute_result"
    }
   ],
   "source": [
    "# load cleaned data\n",
    "df_sentiment = pd.read_csv(\"https://raw.githubusercontent.com/carolkkw/CIND820_Project/main/tweet_sentiment/data/Sentiment_Clean_Data.csv\", sep =',', index_col=0)\n",
    "df_sentiment = pd.DataFrame(df_sentiment)\n",
    "df_sentiment = df_sentiment.rename(columns={'query':'service_name'})\n",
    "df_sentiment['service_name'] = df_sentiment['service_name'].replace(['netflix','disneyplus','hulu','amazonprime'],['Netflix','Disney','Hulu','Amazon'])\n",
    "df_sentiment.head(3)"
   ]
  },
  {
   "cell_type": "code",
   "execution_count": 16,
   "metadata": {},
   "outputs": [
    {
     "data": {
      "text/html": [
       "<div>\n",
       "<style scoped>\n",
       "    .dataframe tbody tr th:only-of-type {\n",
       "        vertical-align: middle;\n",
       "    }\n",
       "\n",
       "    .dataframe tbody tr th {\n",
       "        vertical-align: top;\n",
       "    }\n",
       "\n",
       "    .dataframe thead th {\n",
       "        text-align: right;\n",
       "    }\n",
       "</style>\n",
       "<table border=\"1\" class=\"dataframe\">\n",
       "  <thead>\n",
       "    <tr style=\"text-align: right;\">\n",
       "      <th></th>\n",
       "      <th>polarity</th>\n",
       "      <th>subjectivity</th>\n",
       "    </tr>\n",
       "    <tr>\n",
       "      <th>service_name</th>\n",
       "      <th></th>\n",
       "      <th></th>\n",
       "    </tr>\n",
       "  </thead>\n",
       "  <tbody>\n",
       "    <tr>\n",
       "      <th>Hulu</th>\n",
       "      <td>-0.167940</td>\n",
       "      <td>0.521876</td>\n",
       "    </tr>\n",
       "    <tr>\n",
       "      <th>Disney</th>\n",
       "      <td>0.143134</td>\n",
       "      <td>0.334267</td>\n",
       "    </tr>\n",
       "    <tr>\n",
       "      <th>Amazon</th>\n",
       "      <td>0.154736</td>\n",
       "      <td>0.341622</td>\n",
       "    </tr>\n",
       "    <tr>\n",
       "      <th>Netflix</th>\n",
       "      <td>0.173216</td>\n",
       "      <td>0.376064</td>\n",
       "    </tr>\n",
       "  </tbody>\n",
       "</table>\n",
       "</div>"
      ],
      "text/plain": [
       "              polarity  subjectivity\n",
       "service_name                        \n",
       "Hulu         -0.167940      0.521876\n",
       "Disney        0.143134      0.334267\n",
       "Amazon        0.154736      0.341622\n",
       "Netflix       0.173216      0.376064"
      ]
     },
     "execution_count": 16,
     "metadata": {},
     "output_type": "execute_result"
    }
   ],
   "source": [
    "# check the mean of each service_name\n",
    "df_sentiment2 = df_sentiment.groupby(['service_name']).mean().sort_values('polarity')\n",
    "df_sentiment2.head()"
   ]
  },
  {
   "cell_type": "code",
   "execution_count": 17,
   "metadata": {},
   "outputs": [
    {
     "data": {
      "text/html": [
       "<div>\n",
       "<style scoped>\n",
       "    .dataframe tbody tr th:only-of-type {\n",
       "        vertical-align: middle;\n",
       "    }\n",
       "\n",
       "    .dataframe tbody tr th {\n",
       "        vertical-align: top;\n",
       "    }\n",
       "\n",
       "    .dataframe thead th {\n",
       "        text-align: right;\n",
       "    }\n",
       "</style>\n",
       "<table border=\"1\" class=\"dataframe\">\n",
       "  <thead>\n",
       "    <tr style=\"text-align: right;\">\n",
       "      <th></th>\n",
       "      <th>created_at_date</th>\n",
       "      <th>service_name</th>\n",
       "      <th>polarity</th>\n",
       "      <th>subjectivity</th>\n",
       "    </tr>\n",
       "  </thead>\n",
       "  <tbody>\n",
       "    <tr>\n",
       "      <th>0</th>\n",
       "      <td>2022-06-12</td>\n",
       "      <td>Netflix</td>\n",
       "      <td>0.142785</td>\n",
       "      <td>0.390704</td>\n",
       "    </tr>\n",
       "    <tr>\n",
       "      <th>1</th>\n",
       "      <td>2022-06-12</td>\n",
       "      <td>Disney</td>\n",
       "      <td>0.121732</td>\n",
       "      <td>0.366608</td>\n",
       "    </tr>\n",
       "    <tr>\n",
       "      <th>2</th>\n",
       "      <td>2022-06-12</td>\n",
       "      <td>Hulu</td>\n",
       "      <td>0.051658</td>\n",
       "      <td>0.405029</td>\n",
       "    </tr>\n",
       "    <tr>\n",
       "      <th>3</th>\n",
       "      <td>2022-06-12</td>\n",
       "      <td>Amazon</td>\n",
       "      <td>0.082957</td>\n",
       "      <td>0.266842</td>\n",
       "    </tr>\n",
       "    <tr>\n",
       "      <th>4</th>\n",
       "      <td>2022-06-13</td>\n",
       "      <td>Netflix</td>\n",
       "      <td>0.190237</td>\n",
       "      <td>0.400000</td>\n",
       "    </tr>\n",
       "  </tbody>\n",
       "</table>\n",
       "</div>"
      ],
      "text/plain": [
       "  created_at_date service_name  polarity  subjectivity\n",
       "0      2022-06-12      Netflix  0.142785      0.390704\n",
       "1      2022-06-12       Disney  0.121732      0.366608\n",
       "2      2022-06-12         Hulu  0.051658      0.405029\n",
       "3      2022-06-12       Amazon  0.082957      0.266842\n",
       "4      2022-06-13      Netflix  0.190237      0.400000"
      ]
     },
     "execution_count": 17,
     "metadata": {},
     "output_type": "execute_result"
    }
   ],
   "source": [
    "# check the mean of each service_name\n",
    "df_sentiment3 = df_sentiment.groupby(['created_at_date','service_name'], sort=False).mean().reset_index()\n",
    "df_sentiment3.head()"
   ]
  },
  {
   "cell_type": "code",
   "execution_count": 18,
   "metadata": {
    "colab": {
     "base_uri": "https://localhost:8080/"
    },
    "executionInfo": {
     "elapsed": 165,
     "status": "ok",
     "timestamp": 1658696028521,
     "user": {
      "displayName": "Carol Wan",
      "userId": "13970907988638492558"
     },
     "user_tz": 240
    },
    "id": "5CKsVXbB9aN7",
    "outputId": "d3f400ec-22cc-4264-e39e-f03f34e03c5a"
   },
   "outputs": [
    {
     "data": {
      "text/plain": [
       "created_at_date    0\n",
       "service_name       0\n",
       "polarity           0\n",
       "subjectivity       0\n",
       "dtype: int64"
      ]
     },
     "execution_count": 18,
     "metadata": {},
     "output_type": "execute_result"
    }
   ],
   "source": [
    "# check if null\n",
    "df_sentiment3.isna().sum()"
   ]
  },
  {
   "cell_type": "code",
   "execution_count": 19,
   "metadata": {},
   "outputs": [
    {
     "data": {
      "text/html": [
       "<div>\n",
       "<style scoped>\n",
       "    .dataframe tbody tr th:only-of-type {\n",
       "        vertical-align: middle;\n",
       "    }\n",
       "\n",
       "    .dataframe tbody tr th {\n",
       "        vertical-align: top;\n",
       "    }\n",
       "\n",
       "    .dataframe thead th {\n",
       "        text-align: right;\n",
       "    }\n",
       "</style>\n",
       "<table border=\"1\" class=\"dataframe\">\n",
       "  <thead>\n",
       "    <tr style=\"text-align: right;\">\n",
       "      <th></th>\n",
       "      <th>polarity</th>\n",
       "      <th>subjectivity</th>\n",
       "    </tr>\n",
       "  </thead>\n",
       "  <tbody>\n",
       "    <tr>\n",
       "      <th>polarity</th>\n",
       "      <td>1.0000</td>\n",
       "      <td>-0.7468</td>\n",
       "    </tr>\n",
       "    <tr>\n",
       "      <th>subjectivity</th>\n",
       "      <td>-0.7468</td>\n",
       "      <td>1.0000</td>\n",
       "    </tr>\n",
       "  </tbody>\n",
       "</table>\n",
       "</div>"
      ],
      "text/plain": [
       "              polarity  subjectivity\n",
       "polarity        1.0000       -0.7468\n",
       "subjectivity   -0.7468        1.0000"
      ]
     },
     "execution_count": 19,
     "metadata": {},
     "output_type": "execute_result"
    }
   ],
   "source": [
    "# correlation\n",
    "\n",
    "df_sentiment3.corr()"
   ]
  },
  {
   "cell_type": "code",
   "execution_count": 20,
   "metadata": {
    "colab": {
     "base_uri": "https://localhost:8080/",
     "height": 297
    },
    "executionInfo": {
     "elapsed": 140,
     "status": "ok",
     "timestamp": 1658696030233,
     "user": {
      "displayName": "Carol Wan",
      "userId": "13970907988638492558"
     },
     "user_tz": 240
    },
    "id": "ch8rOLeI_HV7",
    "outputId": "dbfacfb4-e24c-44c6-e0da-fdbce927a8a2"
   },
   "outputs": [
    {
     "data": {
      "text/plain": [
       "<AxesSubplot:>"
      ]
     },
     "execution_count": 20,
     "metadata": {},
     "output_type": "execute_result"
    },
    {
     "data": {
      "image/png": "[encoded data removed]",
      "text/plain": [
       "<Figure size 432x288 with 1 Axes>"
      ]
     },
     "metadata": {
      "needs_background": "light"
     },
     "output_type": "display_data"
    }
   ],
   "source": [
    "# check if data is imbalanced or not\n",
    "df_sentiment['service_name'].value_counts().plot(kind='barh')"
   ]
  },
  {
   "cell_type": "code",
   "execution_count": 21,
   "metadata": {
    "colab": {
     "base_uri": "https://localhost:8080/",
     "height": 111
    },
    "executionInfo": {
     "elapsed": 136,
     "status": "ok",
     "timestamp": 1658696044701,
     "user": {
      "displayName": "Carol Wan",
      "userId": "13970907988638492558"
     },
     "user_tz": 240
    },
    "id": "ufxnG-sy9dll",
    "outputId": "f5daceae-e70d-43d2-c359-18cf9498db49"
   },
   "outputs": [
    {
     "name": "stderr",
     "output_type": "stream",
     "text": [
      "/opt/homebrew/lib/python3.9/site-packages/seaborn/axisgrid.py:337: UserWarning: The `size` parameter has been renamed to `height`; please update your code.\n",
      "  warnings.warn(msg, UserWarning)\n"
     ]
    },
    {
     "data": {
      "image/png": "[encoded data removed]",
      "text/plain": [
       "<Figure size 432.875x360 with 1 Axes>"
      ]
     },
     "metadata": {},
     "output_type": "display_data"
    }
   ],
   "source": [
    "sns.set_style('whitegrid');\n",
    "sns.FacetGrid(df_sentiment3, hue='service_name', size=5) \\\n",
    ".map(plt.scatter, 'polarity', 'subjectivity') \\\n",
    ".add_legend();\n",
    "plt.show()"
   ]
  },
  {
   "cell_type": "code",
   "execution_count": 22,
   "metadata": {
    "colab": {
     "base_uri": "https://localhost:8080/",
     "height": 282
    },
    "executionInfo": {
     "elapsed": 276,
     "status": "ok",
     "timestamp": 1658695708584,
     "user": {
      "displayName": "Carol Wan",
      "userId": "13970907988638492558"
     },
     "user_tz": 240
    },
    "id": "EVO8_ayn9f6i",
    "outputId": "4aece35e-53a4-4d58-ff6c-e728ac8d36ef"
   },
   "outputs": [
    {
     "data": {
      "text/html": [
       "<div>\n",
       "<style scoped>\n",
       "    .dataframe tbody tr th:only-of-type {\n",
       "        vertical-align: middle;\n",
       "    }\n",
       "\n",
       "    .dataframe tbody tr th {\n",
       "        vertical-align: top;\n",
       "    }\n",
       "\n",
       "    .dataframe thead th {\n",
       "        text-align: right;\n",
       "    }\n",
       "</style>\n",
       "<table border=\"1\" class=\"dataframe\">\n",
       "  <thead>\n",
       "    <tr style=\"text-align: right;\">\n",
       "      <th></th>\n",
       "      <th>polarity</th>\n",
       "      <th>subjectivity</th>\n",
       "      <th>service_name</th>\n",
       "    </tr>\n",
       "  </thead>\n",
       "  <tbody>\n",
       "    <tr>\n",
       "      <th>0</th>\n",
       "      <td>0.782016</td>\n",
       "      <td>0.392285</td>\n",
       "      <td>Netflix</td>\n",
       "    </tr>\n",
       "    <tr>\n",
       "      <th>1</th>\n",
       "      <td>0.752619</td>\n",
       "      <td>0.337109</td>\n",
       "      <td>Disney</td>\n",
       "    </tr>\n",
       "    <tr>\n",
       "      <th>2</th>\n",
       "      <td>0.654772</td>\n",
       "      <td>0.425090</td>\n",
       "      <td>Hulu</td>\n",
       "    </tr>\n",
       "    <tr>\n",
       "      <th>3</th>\n",
       "      <td>0.698477</td>\n",
       "      <td>0.108660</td>\n",
       "      <td>Amazon</td>\n",
       "    </tr>\n",
       "    <tr>\n",
       "      <th>4</th>\n",
       "      <td>0.848275</td>\n",
       "      <td>0.413573</td>\n",
       "      <td>Netflix</td>\n",
       "    </tr>\n",
       "  </tbody>\n",
       "</table>\n",
       "</div>"
      ],
      "text/plain": [
       "   polarity  subjectivity service_name\n",
       "0  0.782016      0.392285      Netflix\n",
       "1  0.752619      0.337109       Disney\n",
       "2  0.654772      0.425090         Hulu\n",
       "3  0.698477      0.108660       Amazon\n",
       "4  0.848275      0.413573      Netflix"
      ]
     },
     "execution_count": 22,
     "metadata": {},
     "output_type": "execute_result"
    }
   ],
   "source": [
    "# normalize\n",
    "df_normalize = df_sentiment3[['polarity','subjectivity']]\n",
    "df_normalize = df_normalize.apply(lambda x:(x-x.min()) / (x.max()-x.min()))\n",
    "df_normalize = df_normalize.join(df_sentiment3['service_name'])\n",
    "df_normalize.head()"
   ]
  },
  {
   "cell_type": "code",
   "execution_count": 23,
   "metadata": {},
   "outputs": [
    {
     "data": {
      "text/html": [
       "<div>\n",
       "<style scoped>\n",
       "    .dataframe tbody tr th:only-of-type {\n",
       "        vertical-align: middle;\n",
       "    }\n",
       "\n",
       "    .dataframe tbody tr th {\n",
       "        vertical-align: top;\n",
       "    }\n",
       "\n",
       "    .dataframe thead th {\n",
       "        text-align: right;\n",
       "    }\n",
       "</style>\n",
       "<table border=\"1\" class=\"dataframe\">\n",
       "  <thead>\n",
       "    <tr style=\"text-align: right;\">\n",
       "      <th></th>\n",
       "      <th>polarity</th>\n",
       "      <th>subjectivity</th>\n",
       "    </tr>\n",
       "  </thead>\n",
       "  <tbody>\n",
       "    <tr>\n",
       "      <th>count</th>\n",
       "      <td>64.000000</td>\n",
       "      <td>64.000000</td>\n",
       "    </tr>\n",
       "    <tr>\n",
       "      <th>mean</th>\n",
       "      <td>0.707849</td>\n",
       "      <td>0.386185</td>\n",
       "    </tr>\n",
       "    <tr>\n",
       "      <th>std</th>\n",
       "      <td>0.216808</td>\n",
       "      <td>0.212781</td>\n",
       "    </tr>\n",
       "    <tr>\n",
       "      <th>min</th>\n",
       "      <td>0.000000</td>\n",
       "      <td>0.000000</td>\n",
       "    </tr>\n",
       "    <tr>\n",
       "      <th>25%</th>\n",
       "      <td>0.722029</td>\n",
       "      <td>0.251280</td>\n",
       "    </tr>\n",
       "    <tr>\n",
       "      <th>50%</th>\n",
       "      <td>0.777448</td>\n",
       "      <td>0.335345</td>\n",
       "    </tr>\n",
       "    <tr>\n",
       "      <th>75%</th>\n",
       "      <td>0.822075</td>\n",
       "      <td>0.437373</td>\n",
       "    </tr>\n",
       "    <tr>\n",
       "      <th>max</th>\n",
       "      <td>1.000000</td>\n",
       "      <td>1.000000</td>\n",
       "    </tr>\n",
       "  </tbody>\n",
       "</table>\n",
       "</div>"
      ],
      "text/plain": [
       "        polarity  subjectivity\n",
       "count  64.000000     64.000000\n",
       "mean    0.707849      0.386185\n",
       "std     0.216808      0.212781\n",
       "min     0.000000      0.000000\n",
       "25%     0.722029      0.251280\n",
       "50%     0.777448      0.335345\n",
       "75%     0.822075      0.437373\n",
       "max     1.000000      1.000000"
      ]
     },
     "execution_count": 23,
     "metadata": {},
     "output_type": "execute_result"
    }
   ],
   "source": [
    "df_normalize.describe()"
   ]
  },
  {
   "cell_type": "code",
   "execution_count": 24,
   "metadata": {},
   "outputs": [],
   "source": [
    "x = df_normalize[df_normalize.columns[:-1]]\n",
    "y = df_normalize['service_name']\n",
    "\n",
    "x_train, x_test, y_train, y_test = train_test_split(x, y, test_size = 0.3, random_state = 42, stratify=y)"
   ]
  },
  {
   "cell_type": "code",
   "execution_count": 25,
   "metadata": {
    "id": "0Ap_Jo7a9iYr"
   },
   "outputs": [
    {
     "data": {
      "text/plain": [
       "Netflix    5\n",
       "Hulu       5\n",
       "Disney     5\n",
       "Amazon     5\n",
       "Name: service_name, dtype: int64"
      ]
     },
     "execution_count": 25,
     "metadata": {},
     "output_type": "execute_result"
    }
   ],
   "source": [
    "# check y_test value before SMOTE\n",
    "y_test.value_counts()"
   ]
  },
  {
   "cell_type": "markdown",
   "metadata": {},
   "source": [
    "Cross-validation in Logistic Regression Model"
   ]
  },
  {
   "cell_type": "code",
   "execution_count": 26,
   "metadata": {
    "id": "9HEVY3P39oKt"
   },
   "outputs": [
    {
     "name": "stdout",
     "output_type": "stream",
     "text": [
      "[[ 2  8  0  6]\n",
      " [ 4  7  0  5]\n",
      " [ 1  0 13  2]\n",
      " [ 4  4  0  8]]\n",
      "              precision    recall  f1-score   support\n",
      "\n",
      "      Amazon       0.18      0.12      0.15        16\n",
      "      Disney       0.37      0.44      0.40        16\n",
      "        Hulu       1.00      0.81      0.90        16\n",
      "     Netflix       0.38      0.50      0.43        16\n",
      "\n",
      "    accuracy                           0.47        64\n",
      "   macro avg       0.48      0.47      0.47        64\n",
      "weighted avg       0.48      0.47      0.47        64\n",
      "\n",
      "roc_auc: 0.73125\n",
      "test score: 0.4642857142857143\n",
      "fit time: 0.0015444755554199219\n",
      "score time: 0.00039446353912353516\n"
     ]
    }
   ],
   "source": [
    "# Normal\n",
    "logreg = LogisticRegression(random_state=42, solver=\"lbfgs\", max_iter=1000)\n",
    "cv = StratifiedKFold(n_splits=10, random_state = 42, shuffle = True)\n",
    "pipe = Pipeline([('model',logreg)])\n",
    "logreg_pred = cross_val_predict(pipe, x, y, cv = cv)\n",
    "\n",
    "print(confusion_matrix(y, logreg_pred))\n",
    "print(classification_report(y, logreg_pred))\n",
    "\n",
    "print(\"roc_auc:\", cross_val_score(pipe, x, y, cv=cv, scoring='roc_auc_ovo').mean())\n",
    "\n",
    "# Evaludate the efficiency\n",
    "cv_results_logreg = cross_validate(pipe, x, y, cv=cv)\n",
    "\n",
    "print(\"test score:\", cv_results_logreg['test_score'].mean())\n",
    "print(\"fit time:\", cv_results_logreg['fit_time'].mean())\n",
    "print(\"score time:\", cv_results_logreg['score_time'].mean())"
   ]
  },
  {
   "cell_type": "markdown",
   "metadata": {},
   "source": [
    "Cross-validation in Random Forest Model"
   ]
  },
  {
   "cell_type": "code",
   "execution_count": 27,
   "metadata": {},
   "outputs": [
    {
     "name": "stdout",
     "output_type": "stream",
     "text": [
      "[[ 6  5  0  5]\n",
      " [ 5  7  1  3]\n",
      " [ 1  1 12  2]\n",
      " [ 2  5  0  9]]\n",
      "              precision    recall  f1-score   support\n",
      "\n",
      "      Amazon       0.43      0.38      0.40        16\n",
      "      Disney       0.39      0.44      0.41        16\n",
      "        Hulu       0.92      0.75      0.83        16\n",
      "     Netflix       0.47      0.56      0.51        16\n",
      "\n",
      "    accuracy                           0.53        64\n",
      "   macro avg       0.55      0.53      0.54        64\n",
      "weighted avg       0.55      0.53      0.54        64\n",
      "\n",
      "roc_auc: 0.7635416666666667\n",
      "test score: 0.5261904761904761\n",
      "fit time: 0.037253618240356445\n",
      "score time: 0.002786111831665039\n"
     ]
    }
   ],
   "source": [
    "# Normal\n",
    "ranfor = RandomForestClassifier(random_state=42)\n",
    "cv = StratifiedKFold(n_splits=10, random_state = 42, shuffle = True)\n",
    "pipe = Pipeline([('model',ranfor)])\n",
    "ranfor_pred = cross_val_predict(pipe, x, y, cv = cv)\n",
    "\n",
    "print(confusion_matrix(y, ranfor_pred))\n",
    "print(classification_report(y, ranfor_pred))\n",
    "print(\"roc_auc:\", cross_val_score(pipe, x, y, cv=cv, scoring='roc_auc_ovo').mean())\n",
    "\n",
    "# Evaludate the efficiency\n",
    "cv_results_ranfor = cross_validate(pipe, x, y, cv=cv)\n",
    "\n",
    "print(\"test score:\", cv_results_ranfor['test_score'].mean())\n",
    "print(\"fit time:\", cv_results_ranfor['fit_time'].mean())\n",
    "print(\"score time:\", cv_results_ranfor['score_time'].mean())"
   ]
  },
  {
   "cell_type": "code",
   "execution_count": 28,
   "metadata": {},
   "outputs": [],
   "source": [
    "# new input to predict class\n",
    "new_input = np.array([[10,0], \n",
    "                      [10,0.2],\n",
    "                      [10,0.3],\n",
    "                      [10,0.5],\n",
    "                      [10,0.7]\n",
    "                      \n",
    "                      \n",
    "                      ])\n",
    "\n",
    "new_table = pd.DataFrame(new_input, columns = [\"polarity\",\"subjectivity\"])"
   ]
  },
  {
   "cell_type": "code",
   "execution_count": 29,
   "metadata": {},
   "outputs": [
    {
     "name": "stdout",
     "output_type": "stream",
     "text": [
      "   polarity  subjectivity  predict\n",
      "0      10.0           0.0   Amazon\n",
      "1      10.0           0.2   Disney\n",
      "2      10.0           0.3  Netflix\n",
      "3      10.0           0.5   Amazon\n",
      "4      10.0           0.7   Amazon\n"
     ]
    }
   ],
   "source": [
    "ranfor = RandomForestClassifier(random_state=42)\n",
    "ranfor.fit(x, y)\n",
    "new_output = ranfor.predict(new_table)\n",
    "new_pred = new_table\n",
    "new_pred['predict'] = pd.DataFrame(new_output, columns=['predict'])\n",
    "print(new_pred)"
   ]
  }
 ],
 "metadata": {
  "colab": {
   "authorship_tag": "ABX9TyPZAMl7zmwb2iPyQp9c731k",
   "name": "Analysis_of_Sentiment.ipynb",
   "provenance": []
  },
  "kernelspec": {
   "display_name": "Python 3 (ipykernel)",
   "language": "python",
   "name": "python3"
  },
  "language_info": {
   "codemirror_mode": {
    "name": "ipython",
    "version": 3
   },
   "file_extension": ".py",
   "mimetype": "text/x-python",
   "name": "python",
   "nbconvert_exporter": "python",
   "pygments_lexer": "ipython3",
   "version": "3.9.12"
  }
 },
 "nbformat": 4,
 "nbformat_minor": 1
}
