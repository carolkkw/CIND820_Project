{
 "cells": [
  {
   "cell_type": "code",
   "execution_count": 1,
   "metadata": {
    "colab": {
     "base_uri": "https://localhost:8080/"
    },
    "id": "_enjTWGGIGoV",
    "outputId": "c3547325-8079-46df-fd98-0bfe317e02a1"
   },
   "outputs": [],
   "source": [
    "# !pip install pandas\n",
    "# !pip install imbalanced-learn\n",
    "# !pip install seaborn\n",
    "# !pip install graphviz\n",
    "# !pip install sklearn\n",
    "# !pip install xgboost\n",
    "# !pip install numpy\n",
    "# !pip install stopwords\n",
    "\n",
    "import pandas as pd\n",
    "import numpy as np\n",
    "import random\n",
    "import seaborn as sns\n",
    "import matplotlib.pyplot as plt\n",
    "import graphviz\n",
    "import re\n",
    "import nltk\n",
    "# nltk.download('stopwords')\n",
    "# stemmer = nltk.SnowballStemmer(\"english\")\n",
    "import string\n",
    "import csv\n",
    "\n",
    "from sklearn.feature_extraction import text\n",
    "from nltk.corpus import stopwords\n",
    "stopwords = set(stopwords.words('english'))\n",
    "from sklearn.decomposition import PCA\n",
    "from sklearn.neighbors import KNeighborsClassifier\n",
    "from sklearn.model_selection import train_test_split, KFold, cross_val_score, cross_val_predict, LeaveOneOut, GridSearchCV, StratifiedKFold\n",
    "from sklearn.preprocessing import StandardScaler, label_binarize\n",
    "from sklearn.multiclass import OneVsRestClassifier\n",
    "from sklearn import metrics, svm, tree, preprocessing\n",
    "from sklearn.metrics import confusion_matrix, multilabel_confusion_matrix,plot_confusion_matrix\n",
    "from sklearn.metrics import accuracy_score, precision_score, recall_score, f1_score\n",
    "from sklearn.metrics import classification_report, roc_curve, auc, roc_auc_score\n",
    "from sklearn.metrics._plot.roc_curve import plot_roc_curve\n",
    "from imblearn.over_sampling import SMOTE, RandomOverSampler\n",
    "from imblearn.pipeline import Pipeline\n",
    "# from imblearn.combine import SMOTETomek\n",
    "# from imblearn.under_sampling import TomekLinks\n",
    "from itertools import cycle\n",
    "from sklearn.linear_model import LogisticRegression\n",
    "from sklearn.naive_bayes import MultinomialNB\n",
    "from sklearn.ensemble import RandomForestClassifier\n",
    "from sklearn.tree import DecisionTreeClassifier\n",
    "from mlxtend.evaluate import confusion_matrix\n",
    "from mlxtend.plotting import plot_confusion_matrix\n",
    "from sklearn.feature_selection import RFECV, SelectFromModel\n",
    "from numpy import mean\n",
    "from sklearn.pipeline import make_pipeline\n",
    "from sklearn.model_selection import cross_validate\n",
    "\n",
    "# %matplotlib inline\n",
    "# pd.set_option('display.max_colwidth', 1000)"
   ]
  },
  {
   "cell_type": "code",
   "execution_count": 2,
   "metadata": {
    "colab": {
     "base_uri": "https://localhost:8080/",
     "height": 220
    },
    "id": "MQaL6MAR4m2Y",
    "outputId": "6eb86f0e-99af-4fda-df4e-a1a19db95425"
   },
   "outputs": [
    {
     "data": {
      "text/html": [
       "<div>\n",
       "<style scoped>\n",
       "    .dataframe tbody tr th:only-of-type {\n",
       "        vertical-align: middle;\n",
       "    }\n",
       "\n",
       "    .dataframe tbody tr th {\n",
       "        vertical-align: top;\n",
       "    }\n",
       "\n",
       "    .dataframe thead th {\n",
       "        text-align: right;\n",
       "    }\n",
       "</style>\n",
       "<table border=\"1\" class=\"dataframe\">\n",
       "  <thead>\n",
       "    <tr style=\"text-align: right;\">\n",
       "      <th></th>\n",
       "      <th>type</th>\n",
       "      <th>title</th>\n",
       "      <th>genre</th>\n",
       "      <th>certificate</th>\n",
       "      <th>country</th>\n",
       "      <th>imdb_rating</th>\n",
       "      <th>date_added</th>\n",
       "      <th>year_added</th>\n",
       "      <th>release_year</th>\n",
       "      <th>service_name</th>\n",
       "    </tr>\n",
       "  </thead>\n",
       "  <tbody>\n",
       "    <tr>\n",
       "      <th>1</th>\n",
       "      <td>Movie</td>\n",
       "      <td>Dick Johnson Is Dead</td>\n",
       "      <td>Biography,Documentary,Drama</td>\n",
       "      <td>Teens</td>\n",
       "      <td>United States</td>\n",
       "      <td>7.4</td>\n",
       "      <td>2021-09-25</td>\n",
       "      <td>2021</td>\n",
       "      <td>2020</td>\n",
       "      <td>Netflix</td>\n",
       "    </tr>\n",
       "    <tr>\n",
       "      <th>9</th>\n",
       "      <td>Movie</td>\n",
       "      <td>Sankofa</td>\n",
       "      <td>Drama</td>\n",
       "      <td>Adult</td>\n",
       "      <td>United States, Ghana, Burkina Faso, United Kin...</td>\n",
       "      <td>7.0</td>\n",
       "      <td>2021-09-24</td>\n",
       "      <td>2021</td>\n",
       "      <td>1993</td>\n",
       "      <td>Netflix</td>\n",
       "    </tr>\n",
       "    <tr>\n",
       "      <th>11</th>\n",
       "      <td>Movie</td>\n",
       "      <td>The Starling</td>\n",
       "      <td>Comedy,Drama</td>\n",
       "      <td>Teens</td>\n",
       "      <td>United States</td>\n",
       "      <td>6.3</td>\n",
       "      <td>2021-09-24</td>\n",
       "      <td>2021</td>\n",
       "      <td>2021</td>\n",
       "      <td>Netflix</td>\n",
       "    </tr>\n",
       "  </tbody>\n",
       "</table>\n",
       "</div>"
      ],
      "text/plain": [
       "     type                 title                        genre certificate  \\\n",
       "1   Movie  Dick Johnson Is Dead  Biography,Documentary,Drama       Teens   \n",
       "9   Movie               Sankofa                        Drama       Adult   \n",
       "11  Movie          The Starling                 Comedy,Drama       Teens   \n",
       "\n",
       "                                              country  imdb_rating  \\\n",
       "1                                       United States          7.4   \n",
       "9   United States, Ghana, Burkina Faso, United Kin...          7.0   \n",
       "11                                      United States          6.3   \n",
       "\n",
       "    date_added  year_added  release_year service_name  \n",
       "1   2021-09-25        2021          2020      Netflix  \n",
       "9   2021-09-24        2021          1993      Netflix  \n",
       "11  2021-09-24        2021          2021      Netflix  "
      ]
     },
     "execution_count": 2,
     "metadata": {},
     "output_type": "execute_result"
    }
   ],
   "source": [
    "df = pd.read_csv(\"https://raw.githubusercontent.com/carolkkw/CIND820_Project/main/data/streaming_imdb2.csv\", sep =',', index_col=0)\n",
    "\n",
    "df.head(3)"
   ]
  },
  {
   "cell_type": "code",
   "execution_count": 3,
   "metadata": {
    "id": "HH3YNf6_yRLP"
   },
   "outputs": [],
   "source": [
    "#lables, uniques = pd.factorize(df[\"certificate\"])\n",
    "#uniques\n",
    "#df[\"certificate_num\"] = pd.factorize(df[\"certificate\"])[0]\n",
    "#df.groupby([\"certificate\",\"certificate_num\"]).size().reset_index().rename(columns={0:\"count\"}).sort_values(\"certificate_num\")\n"
   ]
  },
  {
   "cell_type": "code",
   "execution_count": 4,
   "metadata": {
    "id": "heff4Y5S6UDg"
   },
   "outputs": [],
   "source": [
    "#lables, uniques = pd.factorize(df[\"type\"])\n",
    "#uniques\n",
    "#df[\"type_num\"] = pd.factorize(df[\"type\"])[0]\n",
    "#df.groupby([\"type\",\"type_num\"]).size().reset_index().rename(columns={0:\"count\"}).sort_values(\"type_num\")\n"
   ]
  },
  {
   "cell_type": "code",
   "execution_count": 5,
   "metadata": {
    "colab": {
     "base_uri": "https://localhost:8080/",
     "height": 220
    },
    "id": "lNTcaSQZ5I0Q",
    "outputId": "ea303cc7-2e1f-4217-e47d-bad048ab2e6f"
   },
   "outputs": [
    {
     "data": {
      "text/html": [
       "<div>\n",
       "<style scoped>\n",
       "    .dataframe tbody tr th:only-of-type {\n",
       "        vertical-align: middle;\n",
       "    }\n",
       "\n",
       "    .dataframe tbody tr th {\n",
       "        vertical-align: top;\n",
       "    }\n",
       "\n",
       "    .dataframe thead th {\n",
       "        text-align: right;\n",
       "    }\n",
       "</style>\n",
       "<table border=\"1\" class=\"dataframe\">\n",
       "  <thead>\n",
       "    <tr style=\"text-align: right;\">\n",
       "      <th></th>\n",
       "      <th>type</th>\n",
       "      <th>title</th>\n",
       "      <th>genre</th>\n",
       "      <th>certificate</th>\n",
       "      <th>country</th>\n",
       "      <th>imdb_rating</th>\n",
       "      <th>date_added</th>\n",
       "      <th>year_added</th>\n",
       "      <th>release_year</th>\n",
       "      <th>service_name</th>\n",
       "    </tr>\n",
       "  </thead>\n",
       "  <tbody>\n",
       "    <tr>\n",
       "      <th>1</th>\n",
       "      <td>Movie</td>\n",
       "      <td>Dick Johnson Is Dead</td>\n",
       "      <td>Biography,Documentary,Drama</td>\n",
       "      <td>Teens</td>\n",
       "      <td>United States</td>\n",
       "      <td>7.4</td>\n",
       "      <td>2021-09-25</td>\n",
       "      <td>2021</td>\n",
       "      <td>2020</td>\n",
       "      <td>Netflix</td>\n",
       "    </tr>\n",
       "    <tr>\n",
       "      <th>9</th>\n",
       "      <td>Movie</td>\n",
       "      <td>Sankofa</td>\n",
       "      <td>Drama</td>\n",
       "      <td>Adult</td>\n",
       "      <td>United States, Ghana, Burkina Faso, United Kin...</td>\n",
       "      <td>7.0</td>\n",
       "      <td>2021-09-24</td>\n",
       "      <td>2021</td>\n",
       "      <td>1993</td>\n",
       "      <td>Netflix</td>\n",
       "    </tr>\n",
       "    <tr>\n",
       "      <th>11</th>\n",
       "      <td>Movie</td>\n",
       "      <td>The Starling</td>\n",
       "      <td>Comedy,Drama</td>\n",
       "      <td>Teens</td>\n",
       "      <td>United States</td>\n",
       "      <td>6.3</td>\n",
       "      <td>2021-09-24</td>\n",
       "      <td>2021</td>\n",
       "      <td>2021</td>\n",
       "      <td>Netflix</td>\n",
       "    </tr>\n",
       "  </tbody>\n",
       "</table>\n",
       "</div>"
      ],
      "text/plain": [
       "     type                 title                        genre certificate  \\\n",
       "1   Movie  Dick Johnson Is Dead  Biography,Documentary,Drama       Teens   \n",
       "9   Movie               Sankofa                        Drama       Adult   \n",
       "11  Movie          The Starling                 Comedy,Drama       Teens   \n",
       "\n",
       "                                              country  imdb_rating  \\\n",
       "1                                       United States          7.4   \n",
       "9   United States, Ghana, Burkina Faso, United Kin...          7.0   \n",
       "11                                      United States          6.3   \n",
       "\n",
       "    date_added  year_added  release_year service_name  \n",
       "1   2021-09-25        2021          2020      Netflix  \n",
       "9   2021-09-24        2021          1993      Netflix  \n",
       "11  2021-09-24        2021          2021      Netflix  "
      ]
     },
     "execution_count": 5,
     "metadata": {},
     "output_type": "execute_result"
    }
   ],
   "source": [
    "df.head(3)"
   ]
  },
  {
   "cell_type": "code",
   "execution_count": 6,
   "metadata": {
    "colab": {
     "base_uri": "https://localhost:8080/"
    },
    "id": "K5tB9R3A6IH7",
    "outputId": "1358ac3a-cbca-4cd3-c855-3d32834e5287"
   },
   "outputs": [
    {
     "data": {
      "text/plain": [
       "type            0\n",
       "title           0\n",
       "genre           0\n",
       "certificate     0\n",
       "country         0\n",
       "imdb_rating     0\n",
       "date_added      0\n",
       "year_added      0\n",
       "release_year    0\n",
       "service_name    0\n",
       "dtype: int64"
      ]
     },
     "execution_count": 6,
     "metadata": {},
     "output_type": "execute_result"
    }
   ],
   "source": [
    "df.isna().sum()"
   ]
  },
  {
   "cell_type": "code",
   "execution_count": 7,
   "metadata": {
    "id": "l-SYh5Q7zp2w"
   },
   "outputs": [],
   "source": [
    "# convert object to numeric values so that we  can use the .fit function\n",
    "\n",
    "encorder = preprocessing.LabelEncoder()\n",
    "\n",
    "df[\"certificate_num\"] = encorder.fit_transform(df['certificate'])\n",
    "df[\"type_num\"] = encorder.fit_transform(df['type'])"
   ]
  },
  {
   "cell_type": "code",
   "execution_count": 8,
   "metadata": {
    "colab": {
     "base_uri": "https://localhost:8080/",
     "height": 204
    },
    "id": "-_0YU4rA6VaP",
    "outputId": "6e3b4024-2379-4753-c06b-51bbf340b070"
   },
   "outputs": [
    {
     "data": {
      "text/html": [
       "<div>\n",
       "<style scoped>\n",
       "    .dataframe tbody tr th:only-of-type {\n",
       "        vertical-align: middle;\n",
       "    }\n",
       "\n",
       "    .dataframe tbody tr th {\n",
       "        vertical-align: top;\n",
       "    }\n",
       "\n",
       "    .dataframe thead th {\n",
       "        text-align: right;\n",
       "    }\n",
       "</style>\n",
       "<table border=\"1\" class=\"dataframe\">\n",
       "  <thead>\n",
       "    <tr style=\"text-align: right;\">\n",
       "      <th></th>\n",
       "      <th>imdb_rating</th>\n",
       "      <th>year_added</th>\n",
       "      <th>release_year</th>\n",
       "      <th>certificate_num</th>\n",
       "      <th>type_num</th>\n",
       "    </tr>\n",
       "  </thead>\n",
       "  <tbody>\n",
       "    <tr>\n",
       "      <th>imdb_rating</th>\n",
       "      <td>1.000000</td>\n",
       "      <td>-0.056458</td>\n",
       "      <td>-0.076070</td>\n",
       "      <td>-0.006988</td>\n",
       "      <td>0.264658</td>\n",
       "    </tr>\n",
       "    <tr>\n",
       "      <th>year_added</th>\n",
       "      <td>-0.056458</td>\n",
       "      <td>1.000000</td>\n",
       "      <td>0.045387</td>\n",
       "      <td>0.110431</td>\n",
       "      <td>-0.098976</td>\n",
       "    </tr>\n",
       "    <tr>\n",
       "      <th>release_year</th>\n",
       "      <td>-0.076070</td>\n",
       "      <td>0.045387</td>\n",
       "      <td>1.000000</td>\n",
       "      <td>-0.093618</td>\n",
       "      <td>0.131447</td>\n",
       "    </tr>\n",
       "    <tr>\n",
       "      <th>certificate_num</th>\n",
       "      <td>-0.006988</td>\n",
       "      <td>0.110431</td>\n",
       "      <td>-0.093618</td>\n",
       "      <td>1.000000</td>\n",
       "      <td>-0.148577</td>\n",
       "    </tr>\n",
       "    <tr>\n",
       "      <th>type_num</th>\n",
       "      <td>0.264658</td>\n",
       "      <td>-0.098976</td>\n",
       "      <td>0.131447</td>\n",
       "      <td>-0.148577</td>\n",
       "      <td>1.000000</td>\n",
       "    </tr>\n",
       "  </tbody>\n",
       "</table>\n",
       "</div>"
      ],
      "text/plain": [
       "                 imdb_rating  year_added  release_year  certificate_num  \\\n",
       "imdb_rating         1.000000   -0.056458     -0.076070        -0.006988   \n",
       "year_added         -0.056458    1.000000      0.045387         0.110431   \n",
       "release_year       -0.076070    0.045387      1.000000        -0.093618   \n",
       "certificate_num    -0.006988    0.110431     -0.093618         1.000000   \n",
       "type_num            0.264658   -0.098976      0.131447        -0.148577   \n",
       "\n",
       "                 type_num  \n",
       "imdb_rating      0.264658  \n",
       "year_added      -0.098976  \n",
       "release_year     0.131447  \n",
       "certificate_num -0.148577  \n",
       "type_num         1.000000  "
      ]
     },
     "execution_count": 8,
     "metadata": {},
     "output_type": "execute_result"
    }
   ],
   "source": [
    "# drop service_name attribute first\n",
    "df1 = df.drop(columns = [\"service_name\"])\n",
    "\n",
    "# get correlation\n",
    "corr = df1.corr()\n",
    "corr"
   ]
  },
  {
   "cell_type": "code",
   "execution_count": 9,
   "metadata": {
    "colab": {
     "base_uri": "https://localhost:8080/",
     "height": 349
    },
    "id": "qPg_GhvcF07g",
    "outputId": "1095091d-e75f-4f0c-dcf6-bd8c5ad57df6"
   },
   "outputs": [
    {
     "data": {
      "image/png": "[encoded data removed]",
      "text/plain": [
       "<Figure size 432x288 with 2 Axes>"
      ]
     },
     "metadata": {
      "needs_background": "light"
     },
     "output_type": "display_data"
    }
   ],
   "source": [
    "# visualization of correlation\n",
    "\n",
    "hm = sns.heatmap(df1.corr(), annot = True)\n",
    "\n",
    "hm.set(title = \"Correlation\")\n",
    "\n",
    "plt.show()"
   ]
  },
  {
   "cell_type": "code",
   "execution_count": 10,
   "metadata": {
    "colab": {
     "base_uri": "https://localhost:8080/",
     "height": 142
    },
    "id": "DdLIbj4I85Vw",
    "outputId": "602779d8-5e1c-4ba7-9fec-42c00d0ab9b0"
   },
   "outputs": [
    {
     "data": {
      "text/html": [
       "<div>\n",
       "<style scoped>\n",
       "    .dataframe tbody tr th:only-of-type {\n",
       "        vertical-align: middle;\n",
       "    }\n",
       "\n",
       "    .dataframe tbody tr th {\n",
       "        vertical-align: top;\n",
       "    }\n",
       "\n",
       "    .dataframe thead th {\n",
       "        text-align: right;\n",
       "    }\n",
       "</style>\n",
       "<table border=\"1\" class=\"dataframe\">\n",
       "  <thead>\n",
       "    <tr style=\"text-align: right;\">\n",
       "      <th></th>\n",
       "      <th>imdb_rating</th>\n",
       "      <th>year_added</th>\n",
       "      <th>release_year</th>\n",
       "      <th>certificate_num</th>\n",
       "      <th>type_num</th>\n",
       "      <th>service_name</th>\n",
       "    </tr>\n",
       "  </thead>\n",
       "  <tbody>\n",
       "    <tr>\n",
       "      <th>1</th>\n",
       "      <td>7.4</td>\n",
       "      <td>2021</td>\n",
       "      <td>2020</td>\n",
       "      <td>6</td>\n",
       "      <td>0</td>\n",
       "      <td>Netflix</td>\n",
       "    </tr>\n",
       "    <tr>\n",
       "      <th>9</th>\n",
       "      <td>7.0</td>\n",
       "      <td>2021</td>\n",
       "      <td>1993</td>\n",
       "      <td>0</td>\n",
       "      <td>0</td>\n",
       "      <td>Netflix</td>\n",
       "    </tr>\n",
       "    <tr>\n",
       "      <th>11</th>\n",
       "      <td>6.3</td>\n",
       "      <td>2021</td>\n",
       "      <td>2021</td>\n",
       "      <td>6</td>\n",
       "      <td>0</td>\n",
       "      <td>Netflix</td>\n",
       "    </tr>\n",
       "  </tbody>\n",
       "</table>\n",
       "</div>"
      ],
      "text/plain": [
       "    imdb_rating  year_added  release_year  certificate_num  type_num  \\\n",
       "1           7.4        2021          2020                6         0   \n",
       "9           7.0        2021          1993                0         0   \n",
       "11          6.3        2021          2021                6         0   \n",
       "\n",
       "   service_name  \n",
       "1       Netflix  \n",
       "9       Netflix  \n",
       "11      Netflix  "
      ]
     },
     "execution_count": 10,
     "metadata": {},
     "output_type": "execute_result"
    }
   ],
   "source": [
    "df1 = df[[\"imdb_rating\",\"year_added\",\"release_year\",\"certificate_num\",\"type_num\",\"service_name\"]]\n",
    "df1.head(3)"
   ]
  },
  {
   "cell_type": "markdown",
   "metadata": {
    "id": "ETy9hjFQIhFo"
   },
   "source": [
    "Check skewness along the index axis"
   ]
  },
  {
   "cell_type": "code",
   "execution_count": 11,
   "metadata": {
    "colab": {
     "base_uri": "https://localhost:8080/"
    },
    "id": "-9J7AuWmIfHl",
    "outputId": "a37eb99a-041c-4c29-d9c2-a4e9e79e8c06"
   },
   "outputs": [
    {
     "name": "stderr",
     "output_type": "stream",
     "text": [
      "/var/folders/jf/_4751svx72v36w_0fc5s0_880000gn/T/ipykernel_11484/1229944174.py:1: FutureWarning: Dropping of nuisance columns in DataFrame reductions (with 'numeric_only=None') is deprecated; in a future version this will raise TypeError.  Select only valid columns before calling the reduction.\n",
      "  df1.skew(axis = 0, skipna = True)\n"
     ]
    },
    {
     "data": {
      "text/plain": [
       "imdb_rating       -0.526444\n",
       "year_added        -1.347455\n",
       "release_year      -3.257559\n",
       "certificate_num    0.036116\n",
       "type_num           1.116294\n",
       "dtype: float64"
      ]
     },
     "execution_count": 11,
     "metadata": {},
     "output_type": "execute_result"
    }
   ],
   "source": [
    "df1.skew(axis = 0, skipna = True)"
   ]
  },
  {
   "cell_type": "markdown",
   "metadata": {
    "id": "s0neCMMfJci5"
   },
   "source": [
    "normalize data"
   ]
  },
  {
   "cell_type": "code",
   "execution_count": 12,
   "metadata": {
    "colab": {
     "base_uri": "https://localhost:8080/",
     "height": 204
    },
    "id": "triDNVfK6eg_",
    "outputId": "fdf935dd-ff56-4d9b-df86-dc2e88a0bb58"
   },
   "outputs": [
    {
     "data": {
      "text/html": [
       "<div>\n",
       "<style scoped>\n",
       "    .dataframe tbody tr th:only-of-type {\n",
       "        vertical-align: middle;\n",
       "    }\n",
       "\n",
       "    .dataframe tbody tr th {\n",
       "        vertical-align: top;\n",
       "    }\n",
       "\n",
       "    .dataframe thead th {\n",
       "        text-align: right;\n",
       "    }\n",
       "</style>\n",
       "<table border=\"1\" class=\"dataframe\">\n",
       "  <thead>\n",
       "    <tr style=\"text-align: right;\">\n",
       "      <th></th>\n",
       "      <th>imdb_rating</th>\n",
       "      <th>year_added</th>\n",
       "      <th>release_year</th>\n",
       "      <th>certificate_num</th>\n",
       "      <th>type_num</th>\n",
       "      <th>service_name</th>\n",
       "    </tr>\n",
       "  </thead>\n",
       "  <tbody>\n",
       "    <tr>\n",
       "      <th>1</th>\n",
       "      <td>0.711111</td>\n",
       "      <td>1.0</td>\n",
       "      <td>0.989247</td>\n",
       "      <td>1.0</td>\n",
       "      <td>0.0</td>\n",
       "      <td>Netflix</td>\n",
       "    </tr>\n",
       "    <tr>\n",
       "      <th>9</th>\n",
       "      <td>0.666667</td>\n",
       "      <td>1.0</td>\n",
       "      <td>0.698925</td>\n",
       "      <td>0.0</td>\n",
       "      <td>0.0</td>\n",
       "      <td>Netflix</td>\n",
       "    </tr>\n",
       "    <tr>\n",
       "      <th>11</th>\n",
       "      <td>0.588889</td>\n",
       "      <td>1.0</td>\n",
       "      <td>1.000000</td>\n",
       "      <td>1.0</td>\n",
       "      <td>0.0</td>\n",
       "      <td>Netflix</td>\n",
       "    </tr>\n",
       "    <tr>\n",
       "      <th>14</th>\n",
       "      <td>0.488889</td>\n",
       "      <td>1.0</td>\n",
       "      <td>1.000000</td>\n",
       "      <td>0.0</td>\n",
       "      <td>0.0</td>\n",
       "      <td>Netflix</td>\n",
       "    </tr>\n",
       "    <tr>\n",
       "      <th>27</th>\n",
       "      <td>0.600000</td>\n",
       "      <td>1.0</td>\n",
       "      <td>0.752688</td>\n",
       "      <td>1.0</td>\n",
       "      <td>0.0</td>\n",
       "      <td>Netflix</td>\n",
       "    </tr>\n",
       "  </tbody>\n",
       "</table>\n",
       "</div>"
      ],
      "text/plain": [
       "    imdb_rating  year_added  release_year  certificate_num  type_num  \\\n",
       "1      0.711111         1.0      0.989247              1.0       0.0   \n",
       "9      0.666667         1.0      0.698925              0.0       0.0   \n",
       "11     0.588889         1.0      1.000000              1.0       0.0   \n",
       "14     0.488889         1.0      1.000000              0.0       0.0   \n",
       "27     0.600000         1.0      0.752688              1.0       0.0   \n",
       "\n",
       "   service_name  \n",
       "1       Netflix  \n",
       "9       Netflix  \n",
       "11      Netflix  \n",
       "14      Netflix  \n",
       "27      Netflix  "
      ]
     },
     "execution_count": 12,
     "metadata": {},
     "output_type": "execute_result"
    }
   ],
   "source": [
    "df_num = df1[[\"imdb_rating\",\"year_added\",\"release_year\",\"certificate_num\",\"type_num\"]]\n",
    "df_normalize = df_num.apply(lambda x:(x-x.min()) / (x.max()-x.min()))\n",
    "df_normalize = df_normalize.join(df1['service_name'])\n",
    "df_normalize.head()\n"
   ]
  },
  {
   "cell_type": "markdown",
   "metadata": {
    "id": "PL0zApKgFXy4"
   },
   "source": [
    "check if the numeric attributes are normalized"
   ]
  },
  {
   "cell_type": "code",
   "execution_count": 13,
   "metadata": {
    "colab": {
     "base_uri": "https://localhost:8080/",
     "height": 297
    },
    "id": "m4ApXvdOAqX8",
    "outputId": "d14f24c1-5535-4b80-a1ce-1600dee58742"
   },
   "outputs": [
    {
     "data": {
      "text/html": [
       "<div>\n",
       "<style scoped>\n",
       "    .dataframe tbody tr th:only-of-type {\n",
       "        vertical-align: middle;\n",
       "    }\n",
       "\n",
       "    .dataframe tbody tr th {\n",
       "        vertical-align: top;\n",
       "    }\n",
       "\n",
       "    .dataframe thead th {\n",
       "        text-align: right;\n",
       "    }\n",
       "</style>\n",
       "<table border=\"1\" class=\"dataframe\">\n",
       "  <thead>\n",
       "    <tr style=\"text-align: right;\">\n",
       "      <th></th>\n",
       "      <th>imdb_rating</th>\n",
       "      <th>year_added</th>\n",
       "      <th>release_year</th>\n",
       "      <th>certificate_num</th>\n",
       "      <th>type_num</th>\n",
       "    </tr>\n",
       "  </thead>\n",
       "  <tbody>\n",
       "    <tr>\n",
       "      <th>count</th>\n",
       "      <td>9062.000000</td>\n",
       "      <td>9062.000000</td>\n",
       "      <td>9062.000000</td>\n",
       "      <td>9062.000000</td>\n",
       "      <td>9062.000000</td>\n",
       "    </tr>\n",
       "    <tr>\n",
       "      <th>mean</th>\n",
       "      <td>0.613074</td>\n",
       "      <td>0.839804</td>\n",
       "      <td>0.901067</td>\n",
       "      <td>0.497315</td>\n",
       "      <td>0.256345</td>\n",
       "    </tr>\n",
       "    <tr>\n",
       "      <th>std</th>\n",
       "      <td>0.133922</td>\n",
       "      <td>0.126164</td>\n",
       "      <td>0.133842</td>\n",
       "      <td>0.420637</td>\n",
       "      <td>0.436639</td>\n",
       "    </tr>\n",
       "    <tr>\n",
       "      <th>min</th>\n",
       "      <td>0.000000</td>\n",
       "      <td>0.000000</td>\n",
       "      <td>0.000000</td>\n",
       "      <td>0.000000</td>\n",
       "      <td>0.000000</td>\n",
       "    </tr>\n",
       "    <tr>\n",
       "      <th>25%</th>\n",
       "      <td>0.533333</td>\n",
       "      <td>0.769231</td>\n",
       "      <td>0.881720</td>\n",
       "      <td>0.000000</td>\n",
       "      <td>0.000000</td>\n",
       "    </tr>\n",
       "    <tr>\n",
       "      <th>50%</th>\n",
       "      <td>0.622222</td>\n",
       "      <td>0.846154</td>\n",
       "      <td>0.946237</td>\n",
       "      <td>0.500000</td>\n",
       "      <td>0.000000</td>\n",
       "    </tr>\n",
       "    <tr>\n",
       "      <th>75%</th>\n",
       "      <td>0.711111</td>\n",
       "      <td>0.923077</td>\n",
       "      <td>0.967742</td>\n",
       "      <td>1.000000</td>\n",
       "      <td>1.000000</td>\n",
       "    </tr>\n",
       "    <tr>\n",
       "      <th>max</th>\n",
       "      <td>1.000000</td>\n",
       "      <td>1.000000</td>\n",
       "      <td>1.000000</td>\n",
       "      <td>1.000000</td>\n",
       "      <td>1.000000</td>\n",
       "    </tr>\n",
       "  </tbody>\n",
       "</table>\n",
       "</div>"
      ],
      "text/plain": [
       "       imdb_rating   year_added  release_year  certificate_num     type_num\n",
       "count  9062.000000  9062.000000   9062.000000      9062.000000  9062.000000\n",
       "mean      0.613074     0.839804      0.901067         0.497315     0.256345\n",
       "std       0.133922     0.126164      0.133842         0.420637     0.436639\n",
       "min       0.000000     0.000000      0.000000         0.000000     0.000000\n",
       "25%       0.533333     0.769231      0.881720         0.000000     0.000000\n",
       "50%       0.622222     0.846154      0.946237         0.500000     0.000000\n",
       "75%       0.711111     0.923077      0.967742         1.000000     1.000000\n",
       "max       1.000000     1.000000      1.000000         1.000000     1.000000"
      ]
     },
     "execution_count": 13,
     "metadata": {},
     "output_type": "execute_result"
    }
   ],
   "source": [
    "df_normalize.describe()"
   ]
  },
  {
   "cell_type": "markdown",
   "metadata": {
    "id": "Zg__Dif5FMBC"
   },
   "source": [
    "divide dataset to training and testing"
   ]
  },
  {
   "cell_type": "code",
   "execution_count": 14,
   "metadata": {
    "id": "rko7LV5MEew6"
   },
   "outputs": [],
   "source": [
    "x = df_normalize[df_normalize.columns[:-1]]\n",
    "y = df_normalize['service_name']\n",
    "\n",
    "#scale the data (feature scaling)\n",
    "sc = StandardScaler()\n",
    "x = sc.fit_transform(x)\n",
    "\n",
    "x_train, x_test, y_train, y_test = train_test_split(x, y, test_size = 0.3, random_state = 42, stratify=y)"
   ]
  },
  {
   "cell_type": "code",
   "execution_count": 15,
   "metadata": {
    "colab": {
     "base_uri": "https://localhost:8080/"
    },
    "id": "_fht5zbM9bMy",
    "outputId": "a1e5810f-dc8a-4ceb-f073-e7487a7a16e8"
   },
   "outputs": [
    {
     "data": {
      "text/plain": [
       "Netflix    1947\n",
       "Hulu        444\n",
       "Disney      324\n",
       "Amazon        4\n",
       "Name: service_name, dtype: int64"
      ]
     },
     "execution_count": 15,
     "metadata": {},
     "output_type": "execute_result"
    }
   ],
   "source": [
    "y_test.value_counts()"
   ]
  },
  {
   "cell_type": "markdown",
   "metadata": {
    "id": "LaBHjgmwSiW7"
   },
   "source": [
    "prepare SMOTE to handle imbalance data"
   ]
  },
  {
   "cell_type": "code",
   "execution_count": 16,
   "metadata": {
    "id": "BfVr_9OySFva"
   },
   "outputs": [],
   "source": [
    "sm = SMOTE(sampling_strategy='minority',random_state=42)\n",
    "x_sm, y_sm = sm.fit_resample(x_train, y_train)"
   ]
  },
  {
   "cell_type": "markdown",
   "metadata": {
    "id": "jTT_21kZZwF_"
   },
   "source": [
    "check ROSE and see the different between SMOTE"
   ]
  },
  {
   "cell_type": "code",
   "execution_count": 17,
   "metadata": {
    "id": "hB1Pms26Z2D_"
   },
   "outputs": [],
   "source": [
    "ros = RandomOverSampler(sampling_strategy='minority',random_state=42)\n",
    "x_ros, y_ros = ros.fit_resample(x_train, y_train)"
   ]
  },
  {
   "cell_type": "markdown",
   "metadata": {
    "id": "pqhJv2QyGydg"
   },
   "source": [
    "check samples"
   ]
  },
  {
   "cell_type": "code",
   "execution_count": 18,
   "metadata": {
    "colab": {
     "base_uri": "https://localhost:8080/"
    },
    "id": "_i9h1zfHGtZz",
    "outputId": "0c9c08ff-6b73-43ea-e998-57ad2f6f70e7"
   },
   "outputs": [
    {
     "data": {
      "text/plain": [
       "((6343, 5), (6343,), (2719, 5), (2719,))"
      ]
     },
     "execution_count": 18,
     "metadata": {},
     "output_type": "execute_result"
    }
   ],
   "source": [
    "x_train.shape, y_train.shape, x_test.shape, y_test.shape\n"
   ]
  },
  {
   "cell_type": "code",
   "execution_count": 19,
   "metadata": {
    "colab": {
     "base_uri": "https://localhost:8080/"
    },
    "id": "EJwaM_JtdlC1",
    "outputId": "10a39736-02eb-47ac-d722-3203444eef9e"
   },
   "outputs": [
    {
     "data": {
      "text/plain": [
       "Netflix    4543\n",
       "Amazon     4543\n",
       "Hulu       1035\n",
       "Disney      757\n",
       "Name: service_name, dtype: int64"
      ]
     },
     "execution_count": 19,
     "metadata": {},
     "output_type": "execute_result"
    }
   ],
   "source": [
    "# SMOTE new count\n",
    "y_sm.value_counts()"
   ]
  },
  {
   "cell_type": "code",
   "execution_count": 20,
   "metadata": {
    "colab": {
     "base_uri": "https://localhost:8080/"
    },
    "id": "zcxXdXDHaE4K",
    "outputId": "ce5047d9-297d-4be0-e353-febb878e6e27"
   },
   "outputs": [
    {
     "data": {
      "text/plain": [
       "Netflix    4543\n",
       "Amazon     4543\n",
       "Hulu       1035\n",
       "Disney      757\n",
       "Name: service_name, dtype: int64"
      ]
     },
     "execution_count": 20,
     "metadata": {},
     "output_type": "execute_result"
    }
   ],
   "source": [
    "# ROSE new count\n",
    "y_ros.value_counts()"
   ]
  },
  {
   "cell_type": "code",
   "execution_count": 21,
   "metadata": {
    "colab": {
     "base_uri": "https://localhost:8080/"
    },
    "id": "P3jX8JziHRPP",
    "outputId": "c6e4d9be-3f15-4c2b-8b39-58f73d713a0c"
   },
   "outputs": [
    {
     "data": {
      "text/plain": [
       "Netflix    1947\n",
       "Hulu        444\n",
       "Disney      324\n",
       "Amazon        4\n",
       "Name: service_name, dtype: int64"
      ]
     },
     "execution_count": 21,
     "metadata": {},
     "output_type": "execute_result"
    }
   ],
   "source": [
    "# original count\n",
    "y_test.value_counts()"
   ]
  },
  {
   "cell_type": "code",
   "execution_count": 22,
   "metadata": {
    "colab": {
     "base_uri": "https://localhost:8080/"
    },
    "id": "IptsJvlGE5yl",
    "outputId": "7186fb7a-c39b-4e22-e777-f61aa0302d26"
   },
   "outputs": [
    {
     "name": "stdout",
     "output_type": "stream",
     "text": [
      "count        6343\n",
      "unique          4\n",
      "top       Netflix\n",
      "freq         4543\n",
      "Name: service_name, dtype: object\n",
      "count        2719\n",
      "unique          4\n",
      "top       Netflix\n",
      "freq         1947\n",
      "Name: service_name, dtype: object\n"
     ]
    }
   ],
   "source": [
    "# check the normalize\n",
    "for df_normalize in [y_train, y_test]:\n",
    "    print(df_normalize.describe())"
   ]
  },
  {
   "cell_type": "markdown",
   "metadata": {
    "id": "YwQOGqVDxPc9"
   },
   "source": [
    "Without Cross Validation"
   ]
  },
  {
   "cell_type": "code",
   "execution_count": 23,
   "metadata": {
    "colab": {
     "base_uri": "https://localhost:8080/",
     "height": 421
    },
    "id": "mZ4W94HaefBL",
    "outputId": "d70de480-8a3b-48bd-cf9e-3c8e7828d9a0"
   },
   "outputs": [
    {
     "name": "stdout",
     "output_type": "stream",
     "text": [
      "Maximum accuracy: 0.7844795880838543 at K = 10\n"
     ]
    },
    {
     "data": {
      "image/png": "[encoded data removed]",
      "text/plain": [
       "<Figure size 720x432 with 1 Axes>"
      ]
     },
     "metadata": {
      "needs_background": "light"
     },
     "output_type": "display_data"
    }
   ],
   "source": [
    "# Optimal k value with max accuracy without cross validation\n",
    "acc = []\n",
    "\n",
    "for i in range(1,40):\n",
    "    neigh = KNeighborsClassifier(n_neighbors = i).fit(x_train,y_train)\n",
    "    yhat = neigh.predict(x_test)\n",
    "    acc.append(metrics.accuracy_score(y_test, yhat))\n",
    "    \n",
    "plt.figure(figsize=(10,6))\n",
    "plt.plot(range(1,40),acc,color = 'blue',linestyle='dashed', \n",
    "         marker='o',markerfacecolor='red', markersize=10)\n",
    "plt.title('accuracy vs. K Value without cross validation')\n",
    "plt.xlabel('K')\n",
    "plt.ylabel('Accuracy')\n",
    "print(\"Maximum accuracy:\",max(acc),\"at K =\",acc.index(max(acc)))"
   ]
  },
  {
   "cell_type": "code",
   "execution_count": 24,
   "metadata": {
    "colab": {
     "base_uri": "https://localhost:8080/",
     "height": 421
    },
    "id": "2ShzwfaHHu8y",
    "outputId": "104c06a1-a073-4f4d-8eba-9b3d2dcb8641"
   },
   "outputs": [
    {
     "name": "stdout",
     "output_type": "stream",
     "text": [
      "Minimum error: 0.21552041191614565 at K = 10\n"
     ]
    },
    {
     "data": {
      "image/png": "[encoded data removed]",
      "text/plain": [
       "<Figure size 720x432 with 1 Axes>"
      ]
     },
     "metadata": {
      "needs_background": "light"
     },
     "output_type": "display_data"
    }
   ],
   "source": [
    "# get optimal k value with minmimum error without cross validation\n",
    "error_rate = []\n",
    "for i in range(1,40):\n",
    " knn = KNeighborsClassifier(n_neighbors=i)\n",
    " knn.fit(x_train,y_train)\n",
    " pred_i = knn.predict(x_test)\n",
    " error_rate.append(np.mean(pred_i != y_test))\n",
    "\n",
    "plt.figure(figsize=(10,6))\n",
    "plt.plot(range(1,40),error_rate,color='blue', linestyle='dashed', \n",
    "         marker='o',markerfacecolor='red', markersize=10)\n",
    "plt.title('Error Rate vs. K Value without cross-validation')\n",
    "plt.xlabel('K')\n",
    "plt.ylabel('Error Rate')\n",
    "print(\"Minimum error:\",min(error_rate),\"at K =\",error_rate.index(min(error_rate)))"
   ]
  },
  {
   "cell_type": "code",
   "execution_count": 25,
   "metadata": {
    "colab": {
     "base_uri": "https://localhost:8080/",
     "height": 421
    },
    "id": "NybVZuWHJXoh",
    "outputId": "ed9a2423-3b3b-4c37-ebf0-472ec5d7e370"
   },
   "outputs": [
    {
     "name": "stdout",
     "output_type": "stream",
     "text": [
      "Maximum F1 Score: 0.7700681897343327 at K = 4\n"
     ]
    },
    {
     "data": {
      "image/png": "[encoded data removed]",
      "text/plain": [
       "<Figure size 720x432 with 1 Axes>"
      ]
     },
     "metadata": {
      "needs_background": "light"
     },
     "output_type": "display_data"
    }
   ],
   "source": [
    "# get optimal k value with maximum F1 Score without cross validation\n",
    "acc = []\n",
    "\n",
    "for i in range(1,40):\n",
    "    neigh = KNeighborsClassifier(n_neighbors = i)\n",
    "    neigh.fit(x_train,y_train)\n",
    "    yhat = neigh.predict(x_test)\n",
    "    acc.append(metrics.f1_score(y_test, yhat, average = 'weighted'))\n",
    "    \n",
    "plt.figure(figsize=(10,6))\n",
    "plt.plot(range(1,40),acc,color = 'blue',linestyle='dashed', \n",
    "         marker='o',markerfacecolor='red', markersize=10)\n",
    "plt.title('f1_score vs. K Value without cross-validation')\n",
    "plt.xlabel('K')\n",
    "plt.ylabel('F1 Score')\n",
    "print(\"Maximum F1 Score:\",max(acc),\"at K =\",acc.index(max(acc)))"
   ]
  },
  {
   "cell_type": "markdown",
   "metadata": {
    "id": "e0DAkhc784HW"
   },
   "source": [
    "Cross Validation: \n",
    "\n",
    "Goal - to find the optimal value of cv"
   ]
  },
  {
   "cell_type": "code",
   "execution_count": 26,
   "metadata": {
    "colab": {
     "base_uri": "https://localhost:8080/",
     "height": 944
    },
    "id": "R6uw6sJk9J7u",
    "outputId": "31c7d26d-a89e-40f3-dc14-f2d72c1c2417"
   },
   "outputs": [
    {
     "name": "stdout",
     "output_type": "stream",
     "text": [
      "Ideal: 0.769\n",
      "> folds=4, accuracy=0.765 (0.752,0.773)\n",
      "> folds=5, accuracy=0.768 (0.756,0.778)\n",
      "> folds=6, accuracy=0.765 (0.756,0.778)\n",
      "> folds=7, accuracy=0.766 (0.748,0.778)\n",
      "> folds=8, accuracy=0.770 (0.757,0.779)\n"
     ]
    },
    {
     "name": "stderr",
     "output_type": "stream",
     "text": [
      "/opt/homebrew/lib/python3.9/site-packages/sklearn/model_selection/_split.py:680: UserWarning: The least populated class in y has only 8 members, which is less than n_splits=9.\n",
      "  warnings.warn(\n",
      "/opt/homebrew/lib/python3.9/site-packages/sklearn/model_selection/_split.py:680: UserWarning: The least populated class in y has only 8 members, which is less than n_splits=10.\n",
      "  warnings.warn(\n",
      "/opt/homebrew/lib/python3.9/site-packages/sklearn/model_selection/_split.py:680: UserWarning: The least populated class in y has only 8 members, which is less than n_splits=11.\n",
      "  warnings.warn(\n",
      "/opt/homebrew/lib/python3.9/site-packages/sklearn/model_selection/_split.py:680: UserWarning: The least populated class in y has only 8 members, which is less than n_splits=12.\n",
      "  warnings.warn(\n",
      "/opt/homebrew/lib/python3.9/site-packages/sklearn/model_selection/_split.py:680: UserWarning: The least populated class in y has only 8 members, which is less than n_splits=13.\n",
      "  warnings.warn(\n",
      "/opt/homebrew/lib/python3.9/site-packages/sklearn/model_selection/_split.py:680: UserWarning: The least populated class in y has only 8 members, which is less than n_splits=14.\n",
      "  warnings.warn(\n"
     ]
    },
    {
     "name": "stdout",
     "output_type": "stream",
     "text": [
      "> folds=9, accuracy=0.768 (0.748,0.790)\n",
      "> folds=10, accuracy=0.768 (0.752,0.784)\n",
      "> folds=11, accuracy=0.770 (0.742,0.793)\n",
      "> folds=12, accuracy=0.769 (0.748,0.790)\n",
      "> folds=13, accuracy=0.769 (0.738,0.789)\n",
      "> folds=14, accuracy=0.767 (0.735,0.801)\n",
      "> folds=15, accuracy=0.768 (0.745,0.787)\n",
      "> folds=16, accuracy=0.767 (0.743,0.791)\n",
      "> folds=17, accuracy=0.770 (0.732,0.804)\n",
      "> folds=18, accuracy=0.770 (0.722,0.805)\n"
     ]
    },
    {
     "name": "stderr",
     "output_type": "stream",
     "text": [
      "/opt/homebrew/lib/python3.9/site-packages/sklearn/model_selection/_split.py:680: UserWarning: The least populated class in y has only 8 members, which is less than n_splits=15.\n",
      "  warnings.warn(\n",
      "/opt/homebrew/lib/python3.9/site-packages/sklearn/model_selection/_split.py:680: UserWarning: The least populated class in y has only 8 members, which is less than n_splits=16.\n",
      "  warnings.warn(\n",
      "/opt/homebrew/lib/python3.9/site-packages/sklearn/model_selection/_split.py:680: UserWarning: The least populated class in y has only 8 members, which is less than n_splits=17.\n",
      "  warnings.warn(\n",
      "/opt/homebrew/lib/python3.9/site-packages/sklearn/model_selection/_split.py:680: UserWarning: The least populated class in y has only 8 members, which is less than n_splits=18.\n",
      "  warnings.warn(\n",
      "/opt/homebrew/lib/python3.9/site-packages/sklearn/model_selection/_split.py:680: UserWarning: The least populated class in y has only 8 members, which is less than n_splits=19.\n",
      "  warnings.warn(\n"
     ]
    },
    {
     "name": "stdout",
     "output_type": "stream",
     "text": [
      "> folds=19, accuracy=0.769 (0.737,0.796)\n"
     ]
    },
    {
     "data": {
      "image/png": "[encoded data removed]",
      "text/plain": [
       "<Figure size 432x288 with 1 Axes>"
      ]
     },
     "metadata": {
      "needs_background": "light"
     },
     "output_type": "display_data"
    }
   ],
   "source": [
    "# evaluate the model using a given test condition\n",
    "def evaluate_model(cv):\n",
    "\t# get the model\n",
    "\tmodel = KNeighborsClassifier()\n",
    "\t# evaluate the model\n",
    "\tscores = cross_val_score(model, x_train, y_train, scoring='accuracy', cv=cv, n_jobs=-1)\n",
    "\t# return scores\n",
    "\treturn mean(scores), scores.min(), scores.max()\n",
    " \n",
    "# calculate the ideal test condition\n",
    "ideal, _, _ = evaluate_model(LeaveOneOut())\n",
    "print('Ideal: %.3f' % ideal)\n",
    "\n",
    "# define folds to test\n",
    "folds = range(4,20)\n",
    "\n",
    "# record mean and min/max of each set of results\n",
    "means, mins, maxs = list(),list(),list()\n",
    "# evaluate each k value\n",
    "for k in folds:\n",
    "\t# define the test condition\n",
    "\tcv = StratifiedKFold(n_splits=k, shuffle=True, random_state=42)\n",
    "\t# evaluate k value\n",
    "\tk_mean, k_min, k_max = evaluate_model(cv)\n",
    "\t# report performance\n",
    "\tprint('> folds=%d, accuracy=%.3f (%.3f,%.3f)' % (k, k_mean, k_min, k_max))\n",
    "\t# store mean accuracy\n",
    "\tmeans.append(k_mean)\n",
    "\t# store min and max relative to the mean\n",
    "\tmins.append(k_mean - k_min)\n",
    "\tmaxs.append(k_max - k_mean)\n",
    "\n",
    "plt.title('Line Plot of Mean Accuracy for Cross-Validation k-Values With Error Bars (Blue) vs. the Ideal Case (red)')\n",
    "# line plot of k mean values with min/max error bars\n",
    "plt.errorbar(folds, means, yerr=[mins, maxs], fmt='o')\n",
    "# plot the ideal case in a separate color\n",
    "plt.plot(folds, [ideal for _ in range(len(folds))], color='r')\n",
    "# show the plot\n",
    "plt.show()"
   ]
  },
  {
   "cell_type": "markdown",
   "metadata": {
    "id": "fCP226MYhayC"
   },
   "source": [
    "Cross-validation:\n",
    "\n",
    "Goal - to find the optimal value of K based on F1 Score that is good evaludation for imbalanced data"
   ]
  },
  {
   "cell_type": "code",
   "execution_count": 27,
   "metadata": {
    "colab": {
     "base_uri": "https://localhost:8080/",
     "height": 1000
    },
    "id": "u7ENSaNFl3Je",
    "outputId": "835d1bac-9b1a-4a0c-bb50-925dcca65d6f"
   },
   "outputs": [
    {
     "name": "stderr",
     "output_type": "stream",
     "text": [
      "/opt/homebrew/lib/python3.9/site-packages/sklearn/model_selection/_split.py:680: UserWarning: The least populated class in y has only 8 members, which is less than n_splits=10.\n",
      "  warnings.warn(\n",
      "/opt/homebrew/lib/python3.9/site-packages/sklearn/model_selection/_split.py:680: UserWarning: The least populated class in y has only 8 members, which is less than n_splits=10.\n",
      "  warnings.warn(\n",
      "/opt/homebrew/lib/python3.9/site-packages/sklearn/model_selection/_split.py:680: UserWarning: The least populated class in y has only 8 members, which is less than n_splits=10.\n",
      "  warnings.warn(\n",
      "/opt/homebrew/lib/python3.9/site-packages/sklearn/model_selection/_split.py:680: UserWarning: The least populated class in y has only 8 members, which is less than n_splits=10.\n",
      "  warnings.warn(\n",
      "/opt/homebrew/lib/python3.9/site-packages/sklearn/model_selection/_split.py:680: UserWarning: The least populated class in y has only 8 members, which is less than n_splits=10.\n",
      "  warnings.warn(\n",
      "/opt/homebrew/lib/python3.9/site-packages/sklearn/model_selection/_split.py:680: UserWarning: The least populated class in y has only 8 members, which is less than n_splits=10.\n",
      "  warnings.warn(\n",
      "/opt/homebrew/lib/python3.9/site-packages/sklearn/model_selection/_split.py:680: UserWarning: The least populated class in y has only 8 members, which is less than n_splits=10.\n",
      "  warnings.warn(\n",
      "/opt/homebrew/lib/python3.9/site-packages/sklearn/model_selection/_split.py:680: UserWarning: The least populated class in y has only 8 members, which is less than n_splits=10.\n",
      "  warnings.warn(\n",
      "/opt/homebrew/lib/python3.9/site-packages/sklearn/model_selection/_split.py:680: UserWarning: The least populated class in y has only 8 members, which is less than n_splits=10.\n",
      "  warnings.warn(\n",
      "/opt/homebrew/lib/python3.9/site-packages/sklearn/model_selection/_split.py:680: UserWarning: The least populated class in y has only 8 members, which is less than n_splits=10.\n",
      "  warnings.warn(\n",
      "/opt/homebrew/lib/python3.9/site-packages/sklearn/model_selection/_split.py:680: UserWarning: The least populated class in y has only 8 members, which is less than n_splits=10.\n",
      "  warnings.warn(\n",
      "/opt/homebrew/lib/python3.9/site-packages/sklearn/model_selection/_split.py:680: UserWarning: The least populated class in y has only 8 members, which is less than n_splits=10.\n",
      "  warnings.warn(\n",
      "/opt/homebrew/lib/python3.9/site-packages/sklearn/model_selection/_split.py:680: UserWarning: The least populated class in y has only 8 members, which is less than n_splits=10.\n",
      "  warnings.warn(\n",
      "/opt/homebrew/lib/python3.9/site-packages/sklearn/model_selection/_split.py:680: UserWarning: The least populated class in y has only 8 members, which is less than n_splits=10.\n",
      "  warnings.warn(\n",
      "/opt/homebrew/lib/python3.9/site-packages/sklearn/model_selection/_split.py:680: UserWarning: The least populated class in y has only 8 members, which is less than n_splits=10.\n",
      "  warnings.warn(\n",
      "/opt/homebrew/lib/python3.9/site-packages/sklearn/model_selection/_split.py:680: UserWarning: The least populated class in y has only 8 members, which is less than n_splits=10.\n",
      "  warnings.warn(\n",
      "/opt/homebrew/lib/python3.9/site-packages/sklearn/model_selection/_split.py:680: UserWarning: The least populated class in y has only 8 members, which is less than n_splits=10.\n",
      "  warnings.warn(\n",
      "/opt/homebrew/lib/python3.9/site-packages/sklearn/model_selection/_split.py:680: UserWarning: The least populated class in y has only 8 members, which is less than n_splits=10.\n",
      "  warnings.warn(\n",
      "/opt/homebrew/lib/python3.9/site-packages/sklearn/model_selection/_split.py:680: UserWarning: The least populated class in y has only 8 members, which is less than n_splits=10.\n",
      "  warnings.warn(\n",
      "/opt/homebrew/lib/python3.9/site-packages/sklearn/model_selection/_split.py:680: UserWarning: The least populated class in y has only 8 members, which is less than n_splits=10.\n",
      "  warnings.warn(\n",
      "/opt/homebrew/lib/python3.9/site-packages/sklearn/model_selection/_split.py:680: UserWarning: The least populated class in y has only 8 members, which is less than n_splits=10.\n",
      "  warnings.warn(\n",
      "/opt/homebrew/lib/python3.9/site-packages/sklearn/model_selection/_split.py:680: UserWarning: The least populated class in y has only 8 members, which is less than n_splits=10.\n",
      "  warnings.warn(\n",
      "/opt/homebrew/lib/python3.9/site-packages/sklearn/model_selection/_split.py:680: UserWarning: The least populated class in y has only 8 members, which is less than n_splits=10.\n",
      "  warnings.warn(\n",
      "/opt/homebrew/lib/python3.9/site-packages/sklearn/model_selection/_split.py:680: UserWarning: The least populated class in y has only 8 members, which is less than n_splits=10.\n",
      "  warnings.warn(\n",
      "/opt/homebrew/lib/python3.9/site-packages/sklearn/model_selection/_split.py:680: UserWarning: The least populated class in y has only 8 members, which is less than n_splits=10.\n",
      "  warnings.warn(\n",
      "/opt/homebrew/lib/python3.9/site-packages/sklearn/model_selection/_split.py:680: UserWarning: The least populated class in y has only 8 members, which is less than n_splits=10.\n",
      "  warnings.warn(\n",
      "/opt/homebrew/lib/python3.9/site-packages/sklearn/model_selection/_split.py:680: UserWarning: The least populated class in y has only 8 members, which is less than n_splits=10.\n",
      "  warnings.warn(\n",
      "/opt/homebrew/lib/python3.9/site-packages/sklearn/model_selection/_split.py:680: UserWarning: The least populated class in y has only 8 members, which is less than n_splits=10.\n",
      "  warnings.warn(\n",
      "/opt/homebrew/lib/python3.9/site-packages/sklearn/model_selection/_split.py:680: UserWarning: The least populated class in y has only 8 members, which is less than n_splits=10.\n",
      "  warnings.warn(\n",
      "/opt/homebrew/lib/python3.9/site-packages/sklearn/model_selection/_split.py:680: UserWarning: The least populated class in y has only 8 members, which is less than n_splits=10.\n",
      "  warnings.warn(\n",
      "/opt/homebrew/lib/python3.9/site-packages/sklearn/model_selection/_split.py:680: UserWarning: The least populated class in y has only 8 members, which is less than n_splits=10.\n",
      "  warnings.warn(\n",
      "/opt/homebrew/lib/python3.9/site-packages/sklearn/model_selection/_split.py:680: UserWarning: The least populated class in y has only 8 members, which is less than n_splits=10.\n",
      "  warnings.warn(\n",
      "/opt/homebrew/lib/python3.9/site-packages/sklearn/model_selection/_split.py:680: UserWarning: The least populated class in y has only 8 members, which is less than n_splits=10.\n",
      "  warnings.warn(\n",
      "/opt/homebrew/lib/python3.9/site-packages/sklearn/model_selection/_split.py:680: UserWarning: The least populated class in y has only 8 members, which is less than n_splits=10.\n",
      "  warnings.warn(\n",
      "/opt/homebrew/lib/python3.9/site-packages/sklearn/model_selection/_split.py:680: UserWarning: The least populated class in y has only 8 members, which is less than n_splits=10.\n",
      "  warnings.warn(\n",
      "/opt/homebrew/lib/python3.9/site-packages/sklearn/model_selection/_split.py:680: UserWarning: The least populated class in y has only 8 members, which is less than n_splits=10.\n",
      "  warnings.warn(\n",
      "/opt/homebrew/lib/python3.9/site-packages/sklearn/model_selection/_split.py:680: UserWarning: The least populated class in y has only 8 members, which is less than n_splits=10.\n",
      "  warnings.warn(\n",
      "/opt/homebrew/lib/python3.9/site-packages/sklearn/model_selection/_split.py:680: UserWarning: The least populated class in y has only 8 members, which is less than n_splits=10.\n",
      "  warnings.warn(\n",
      "/opt/homebrew/lib/python3.9/site-packages/sklearn/model_selection/_split.py:680: UserWarning: The least populated class in y has only 8 members, which is less than n_splits=10.\n",
      "  warnings.warn(\n"
     ]
    },
    {
     "name": "stdout",
     "output_type": "stream",
     "text": [
      "Maximum F1_weighted: 0.7612559129797811 at K = 6\n"
     ]
    },
    {
     "data": {
      "image/png": "[encoded data removed]",
      "text/plain": [
       "<Figure size 720x432 with 1 Axes>"
      ]
     },
     "metadata": {
      "needs_background": "light"
     },
     "output_type": "display_data"
    }
   ],
   "source": [
    "# get optimal k value with better f1_weighted using 10-fold cross-validation suggested above \n",
    "\n",
    "acc = []\n",
    "cv = StratifiedKFold(n_splits=10, random_state = 42, shuffle = True)\n",
    "\n",
    "for i in range(1,40):\n",
    "    model = KNeighborsClassifier(n_neighbors = i)\n",
    "    scores = cross_val_score(model, x_train, y_train, cv = cv, scoring = 'f1_weighted')\n",
    "    acc.append(scores.mean())\n",
    "    \n",
    "plt.figure(figsize=(10,6))\n",
    "plt.plot(range(1,40),acc,color = 'blue',linestyle='dashed', \n",
    "         marker='o',markerfacecolor='red', markersize=10)\n",
    "plt.title('f1_weighted vs. K Value with k-fold cross-validation')\n",
    "plt.xlabel('K')\n",
    "plt.ylabel('F1_weighted')\n",
    "print(\"Maximum F1_weighted:\",max(acc),\"at K =\",acc.index(max(acc)))"
   ]
  },
  {
   "cell_type": "code",
   "execution_count": 28,
   "metadata": {
    "colab": {
     "base_uri": "https://localhost:8080/",
     "height": 1000
    },
    "id": "9EK-LN9aIoTX",
    "outputId": "f2e86af6-7a3d-4175-a710-ff6156b03863"
   },
   "outputs": [
    {
     "name": "stderr",
     "output_type": "stream",
     "text": [
      "/opt/homebrew/lib/python3.9/site-packages/sklearn/model_selection/_split.py:680: UserWarning: The least populated class in y has only 8 members, which is less than n_splits=10.\n",
      "  warnings.warn(\n",
      "/opt/homebrew/lib/python3.9/site-packages/sklearn/model_selection/_split.py:680: UserWarning: The least populated class in y has only 8 members, which is less than n_splits=10.\n",
      "  warnings.warn(\n",
      "/opt/homebrew/lib/python3.9/site-packages/sklearn/model_selection/_split.py:680: UserWarning: The least populated class in y has only 8 members, which is less than n_splits=10.\n",
      "  warnings.warn(\n",
      "/opt/homebrew/lib/python3.9/site-packages/sklearn/model_selection/_split.py:680: UserWarning: The least populated class in y has only 8 members, which is less than n_splits=10.\n",
      "  warnings.warn(\n",
      "/opt/homebrew/lib/python3.9/site-packages/sklearn/model_selection/_split.py:680: UserWarning: The least populated class in y has only 8 members, which is less than n_splits=10.\n",
      "  warnings.warn(\n",
      "/opt/homebrew/lib/python3.9/site-packages/sklearn/model_selection/_split.py:680: UserWarning: The least populated class in y has only 8 members, which is less than n_splits=10.\n",
      "  warnings.warn(\n",
      "/opt/homebrew/lib/python3.9/site-packages/sklearn/model_selection/_split.py:680: UserWarning: The least populated class in y has only 8 members, which is less than n_splits=10.\n",
      "  warnings.warn(\n",
      "/opt/homebrew/lib/python3.9/site-packages/sklearn/model_selection/_split.py:680: UserWarning: The least populated class in y has only 8 members, which is less than n_splits=10.\n",
      "  warnings.warn(\n",
      "/opt/homebrew/lib/python3.9/site-packages/sklearn/model_selection/_split.py:680: UserWarning: The least populated class in y has only 8 members, which is less than n_splits=10.\n",
      "  warnings.warn(\n",
      "/opt/homebrew/lib/python3.9/site-packages/sklearn/model_selection/_split.py:680: UserWarning: The least populated class in y has only 8 members, which is less than n_splits=10.\n",
      "  warnings.warn(\n",
      "/opt/homebrew/lib/python3.9/site-packages/sklearn/model_selection/_split.py:680: UserWarning: The least populated class in y has only 8 members, which is less than n_splits=10.\n",
      "  warnings.warn(\n",
      "/opt/homebrew/lib/python3.9/site-packages/sklearn/model_selection/_split.py:680: UserWarning: The least populated class in y has only 8 members, which is less than n_splits=10.\n",
      "  warnings.warn(\n",
      "/opt/homebrew/lib/python3.9/site-packages/sklearn/model_selection/_split.py:680: UserWarning: The least populated class in y has only 8 members, which is less than n_splits=10.\n",
      "  warnings.warn(\n",
      "/opt/homebrew/lib/python3.9/site-packages/sklearn/model_selection/_split.py:680: UserWarning: The least populated class in y has only 8 members, which is less than n_splits=10.\n",
      "  warnings.warn(\n",
      "/opt/homebrew/lib/python3.9/site-packages/sklearn/model_selection/_split.py:680: UserWarning: The least populated class in y has only 8 members, which is less than n_splits=10.\n",
      "  warnings.warn(\n",
      "/opt/homebrew/lib/python3.9/site-packages/sklearn/model_selection/_split.py:680: UserWarning: The least populated class in y has only 8 members, which is less than n_splits=10.\n",
      "  warnings.warn(\n",
      "/opt/homebrew/lib/python3.9/site-packages/sklearn/model_selection/_split.py:680: UserWarning: The least populated class in y has only 8 members, which is less than n_splits=10.\n",
      "  warnings.warn(\n",
      "/opt/homebrew/lib/python3.9/site-packages/sklearn/model_selection/_split.py:680: UserWarning: The least populated class in y has only 8 members, which is less than n_splits=10.\n",
      "  warnings.warn(\n",
      "/opt/homebrew/lib/python3.9/site-packages/sklearn/model_selection/_split.py:680: UserWarning: The least populated class in y has only 8 members, which is less than n_splits=10.\n",
      "  warnings.warn(\n",
      "/opt/homebrew/lib/python3.9/site-packages/sklearn/model_selection/_split.py:680: UserWarning: The least populated class in y has only 8 members, which is less than n_splits=10.\n",
      "  warnings.warn(\n",
      "/opt/homebrew/lib/python3.9/site-packages/sklearn/model_selection/_split.py:680: UserWarning: The least populated class in y has only 8 members, which is less than n_splits=10.\n",
      "  warnings.warn(\n",
      "/opt/homebrew/lib/python3.9/site-packages/sklearn/model_selection/_split.py:680: UserWarning: The least populated class in y has only 8 members, which is less than n_splits=10.\n",
      "  warnings.warn(\n",
      "/opt/homebrew/lib/python3.9/site-packages/sklearn/model_selection/_split.py:680: UserWarning: The least populated class in y has only 8 members, which is less than n_splits=10.\n",
      "  warnings.warn(\n",
      "/opt/homebrew/lib/python3.9/site-packages/sklearn/model_selection/_split.py:680: UserWarning: The least populated class in y has only 8 members, which is less than n_splits=10.\n",
      "  warnings.warn(\n",
      "/opt/homebrew/lib/python3.9/site-packages/sklearn/model_selection/_split.py:680: UserWarning: The least populated class in y has only 8 members, which is less than n_splits=10.\n",
      "  warnings.warn(\n",
      "/opt/homebrew/lib/python3.9/site-packages/sklearn/model_selection/_split.py:680: UserWarning: The least populated class in y has only 8 members, which is less than n_splits=10.\n",
      "  warnings.warn(\n",
      "/opt/homebrew/lib/python3.9/site-packages/sklearn/model_selection/_split.py:680: UserWarning: The least populated class in y has only 8 members, which is less than n_splits=10.\n",
      "  warnings.warn(\n",
      "/opt/homebrew/lib/python3.9/site-packages/sklearn/model_selection/_split.py:680: UserWarning: The least populated class in y has only 8 members, which is less than n_splits=10.\n",
      "  warnings.warn(\n",
      "/opt/homebrew/lib/python3.9/site-packages/sklearn/model_selection/_split.py:680: UserWarning: The least populated class in y has only 8 members, which is less than n_splits=10.\n",
      "  warnings.warn(\n",
      "/opt/homebrew/lib/python3.9/site-packages/sklearn/model_selection/_split.py:680: UserWarning: The least populated class in y has only 8 members, which is less than n_splits=10.\n",
      "  warnings.warn(\n",
      "/opt/homebrew/lib/python3.9/site-packages/sklearn/model_selection/_split.py:680: UserWarning: The least populated class in y has only 8 members, which is less than n_splits=10.\n",
      "  warnings.warn(\n",
      "/opt/homebrew/lib/python3.9/site-packages/sklearn/model_selection/_split.py:680: UserWarning: The least populated class in y has only 8 members, which is less than n_splits=10.\n",
      "  warnings.warn(\n",
      "/opt/homebrew/lib/python3.9/site-packages/sklearn/model_selection/_split.py:680: UserWarning: The least populated class in y has only 8 members, which is less than n_splits=10.\n",
      "  warnings.warn(\n",
      "/opt/homebrew/lib/python3.9/site-packages/sklearn/model_selection/_split.py:680: UserWarning: The least populated class in y has only 8 members, which is less than n_splits=10.\n",
      "  warnings.warn(\n",
      "/opt/homebrew/lib/python3.9/site-packages/sklearn/model_selection/_split.py:680: UserWarning: The least populated class in y has only 8 members, which is less than n_splits=10.\n",
      "  warnings.warn(\n",
      "/opt/homebrew/lib/python3.9/site-packages/sklearn/model_selection/_split.py:680: UserWarning: The least populated class in y has only 8 members, which is less than n_splits=10.\n",
      "  warnings.warn(\n",
      "/opt/homebrew/lib/python3.9/site-packages/sklearn/model_selection/_split.py:680: UserWarning: The least populated class in y has only 8 members, which is less than n_splits=10.\n",
      "  warnings.warn(\n",
      "/opt/homebrew/lib/python3.9/site-packages/sklearn/model_selection/_split.py:680: UserWarning: The least populated class in y has only 8 members, which is less than n_splits=10.\n",
      "  warnings.warn(\n",
      "/opt/homebrew/lib/python3.9/site-packages/sklearn/model_selection/_split.py:680: UserWarning: The least populated class in y has only 8 members, which is less than n_splits=10.\n",
      "  warnings.warn(\n"
     ]
    },
    {
     "name": "stdout",
     "output_type": "stream",
     "text": [
      "Maximum accuracy: 0.7764462604634988 at K = 12\n"
     ]
    },
    {
     "data": {
      "image/png": "[encoded data removed]",
      "text/plain": [
       "<Figure size 720x432 with 1 Axes>"
      ]
     },
     "metadata": {
      "needs_background": "light"
     },
     "output_type": "display_data"
    }
   ],
   "source": [
    "# get optimal k value with better accuracy using 10-fold cross-validation suggested above \n",
    "\n",
    "acc = []\n",
    "cv = StratifiedKFold(n_splits=10, random_state = 42, shuffle = True)\n",
    "\n",
    "for i in range(1,40):\n",
    "    model = KNeighborsClassifier(n_neighbors = i)\n",
    "    scores = cross_val_score(model, x_train, y_train, cv = cv, scoring = 'accuracy')\n",
    "    acc.append(scores.mean())\n",
    "    \n",
    "plt.figure(figsize=(10,6))\n",
    "plt.plot(range(1,40),acc,color = 'blue',linestyle='dashed', \n",
    "         marker='o',markerfacecolor='red', markersize=10)\n",
    "plt.title('accuracy vs. K Value with k-fold cross-validation')\n",
    "plt.xlabel('K')\n",
    "plt.ylabel('accuracy')\n",
    "print(\"Maximum accuracy:\",max(acc),\"at K =\",acc.index(max(acc)))"
   ]
  },
  {
   "cell_type": "markdown",
   "metadata": {
    "id": "qiYE-uZ53ue-"
   },
   "source": [
    "Cross-validation: Model Selection\n",
    "\n",
    "Cross-validation in KNN Model"
   ]
  },
  {
   "cell_type": "code",
   "execution_count": 29,
   "metadata": {
    "colab": {
     "base_uri": "https://localhost:8080/"
    },
    "id": "undPN3giJknE",
    "outputId": "5377d353-c04e-4eca-dfa7-7e761641cf12"
   },
   "outputs": [
    {
     "name": "stdout",
     "output_type": "stream",
     "text": [
      "[[   0    3    2    7]\n",
      " [   0  683   57  341]\n",
      " [   0   86  627  766]\n",
      " [   0  302  489 5699]]\n",
      "              precision    recall  f1-score   support\n",
      "\n",
      "      Amazon       0.00      0.00      0.00        12\n",
      "      Disney       0.64      0.63      0.63      1081\n",
      "        Hulu       0.53      0.42      0.47      1479\n",
      "     Netflix       0.84      0.88      0.86      6490\n",
      "\n",
      "    accuracy                           0.77      9062\n",
      "   macro avg       0.50      0.48      0.49      9062\n",
      "weighted avg       0.76      0.77      0.77      9062\n",
      "\n",
      "roc_auc: 0.7567526749230791\n"
     ]
    },
    {
     "name": "stderr",
     "output_type": "stream",
     "text": [
      "/opt/homebrew/lib/python3.9/site-packages/sklearn/metrics/_classification.py:1327: UndefinedMetricWarning: Precision and F-score are ill-defined and being set to 0.0 in labels with no predicted samples. Use `zero_division` parameter to control this behavior.\n",
      "  _warn_prf(average, modifier, msg_start, len(result))\n",
      "/opt/homebrew/lib/python3.9/site-packages/sklearn/metrics/_classification.py:1327: UndefinedMetricWarning: Precision and F-score are ill-defined and being set to 0.0 in labels with no predicted samples. Use `zero_division` parameter to control this behavior.\n",
      "  _warn_prf(average, modifier, msg_start, len(result))\n",
      "/opt/homebrew/lib/python3.9/site-packages/sklearn/metrics/_classification.py:1327: UndefinedMetricWarning: Precision and F-score are ill-defined and being set to 0.0 in labels with no predicted samples. Use `zero_division` parameter to control this behavior.\n",
      "  _warn_prf(average, modifier, msg_start, len(result))\n"
     ]
    },
    {
     "name": "stdout",
     "output_type": "stream",
     "text": [
      "test score: 0.7734512778950083\n",
      "fit time: 0.004734849929809571\n",
      "score time: 0.010408234596252442\n"
     ]
    }
   ],
   "source": [
    "# Normal\n",
    "knn = KNeighborsClassifier(n_neighbors = 6)\n",
    "cv = StratifiedKFold(n_splits=10, random_state = 42, shuffle = True)\n",
    "pipe = Pipeline([('model',knn)])\n",
    "knn_pred = cross_val_predict(pipe, x, y, cv = cv)\n",
    "\n",
    "print(confusion_matrix(y, knn_pred))\n",
    "print(classification_report(y, knn_pred))\n",
    "print(\"roc_auc:\", cross_val_score(pipe,  x, y, cv=cv, scoring='roc_auc_ovo').mean())\n",
    "\n",
    "# Evaludate the efficiency\n",
    "cv_results_knn = cross_validate(pipe, x, y, cv=cv)\n",
    "\n",
    "print(\"test score:\", cv_results_knn['test_score'].mean())\n",
    "print(\"fit time:\", cv_results_knn['fit_time'].mean())\n",
    "print(\"score time:\", cv_results_knn['score_time'].mean())\n"
   ]
  },
  {
   "cell_type": "code",
   "execution_count": 30,
   "metadata": {
    "colab": {
     "base_uri": "https://localhost:8080/"
    },
    "id": "iS8phdJwRkBK",
    "outputId": "b41a0b8c-8d8f-496b-8a1d-e0f5f60dc79f"
   },
   "outputs": [
    {
     "name": "stdout",
     "output_type": "stream",
     "text": [
      "[[   5    2    2    3]\n",
      " [  35  842  107   97]\n",
      " [  14  179  981  305]\n",
      " [  92  740 1440 4218]]\n",
      "              precision    recall  f1-score   support\n",
      "\n",
      "      Amazon       0.03      0.42      0.06        12\n",
      "      Disney       0.48      0.78      0.59      1081\n",
      "        Hulu       0.39      0.66      0.49      1479\n",
      "     Netflix       0.91      0.65      0.76      6490\n",
      "\n",
      "    accuracy                           0.67      9062\n",
      "   macro avg       0.45      0.63      0.48      9062\n",
      "weighted avg       0.77      0.67      0.69      9062\n",
      "\n",
      "roc_auc: 0.8025436930568777\n",
      "test score: 0.6671845907839687\n",
      "fit time: 0.03192591667175293\n",
      "score time: 0.011041593551635743\n"
     ]
    }
   ],
   "source": [
    "# SMOTE\n",
    "knn = KNeighborsClassifier(n_neighbors = 6)\n",
    "cv = StratifiedKFold(n_splits=10, random_state = 42, shuffle = True)\n",
    "pipe = Pipeline([('over',SMOTE(random_state=42)), ('model',knn)])\n",
    "knn_pred = cross_val_predict(pipe, x, y, cv = cv)\n",
    "\n",
    "print(confusion_matrix(y, knn_pred))\n",
    "print(classification_report(y, knn_pred))\n",
    "print(\"roc_auc:\", cross_val_score(pipe, x, y, cv=cv, scoring='roc_auc_ovo').mean())\n",
    "\n",
    "# Evaludate the efficiency\n",
    "cv_results_knn = cross_validate(pipe, x, y, cv=cv)\n",
    "\n",
    "print(\"test score:\", cv_results_knn['test_score'].mean())\n",
    "print(\"fit time:\", cv_results_knn['fit_time'].mean())\n",
    "print(\"score time:\", cv_results_knn['score_time'].mean())\n"
   ]
  },
  {
   "cell_type": "code",
   "execution_count": 31,
   "metadata": {
    "colab": {
     "base_uri": "https://localhost:8080/"
    },
    "id": "MupIzS9rMLxu",
    "outputId": "2881372f-710f-476d-a21c-ff97095a6da1"
   },
   "outputs": [
    {
     "name": "stdout",
     "output_type": "stream",
     "text": [
      "[[   1    6    2    3]\n",
      " [   6  850  136   89]\n",
      " [   4  183  981  311]\n",
      " [  15  762 1600 4113]]\n",
      "              precision    recall  f1-score   support\n",
      "\n",
      "      Amazon       0.04      0.08      0.05        12\n",
      "      Disney       0.47      0.79      0.59      1081\n",
      "        Hulu       0.36      0.66      0.47      1479\n",
      "     Netflix       0.91      0.63      0.75      6490\n",
      "\n",
      "    accuracy                           0.66      9062\n",
      "   macro avg       0.45      0.54      0.46      9062\n",
      "weighted avg       0.77      0.66      0.68      9062\n",
      "\n",
      "roc_auc: 0.746304026805033\n",
      "test score: 0.6560386349973593\n",
      "fit time: 0.020770764350891112\n",
      "score time: 0.010562586784362792\n"
     ]
    }
   ],
   "source": [
    "# ROSE\n",
    "knn = KNeighborsClassifier(n_neighbors = 6)\n",
    "cv = StratifiedKFold(n_splits=10, random_state = 42, shuffle = True)\n",
    "pipe = Pipeline([('over',RandomOverSampler(random_state=42)), ('model',knn)])\n",
    "knn_pred = cross_val_predict(pipe, x, y, cv = cv)\n",
    "\n",
    "print(confusion_matrix(y, knn_pred))\n",
    "print(classification_report(y, knn_pred))\n",
    "print(\"roc_auc:\", cross_val_score(pipe, x, y, cv=cv, scoring='roc_auc_ovo').mean())\n",
    "\n",
    "# Evaludate the efficiency\n",
    "cv_results_knn = cross_validate(pipe, x, y, cv=cv)\n",
    "\n",
    "print(\"test score:\", cv_results_knn['test_score'].mean())\n",
    "print(\"fit time:\", cv_results_knn['fit_time'].mean())\n",
    "print(\"score time:\", cv_results_knn['score_time'].mean())\n"
   ]
  },
  {
   "cell_type": "markdown",
   "metadata": {
    "id": "PGp0bYu6nvUl"
   },
   "source": [
    "Cross-validation in Logistic Regression Model\n",
    "\n"
   ]
  },
  {
   "cell_type": "code",
   "execution_count": 32,
   "metadata": {
    "colab": {
     "base_uri": "https://localhost:8080/"
    },
    "id": "zTA98co8MyYL",
    "outputId": "76036cf4-0deb-4cac-d973-d222cf44aec7"
   },
   "outputs": [
    {
     "name": "stdout",
     "output_type": "stream",
     "text": [
      "[[   0    1    0   11]\n",
      " [   0  163   24  894]\n",
      " [   0   39  393 1047]\n",
      " [   0  112  391 5987]]\n",
      "              precision    recall  f1-score   support\n",
      "\n",
      "      Amazon       0.00      0.00      0.00        12\n",
      "      Disney       0.52      0.15      0.23      1081\n",
      "        Hulu       0.49      0.27      0.34      1479\n",
      "     Netflix       0.75      0.92      0.83      6490\n",
      "\n",
      "    accuracy                           0.72      9062\n",
      "   macro avg       0.44      0.33      0.35      9062\n",
      "weighted avg       0.68      0.72      0.68      9062\n",
      "\n"
     ]
    },
    {
     "name": "stderr",
     "output_type": "stream",
     "text": [
      "/opt/homebrew/lib/python3.9/site-packages/sklearn/metrics/_classification.py:1327: UndefinedMetricWarning: Precision and F-score are ill-defined and being set to 0.0 in labels with no predicted samples. Use `zero_division` parameter to control this behavior.\n",
      "  _warn_prf(average, modifier, msg_start, len(result))\n",
      "/opt/homebrew/lib/python3.9/site-packages/sklearn/metrics/_classification.py:1327: UndefinedMetricWarning: Precision and F-score are ill-defined and being set to 0.0 in labels with no predicted samples. Use `zero_division` parameter to control this behavior.\n",
      "  _warn_prf(average, modifier, msg_start, len(result))\n",
      "/opt/homebrew/lib/python3.9/site-packages/sklearn/metrics/_classification.py:1327: UndefinedMetricWarning: Precision and F-score are ill-defined and being set to 0.0 in labels with no predicted samples. Use `zero_division` parameter to control this behavior.\n",
      "  _warn_prf(average, modifier, msg_start, len(result))\n"
     ]
    },
    {
     "name": "stdout",
     "output_type": "stream",
     "text": [
      "roc_auc: 0.7798011841657043\n",
      "test score: 0.7220269865724279\n",
      "fit time: 0.03817265033721924\n",
      "score time: 0.0003875017166137695\n"
     ]
    }
   ],
   "source": [
    "# Normal\n",
    "logreg = LogisticRegression(random_state=42, solver=\"lbfgs\", max_iter=1000)\n",
    "cv = StratifiedKFold(n_splits=10, random_state = 42, shuffle = True)\n",
    "pipe = Pipeline([('model',logreg)])\n",
    "logreg_pred = cross_val_predict(pipe, x, y, cv = cv)\n",
    "\n",
    "print(confusion_matrix(y, logreg_pred))\n",
    "print(classification_report(y, logreg_pred))\n",
    "\n",
    "print(\"roc_auc:\", cross_val_score(pipe, x, y, cv=cv, scoring='roc_auc_ovo').mean())\n",
    "\n",
    "# Evaludate the efficiency\n",
    "cv_results_logreg = cross_validate(pipe, x, y, cv=cv)\n",
    "\n",
    "print(\"test score:\", cv_results_logreg['test_score'].mean())\n",
    "print(\"fit time:\", cv_results_logreg['fit_time'].mean())\n",
    "print(\"score time:\", cv_results_logreg['score_time'].mean())"
   ]
  },
  {
   "cell_type": "code",
   "execution_count": 33,
   "metadata": {
    "colab": {
     "base_uri": "https://localhost:8080/"
    },
    "id": "sbG_fegznnWb",
    "outputId": "81016b6f-eb94-49ca-aacd-bc1214d58abb"
   },
   "outputs": [
    {
     "name": "stdout",
     "output_type": "stream",
     "text": [
      "[[   9    2    1    0]\n",
      " [ 164  511  142  264]\n",
      " [ 155  143  820  361]\n",
      " [ 770  829 1820 3071]]\n",
      "              precision    recall  f1-score   support\n",
      "\n",
      "      Amazon       0.01      0.75      0.02        12\n",
      "      Disney       0.34      0.47      0.40      1081\n",
      "        Hulu       0.29      0.55      0.38      1479\n",
      "     Netflix       0.83      0.47      0.60      6490\n",
      "\n",
      "    accuracy                           0.49      9062\n",
      "   macro avg       0.37      0.56      0.35      9062\n",
      "weighted avg       0.68      0.49      0.54      9062\n",
      "\n",
      "roc_auc: 0.8307199927429506\n",
      "test score: 0.4867633636834919\n",
      "fit time: 0.1570295810699463\n",
      "score time: 0.0008397579193115234\n"
     ]
    }
   ],
   "source": [
    "# SMOTE\n",
    "logreg = LogisticRegression(random_state=42, solver=\"lbfgs\", max_iter=1000)\n",
    "cv = StratifiedKFold(n_splits=10, random_state = 42, shuffle = True)\n",
    "pipe = Pipeline([('over',SMOTE(random_state=42)),('model',logreg)])\n",
    "logreg_pred = cross_val_predict(pipe, x, y, cv = cv)\n",
    "\n",
    "print(confusion_matrix(y, logreg_pred))\n",
    "print(classification_report(y, logreg_pred))\n",
    "\n",
    "print(\"roc_auc:\", cross_val_score(pipe, x, y, cv=cv, scoring='roc_auc_ovo').mean())\n",
    "\n",
    "# Evaludate the efficiency\n",
    "cv_results_logreg = cross_validate(pipe, x, y, cv=cv)\n",
    "\n",
    "print(\"test score:\", cv_results_logreg['test_score'].mean())\n",
    "print(\"fit time:\", cv_results_logreg['fit_time'].mean())\n",
    "print(\"score time:\", cv_results_logreg['score_time'].mean())"
   ]
  },
  {
   "cell_type": "code",
   "execution_count": 34,
   "metadata": {
    "colab": {
     "base_uri": "https://localhost:8080/"
    },
    "id": "nWeXPEsbNbib",
    "outputId": "19c0b4ec-7054-42d4-e515-e2267a2ef2a8"
   },
   "outputs": [
    {
     "name": "stdout",
     "output_type": "stream",
     "text": [
      "[[  10    2    0    0]\n",
      " [ 166  492  138  285]\n",
      " [ 157  139  779  404]\n",
      " [ 789  762 1751 3188]]\n",
      "              precision    recall  f1-score   support\n",
      "\n",
      "      Amazon       0.01      0.83      0.02        12\n",
      "      Disney       0.35      0.46      0.40      1081\n",
      "        Hulu       0.29      0.53      0.38      1479\n",
      "     Netflix       0.82      0.49      0.62      6490\n",
      "\n",
      "    accuracy                           0.49      9062\n",
      "   macro avg       0.37      0.58      0.35      9062\n",
      "weighted avg       0.68      0.49      0.55      9062\n",
      "\n",
      "roc_auc: 0.8323667996152257\n",
      "test score: 0.49316257414127546\n",
      "fit time: 0.12047932147979737\n",
      "score time: 0.0007708549499511718\n"
     ]
    }
   ],
   "source": [
    "# ROSE\n",
    "logreg = LogisticRegression(random_state=42, solver=\"lbfgs\", max_iter=1000)\n",
    "cv = StratifiedKFold(n_splits=10, random_state = 42, shuffle = True)\n",
    "pipe = Pipeline([('over',RandomOverSampler(random_state=42)),('model',logreg)])\n",
    "logreg_pred = cross_val_predict(pipe, x, y, cv = cv)\n",
    "\n",
    "print(confusion_matrix(y, logreg_pred))\n",
    "print(classification_report(y, logreg_pred))\n",
    "\n",
    "print(\"roc_auc:\", cross_val_score(pipe, x, y, cv=cv, scoring='roc_auc_ovo').mean())\n",
    "\n",
    "# Evaludate the efficiency\n",
    "cv_results_logreg = cross_validate(pipe, x, y, cv=cv)\n",
    "\n",
    "print(\"test score:\", cv_results_logreg['test_score'].mean())\n",
    "print(\"fit time:\", cv_results_logreg['fit_time'].mean())\n",
    "print(\"score time:\", cv_results_logreg['score_time'].mean())"
   ]
  },
  {
   "cell_type": "markdown",
   "metadata": {
    "id": "ZS2d15h123ft"
   },
   "source": [
    "Cross-valiation in Naive Bayes Model"
   ]
  },
  {
   "cell_type": "code",
   "execution_count": 35,
   "metadata": {
    "colab": {
     "base_uri": "https://localhost:8080/",
     "height": 105
    },
    "id": "JPD__ND1zB8J",
    "outputId": "cc78cca8-81c3-4166-e8ea-b4fc78cb92a5"
   },
   "outputs": [
    {
     "data": {
      "text/plain": [
       "'# Normal\\n# cannot use multinominal Naive Bayes as negative value is not allowed\\nnaibay = MultinomialNB()\\ncv = StratifiedKFold(n_splits=10, random_state = 42, shuffle = True)\\npipe = Pipeline([ (\\'model\\',naibay)])\\nnaibay_pred = cross_val_predict(pipe, x, y, cv = cv)\\n\\nprint(confusion_matrix(y, naibay_pred))\\nprint(classification_report(y, naibay_pred))\\nprint(\"roc_auc:\", cross_val_score(pipe, x, y, cv=cv, scoring=\\'roc_auc_ovo\\').mean())\\n\\n# Evaludate the efficiency\\ncv_results_naibay = cross_validate(pipe, x, y, cv=cv)\\n\\nprint(\"test score:\", cv_results_naibay[\\'test_score\\'].mean())\\nprint(\"fit time:\", cv_results_naibay[\\'fit_time\\'].mean())\\nprint(\"score time:\", cv_results_naibay[\\'score_time\\'].mean())'"
      ]
     },
     "execution_count": 35,
     "metadata": {},
     "output_type": "execute_result"
    }
   ],
   "source": [
    "'''# Normal\n",
    "# cannot use multinominal Naive Bayes as negative value is not allowed\n",
    "naibay = MultinomialNB()\n",
    "cv = StratifiedKFold(n_splits=10, random_state = 42, shuffle = True)\n",
    "pipe = Pipeline([ ('model',naibay)])\n",
    "naibay_pred = cross_val_predict(pipe, x, y, cv = cv)\n",
    "\n",
    "print(confusion_matrix(y, naibay_pred))\n",
    "print(classification_report(y, naibay_pred))\n",
    "print(\"roc_auc:\", cross_val_score(pipe, x, y, cv=cv, scoring='roc_auc_ovo').mean())\n",
    "\n",
    "# Evaludate the efficiency\n",
    "cv_results_naibay = cross_validate(pipe, x, y, cv=cv)\n",
    "\n",
    "print(\"test score:\", cv_results_naibay['test_score'].mean())\n",
    "print(\"fit time:\", cv_results_naibay['fit_time'].mean())\n",
    "print(\"score time:\", cv_results_naibay['score_time'].mean())'''"
   ]
  },
  {
   "cell_type": "markdown",
   "metadata": {
    "id": "anthkBTFo9At"
   },
   "source": [
    "Cross-valiation in Random Forest Model"
   ]
  },
  {
   "cell_type": "code",
   "execution_count": 36,
   "metadata": {
    "colab": {
     "base_uri": "https://localhost:8080/"
    },
    "id": "xXqybpcGN7FY",
    "outputId": "a449ec3b-114a-4331-fea9-3d7ab49b5ea8"
   },
   "outputs": [
    {
     "name": "stdout",
     "output_type": "stream",
     "text": [
      "[[   0    3    1    8]\n",
      " [   0  690   83  308]\n",
      " [   1   88  672  718]\n",
      " [   3  259  513 5715]]\n",
      "              precision    recall  f1-score   support\n",
      "\n",
      "      Amazon       0.00      0.00      0.00        12\n",
      "      Disney       0.66      0.64      0.65      1081\n",
      "        Hulu       0.53      0.45      0.49      1479\n",
      "     Netflix       0.85      0.88      0.86      6490\n",
      "\n",
      "    accuracy                           0.78      9062\n",
      "   macro avg       0.51      0.49      0.50      9062\n",
      "weighted avg       0.77      0.78      0.78      9062\n",
      "\n",
      "roc_auc: 0.8056322133274024\n",
      "test score: 0.7809547278829609\n",
      "fit time: 0.32245216369628904\n",
      "score time: 0.013683462142944336\n"
     ]
    }
   ],
   "source": [
    "# Normal\n",
    "ranfor = RandomForestClassifier(random_state=42)\n",
    "cv = StratifiedKFold(n_splits=10, random_state = 42, shuffle = True)\n",
    "pipe = Pipeline([('model',ranfor)])\n",
    "ranfor_pred = cross_val_predict(pipe, x, y, cv = cv)\n",
    "\n",
    "print(confusion_matrix(y, ranfor_pred))\n",
    "print(classification_report(y, ranfor_pred))\n",
    "print(\"roc_auc:\", cross_val_score(pipe, x, y, cv=cv, scoring='roc_auc_ovo').mean())\n",
    "\n",
    "# Evaludate the efficiency\n",
    "cv_results_ranfor = cross_validate(pipe, x, y, cv=cv)\n",
    "\n",
    "print(\"test score:\", cv_results_ranfor['test_score'].mean())\n",
    "print(\"fit time:\", cv_results_ranfor['fit_time'].mean())\n",
    "print(\"score time:\", cv_results_ranfor['score_time'].mean())"
   ]
  },
  {
   "cell_type": "code",
   "execution_count": 37,
   "metadata": {
    "colab": {
     "base_uri": "https://localhost:8080/"
    },
    "id": "RarpH_Pi3MVz",
    "outputId": "940e9fa9-2cae-44b8-a62d-0ba713684f17"
   },
   "outputs": [
    {
     "name": "stdout",
     "output_type": "stream",
     "text": [
      "[[   3    3    1    5]\n",
      " [  18  744   92  227]\n",
      " [   4  105  758  612]\n",
      " [  24  359  718 5389]]\n",
      "              precision    recall  f1-score   support\n",
      "\n",
      "      Amazon       0.06      0.25      0.10        12\n",
      "      Disney       0.61      0.69      0.65      1081\n",
      "        Hulu       0.48      0.51      0.50      1479\n",
      "     Netflix       0.86      0.83      0.85      6490\n",
      "\n",
      "    accuracy                           0.76      9062\n",
      "   macro avg       0.51      0.57      0.52      9062\n",
      "weighted avg       0.77      0.76      0.77      9062\n",
      "\n",
      "roc_auc: 0.8413680261884771\n",
      "test score: 0.7607599465525675\n",
      "fit time: 1.3765745401382445\n",
      "score time: 0.015421724319458008\n"
     ]
    }
   ],
   "source": [
    "# SMOTE\n",
    "ranfor = RandomForestClassifier(random_state=42)\n",
    "cv = StratifiedKFold(n_splits=10, random_state = 42, shuffle = True)\n",
    "pipe = Pipeline([('over',SMOTE(random_state=42)), ('model',ranfor)])\n",
    "ranfor_pred = cross_val_predict(pipe, x, y, cv = cv)\n",
    "\n",
    "print(confusion_matrix(y, ranfor_pred))\n",
    "print(classification_report(y, ranfor_pred))\n",
    "print(\"roc_auc:\", cross_val_score(pipe, x, y, cv=cv, scoring='roc_auc_ovo').mean())\n",
    "\n",
    "# Evaludate the efficiency\n",
    "cv_results_ranfor = cross_validate(pipe, x, y, cv=cv)\n",
    "\n",
    "print(\"test score:\", cv_results_ranfor['test_score'].mean())\n",
    "print(\"fit time:\", cv_results_ranfor['fit_time'].mean())\n",
    "print(\"score time:\", cv_results_ranfor['score_time'].mean())"
   ]
  },
  {
   "cell_type": "code",
   "execution_count": 38,
   "metadata": {
    "colab": {
     "base_uri": "https://localhost:8080/"
    },
    "id": "ibN5Ei0FOLbq",
    "outputId": "1c73ccf6-dca7-4482-ea28-234d8bce8d4c"
   },
   "outputs": [
    {
     "name": "stdout",
     "output_type": "stream",
     "text": [
      "[[   1    3    3    5]\n",
      " [   1  745  105  230]\n",
      " [   2  110  770  597]\n",
      " [   5  396  877 5212]]\n",
      "              precision    recall  f1-score   support\n",
      "\n",
      "      Amazon       0.11      0.08      0.10        12\n",
      "      Disney       0.59      0.69      0.64      1081\n",
      "        Hulu       0.44      0.52      0.48      1479\n",
      "     Netflix       0.86      0.80      0.83      6490\n",
      "\n",
      "    accuracy                           0.74      9062\n",
      "   macro avg       0.50      0.52      0.51      9062\n",
      "weighted avg       0.76      0.74      0.75      9062\n",
      "\n",
      "roc_auc: 0.7915194910729757\n",
      "test score: 0.7424430052254845\n",
      "fit time: 0.7148479223251343\n",
      "score time: 0.014410257339477539\n"
     ]
    }
   ],
   "source": [
    "# ROSE\n",
    "ranfor = RandomForestClassifier(random_state=42)\n",
    "cv = StratifiedKFold(n_splits=10, random_state = 42, shuffle = True)\n",
    "pipe = Pipeline([('over',RandomOverSampler(random_state=42)), ('model',ranfor)])\n",
    "ranfor_pred = cross_val_predict(pipe, x, y, cv = cv)\n",
    "\n",
    "print(confusion_matrix(y, ranfor_pred))\n",
    "print(classification_report(y, ranfor_pred))\n",
    "print(\"roc_auc:\", cross_val_score(pipe, x, y, cv=cv, scoring='roc_auc_ovo').mean())\n",
    "\n",
    "# Evaludate the efficiency\n",
    "cv_results_ranfor = cross_validate(pipe, x, y, cv=cv)\n",
    "\n",
    "print(\"test score:\", cv_results_ranfor['test_score'].mean())\n",
    "print(\"fit time:\", cv_results_ranfor['fit_time'].mean())\n",
    "print(\"score time:\", cv_results_ranfor['score_time'].mean())"
   ]
  },
  {
   "cell_type": "code",
   "execution_count": 39,
   "metadata": {
    "colab": {
     "base_uri": "https://localhost:8080/"
    },
    "id": "xzS70ma-9r3m",
    "outputId": "7f197a40-367e-41ad-9e74-129f2bb6513b"
   },
   "outputs": [
    {
     "name": "stdout",
     "output_type": "stream",
     "text": [
      "[[   3    5    2    2]\n",
      " [   4  793   75  209]\n",
      " [   4   86  623  766]\n",
      " [ 150  469  704 5167]]\n",
      "              precision    recall  f1-score   support\n",
      "\n",
      "      Amazon       0.02      0.25      0.03        12\n",
      "      Disney       0.59      0.73      0.65      1081\n",
      "        Hulu       0.44      0.42      0.43      1479\n",
      "     Netflix       0.84      0.80      0.82      6490\n",
      "\n",
      "    accuracy                           0.73      9062\n",
      "   macro avg       0.47      0.55      0.48      9062\n",
      "weighted avg       0.74      0.73      0.73      9062\n",
      "\n",
      "roc_auc: 0.8406565763467683\n",
      "test score: 0.7267742186720405\n",
      "fit time: 2.245896816253662\n",
      "score time: 0.02152254581451416\n"
     ]
    }
   ],
   "source": [
    "# SMOTE, SelectFromModel\n",
    "ranfor = RandomForestClassifier(random_state=42)\n",
    "cv = StratifiedKFold(n_splits=10, random_state = 42, shuffle = True)\n",
    "sfm = SelectFromModel(estimator=ranfor)\n",
    "pipe = Pipeline([('over',SMOTE(random_state=42)), ('sfm',sfm), ('model',ranfor)])\n",
    "ranfor_pred = cross_val_predict(pipe, x, y, cv = cv)\n",
    "\n",
    "print(confusion_matrix(y, ranfor_pred))\n",
    "print(classification_report(y, ranfor_pred))\n",
    "print(\"roc_auc:\", cross_val_score(pipe, x, y, cv=cv, scoring='roc_auc_ovo').mean())\n",
    "\n",
    "# Evaludate the efficiency\n",
    "cv_results_ranfor = cross_validate(pipe, x, y, cv=cv)\n",
    "\n",
    "print(\"test score:\", cv_results_ranfor['test_score'].mean())\n",
    "print(\"fit time:\", cv_results_ranfor['fit_time'].mean())\n",
    "print(\"score time:\", cv_results_ranfor['score_time'].mean())"
   ]
  },
  {
   "cell_type": "code",
   "execution_count": 40,
   "metadata": {
    "colab": {
     "base_uri": "https://localhost:8080/"
    },
    "id": "GnCiBa0WCNiO",
    "outputId": "5ae81c0a-80a0-4f8c-969e-690b27a7f81e"
   },
   "outputs": [
    {
     "name": "stdout",
     "output_type": "stream",
     "text": [
      "[[   1    3    3    5]\n",
      " [   1  745  105  230]\n",
      " [   2  110  770  597]\n",
      " [   5  396  877 5212]]\n",
      "              precision    recall  f1-score   support\n",
      "\n",
      "      Amazon       0.11      0.08      0.10        12\n",
      "      Disney       0.59      0.69      0.64      1081\n",
      "        Hulu       0.44      0.52      0.48      1479\n",
      "     Netflix       0.86      0.80      0.83      6490\n",
      "\n",
      "    accuracy                           0.74      9062\n",
      "   macro avg       0.50      0.52      0.51      9062\n",
      "weighted avg       0.76      0.74      0.75      9062\n",
      "\n",
      "roc_auc: 0.7915194910729757\n",
      "test score: 0.7424430052254845\n",
      "fit time: 29.833912014961243\n",
      "score time: 0.015037202835083007\n"
     ]
    }
   ],
   "source": [
    "# SMOTE, RFECV\n",
    "ranfor = RandomForestClassifier(random_state=42)\n",
    "cv = StratifiedKFold(n_splits=10, random_state = 42, shuffle = True)\n",
    "rfecv = RFECV(estimator=ranfor, cv=cv, scoring='f1_weighted')\n",
    "pipe = Pipeline([('over',RandomOverSampler(random_state=42)), ('rfecv',rfecv), ('model',ranfor)])\n",
    "ranfor_pred = cross_val_predict(pipe, x, y, cv = cv)\n",
    "\n",
    "print(confusion_matrix(y, ranfor_pred))\n",
    "print(classification_report(y, ranfor_pred))\n",
    "print(\"roc_auc:\", cross_val_score(pipe, x, y, cv=cv, scoring='roc_auc_ovo').mean())\n",
    "\n",
    "# Evaludate the efficiency\n",
    "cv_results_ranfor = cross_validate(pipe, x, y, cv=cv)\n",
    "\n",
    "print(\"test score:\", cv_results_ranfor['test_score'].mean())\n",
    "print(\"fit time:\", cv_results_ranfor['fit_time'].mean())\n",
    "print(\"score time:\", cv_results_ranfor['score_time'].mean())"
   ]
  },
  {
   "cell_type": "markdown",
   "metadata": {
    "id": "L21e7U9uUNUV"
   },
   "source": [
    "Cross-valiation in Decision Tree Model"
   ]
  },
  {
   "cell_type": "code",
   "execution_count": 41,
   "metadata": {
    "id": "OnmbLXrhlBOx"
   },
   "outputs": [
    {
     "name": "stdout",
     "output_type": "stream",
     "text": [
      "[[   1    3    1    7]\n",
      " [   3  693  100  285]\n",
      " [   1  107  708  663]\n",
      " [   7  365  764 5354]]\n",
      "              precision    recall  f1-score   support\n",
      "\n",
      "      Amazon       0.08      0.08      0.08        12\n",
      "      Disney       0.59      0.64      0.62      1081\n",
      "        Hulu       0.45      0.48      0.46      1479\n",
      "     Netflix       0.85      0.82      0.84      6490\n",
      "\n",
      "    accuracy                           0.75      9062\n",
      "   macro avg       0.49      0.51      0.50      9062\n",
      "weighted avg       0.75      0.75      0.75      9062\n",
      "\n",
      "roc_auc: 0.6721124553437554\n",
      "test score: 0.745531565868606\n",
      "fit time: 0.011173248291015625\n",
      "score time: 0.0005541324615478515\n"
     ]
    }
   ],
   "source": [
    "# Normal\n",
    "dectre = tree.DecisionTreeClassifier(random_state=42)\n",
    "cv = StratifiedKFold(n_splits=10, random_state = 42, shuffle = True)\n",
    "pipe = Pipeline([('model',dectre)])\n",
    "dectre_scores = cross_val_predict(pipe, x, y, cv = cv)\n",
    "\n",
    "print(confusion_matrix(y, dectre_scores))\n",
    "print(classification_report(y, dectre_scores))\n",
    "print(\"roc_auc:\", cross_val_score(pipe, x, y, cv=cv, scoring='roc_auc_ovo').mean())\n",
    "\n",
    "# Evaludate the efficiency\n",
    "cv_results_dectre = cross_validate(pipe, x, y,cv=cv)\n",
    "\n",
    "print(\"test score:\", cv_results_dectre['test_score'].mean())\n",
    "print(\"fit time:\", cv_results_dectre['fit_time'].mean())\n",
    "print(\"score time:\", cv_results_dectre['score_time'].mean())"
   ]
  },
  {
   "cell_type": "code",
   "execution_count": 42,
   "metadata": {
    "id": "u24Yd6ohT_K6"
   },
   "outputs": [
    {
     "name": "stdout",
     "output_type": "stream",
     "text": [
      "[[   2    3    1    6]\n",
      " [  11  704  103  263]\n",
      " [   4  125  703  647]\n",
      " [  24  414  841 5211]]\n",
      "              precision    recall  f1-score   support\n",
      "\n",
      "      Amazon       0.05      0.17      0.08        12\n",
      "      Disney       0.57      0.65      0.61      1081\n",
      "        Hulu       0.43      0.48      0.45      1479\n",
      "     Netflix       0.85      0.80      0.83      6490\n",
      "\n",
      "    accuracy                           0.73      9062\n",
      "   macro avg       0.47      0.52      0.49      9062\n",
      "weighted avg       0.75      0.73      0.74      9062\n",
      "\n",
      "roc_auc: 0.6872186186437378\n",
      "test score: 0.7305255177415783\n",
      "fit time: 0.07154765129089355\n",
      "score time: 0.0005299806594848633\n"
     ]
    }
   ],
   "source": [
    "# SMOTE\n",
    "dectre = tree.DecisionTreeClassifier(random_state=42)\n",
    "cv = StratifiedKFold(n_splits=10, random_state = 42, shuffle = True)\n",
    "pipe = Pipeline([('over',SMOTE(random_state=42)), ('model',dectre)])\n",
    "dectre_scores = cross_val_predict(pipe, x, y, cv = cv)\n",
    "\n",
    "print(confusion_matrix(y, dectre_scores))\n",
    "print(classification_report(y, dectre_scores))\n",
    "print(\"roc_auc:\", cross_val_score(pipe, x, y, cv=cv, scoring='roc_auc_ovo').mean())\n",
    "\n",
    "# Evaludate the efficiency\n",
    "cv_results_dectre = cross_validate(pipe, x, y,cv=cv)\n",
    "\n",
    "print(\"test score:\", cv_results_dectre['test_score'].mean())\n",
    "print(\"fit time:\", cv_results_dectre['fit_time'].mean())\n",
    "print(\"score time:\", cv_results_dectre['score_time'].mean())"
   ]
  },
  {
   "cell_type": "code",
   "execution_count": 43,
   "metadata": {
    "id": "Tz-xHILflJnH"
   },
   "outputs": [
    {
     "name": "stdout",
     "output_type": "stream",
     "text": [
      "[[   1    2    2    7]\n",
      " [   2  702  106  271]\n",
      " [   2  105  708  664]\n",
      " [   5  401  914 5170]]\n",
      "              precision    recall  f1-score   support\n",
      "\n",
      "      Amazon       0.10      0.08      0.09        12\n",
      "      Disney       0.58      0.65      0.61      1081\n",
      "        Hulu       0.41      0.48      0.44      1479\n",
      "     Netflix       0.85      0.80      0.82      6490\n",
      "\n",
      "    accuracy                           0.73      9062\n",
      "   macro avg       0.48      0.50      0.49      9062\n",
      "weighted avg       0.74      0.73      0.73      9062\n",
      "\n",
      "roc_auc: 0.6707079121983203\n",
      "test score: 0.7262225856777432\n",
      "fit time: 0.03348979949951172\n",
      "score time: 0.00047986507415771485\n"
     ]
    }
   ],
   "source": [
    "# ROSE\n",
    "dectre = tree.DecisionTreeClassifier(random_state=42)\n",
    "cv = StratifiedKFold(n_splits=10, random_state = 42, shuffle = True)\n",
    "pipe = Pipeline([('over',RandomOverSampler(random_state=42)), ('model',dectre)])\n",
    "dectre_scores = cross_val_predict(pipe, x, y, cv = cv)\n",
    "\n",
    "print(confusion_matrix(y, dectre_scores))\n",
    "print(classification_report(y, dectre_scores))\n",
    "print(\"roc_auc:\", cross_val_score(pipe, x, y, cv=cv, scoring='roc_auc_ovo').mean())\n",
    "\n",
    "# Evaludate the efficiency\n",
    "cv_results_dectre = cross_validate(pipe, x, y,cv=cv)\n",
    "\n",
    "print(\"test score:\", cv_results_dectre['test_score'].mean())\n",
    "print(\"fit time:\", cv_results_dectre['fit_time'].mean())\n",
    "print(\"score time:\", cv_results_dectre['score_time'].mean())"
   ]
  },
  {
   "cell_type": "code",
   "execution_count": 44,
   "metadata": {
    "id": "1Kx8S0LeybNz"
   },
   "outputs": [
    {
     "name": "stdout",
     "output_type": "stream",
     "text": [
      "0.79794886959654 {'max_depth': 9}\n"
     ]
    },
    {
     "data": {
      "text/plain": [
       "<function sklearn.tree._export.plot_tree(decision_tree, *, max_depth=None, feature_names=None, class_names=None, label='all', filled=False, impurity=True, node_ids=False, proportion=False, rounded=False, precision=3, ax=None, fontsize=None)>"
      ]
     },
     "execution_count": 44,
     "metadata": {},
     "output_type": "execute_result"
    }
   ],
   "source": [
    "# find optimal depth\n",
    "depth = []\n",
    "cv = StratifiedKFold(n_splits=10, random_state = 42, shuffle = True)\n",
    "parameters = [{'max_depth':range(3,50)}]\n",
    "clf = GridSearchCV(tree.DecisionTreeClassifier(), parameters, cv=cv, n_jobs=-1)\n",
    "clf.fit(X=x, y=y)\n",
    "tree_model = clf.best_estimator_\n",
    "print (clf.best_score_, clf.best_params_)\n",
    "tree.plot_tree\n"
   ]
  },
  {
   "cell_type": "markdown",
   "metadata": {
    "id": "TmG2cJ9394Tb"
   },
   "source": [
    "According the result above, Random Forest is better model. New input will be used in Random Forest to predict class."
   ]
  },
  {
   "cell_type": "code",
   "execution_count": 45,
   "metadata": {
    "id": "ooY0akgVEYwe"
   },
   "outputs": [
    {
     "data": {
      "text/html": [
       "<div>\n",
       "<style scoped>\n",
       "    .dataframe tbody tr th:only-of-type {\n",
       "        vertical-align: middle;\n",
       "    }\n",
       "\n",
       "    .dataframe tbody tr th {\n",
       "        vertical-align: top;\n",
       "    }\n",
       "\n",
       "    .dataframe thead th {\n",
       "        text-align: right;\n",
       "    }\n",
       "</style>\n",
       "<table border=\"1\" class=\"dataframe\">\n",
       "  <thead>\n",
       "    <tr style=\"text-align: right;\">\n",
       "      <th></th>\n",
       "      <th>imdb_rating</th>\n",
       "      <th>year_added</th>\n",
       "      <th>release_year</th>\n",
       "      <th>certificate_num</th>\n",
       "      <th>type_num</th>\n",
       "    </tr>\n",
       "  </thead>\n",
       "  <tbody>\n",
       "    <tr>\n",
       "      <th>0</th>\n",
       "      <td>10.0</td>\n",
       "      <td>2023.0</td>\n",
       "      <td>2023.0</td>\n",
       "      <td>0.0</td>\n",
       "      <td>0.0</td>\n",
       "    </tr>\n",
       "    <tr>\n",
       "      <th>1</th>\n",
       "      <td>10.0</td>\n",
       "      <td>2023.0</td>\n",
       "      <td>2023.0</td>\n",
       "      <td>1.0</td>\n",
       "      <td>0.0</td>\n",
       "    </tr>\n",
       "    <tr>\n",
       "      <th>2</th>\n",
       "      <td>10.0</td>\n",
       "      <td>2023.0</td>\n",
       "      <td>2023.0</td>\n",
       "      <td>2.0</td>\n",
       "      <td>0.0</td>\n",
       "    </tr>\n",
       "  </tbody>\n",
       "</table>\n",
       "</div>"
      ],
      "text/plain": [
       "   imdb_rating  year_added  release_year  certificate_num  type_num\n",
       "0         10.0      2023.0        2023.0              0.0       0.0\n",
       "1         10.0      2023.0        2023.0              1.0       0.0\n",
       "2         10.0      2023.0        2023.0              2.0       0.0"
      ]
     },
     "execution_count": 45,
     "metadata": {},
     "output_type": "execute_result"
    }
   ],
   "source": [
    "new_input = np.array([[10.0, 2023, 2023, 0, 0],\n",
    "                      [10.0, 2023, 2023, 1, 0],\n",
    "                      [10.0, 2023, 2023, 2, 0],\n",
    "                      [10.0, 2023, 2023, 3, 0],\n",
    "                      [10.0, 2023, 2023, 4, 0],\n",
    "                      [10.0, 2023, 2023, 5, 0],\n",
    "                      [10.0, 2023, 2023, 6, 0],\n",
    "\n",
    "                      [10.0, 2023, 2023, 0, 1],\n",
    "                      [10.0, 2023, 2023, 1, 1],\n",
    "                      [10.0, 2023, 2023, 2, 1],\n",
    "                      [10.0, 2023, 2023, 3, 1],\n",
    "                      [10.0, 2023, 2023, 4, 1],\n",
    "                      [10.0, 2023, 2023, 5, 1],\n",
    "                      [10.0, 2023, 2023, 6, 1],\n",
    "\n",
    "                      [10.0, 2024, 2024, 0, 0],\n",
    "                      [10.0, 2024, 2024, 1, 0],\n",
    "                      [10.0, 2024, 2024, 2, 0],\n",
    "                      [10.0, 2024, 2024, 3, 0],\n",
    "                      [10.0, 2024, 2024, 4, 0],\n",
    "                      [10.0, 2024, 2024, 5, 0],\n",
    "                      [10.0, 2024, 2024, 6, 0],\n",
    "\n",
    "                      [10.0, 2024, 2024, 0, 1],\n",
    "                      [10.0, 2024, 2024, 1, 1],\n",
    "                      [10.0, 2024, 2024, 2, 1],\n",
    "                      [10.0, 2024, 2024, 3, 1],\n",
    "                      [10.0, 2024, 2024, 4, 1],\n",
    "                      [10.0, 2024, 2024, 5, 1],\n",
    "                      [10.0, 2024, 2024, 6, 1],\n",
    "\n",
    "                      [10.0, 2027, 2027, 0, 0],\n",
    "                      [10.0, 2027, 2027, 1, 0],\n",
    "                      [10.0, 2027, 2027, 2, 0],\n",
    "                      [10.0, 2027, 2027, 3, 0],\n",
    "                      [10.0, 2027, 2027, 4, 0],\n",
    "                      [10.0, 2027, 2027, 5, 0],\n",
    "                      [10.0, 2027, 2027, 6, 0],\n",
    "\n",
    "                      ])\n",
    "\n",
    "new_table = pd.DataFrame(new_input, columns = [\"imdb_rating\",\"year_added\",\"release_year\",\"certificate_num\",\"type_num\"])\n",
    "new_table.head(3)"
   ]
  },
  {
   "cell_type": "code",
   "execution_count": 46,
   "metadata": {
    "id": "80Owgon9HBl3"
   },
   "outputs": [
    {
     "name": "stdout",
     "output_type": "stream",
     "text": [
      "    imdb_rating  year_added  release_year  certificate_num  type_num  predict\n",
      "0          10.0      2023.0        2023.0              0.0       0.0  Netflix\n",
      "1          10.0      2023.0        2023.0              1.0       0.0  Netflix\n",
      "2          10.0      2023.0        2023.0              2.0       0.0  Netflix\n",
      "3          10.0      2023.0        2023.0              3.0       0.0  Netflix\n",
      "4          10.0      2023.0        2023.0              4.0       0.0  Netflix\n",
      "5          10.0      2023.0        2023.0              5.0       0.0  Netflix\n",
      "6          10.0      2023.0        2023.0              6.0       0.0  Netflix\n",
      "7          10.0      2023.0        2023.0              0.0       1.0  Netflix\n",
      "8          10.0      2023.0        2023.0              1.0       1.0  Netflix\n",
      "9          10.0      2023.0        2023.0              2.0       1.0  Netflix\n",
      "10         10.0      2023.0        2023.0              3.0       1.0  Netflix\n",
      "11         10.0      2023.0        2023.0              4.0       1.0  Netflix\n",
      "12         10.0      2023.0        2023.0              5.0       1.0  Netflix\n",
      "13         10.0      2023.0        2023.0              6.0       1.0  Netflix\n",
      "14         10.0      2024.0        2024.0              0.0       0.0  Netflix\n",
      "15         10.0      2024.0        2024.0              1.0       0.0  Netflix\n",
      "16         10.0      2024.0        2024.0              2.0       0.0  Netflix\n",
      "17         10.0      2024.0        2024.0              3.0       0.0  Netflix\n",
      "18         10.0      2024.0        2024.0              4.0       0.0  Netflix\n",
      "19         10.0      2024.0        2024.0              5.0       0.0  Netflix\n",
      "20         10.0      2024.0        2024.0              6.0       0.0  Netflix\n",
      "21         10.0      2024.0        2024.0              0.0       1.0  Netflix\n",
      "22         10.0      2024.0        2024.0              1.0       1.0  Netflix\n",
      "23         10.0      2024.0        2024.0              2.0       1.0  Netflix\n",
      "24         10.0      2024.0        2024.0              3.0       1.0  Netflix\n",
      "25         10.0      2024.0        2024.0              4.0       1.0  Netflix\n",
      "26         10.0      2024.0        2024.0              5.0       1.0  Netflix\n",
      "27         10.0      2024.0        2024.0              6.0       1.0  Netflix\n",
      "28         10.0      2027.0        2027.0              0.0       0.0  Netflix\n",
      "29         10.0      2027.0        2027.0              1.0       0.0  Netflix\n",
      "30         10.0      2027.0        2027.0              2.0       0.0  Netflix\n",
      "31         10.0      2027.0        2027.0              3.0       0.0  Netflix\n",
      "32         10.0      2027.0        2027.0              4.0       0.0  Netflix\n",
      "33         10.0      2027.0        2027.0              5.0       0.0  Netflix\n",
      "34         10.0      2027.0        2027.0              6.0       0.0  Netflix\n"
     ]
    },
    {
     "name": "stderr",
     "output_type": "stream",
     "text": [
      "/opt/homebrew/lib/python3.9/site-packages/sklearn/base.py:443: UserWarning: X has feature names, but RandomForestClassifier was fitted without feature names\n",
      "  warnings.warn(\n"
     ]
    }
   ],
   "source": [
    "# apply new data to Random Forest\n",
    "\n",
    "ranfor = RandomForestClassifier(random_state=42)\n",
    "sm = SMOTE(random_state=42)\n",
    "x_sm, y_sm = sm.fit_resample(x, y)\n",
    "ranfor.fit(x_sm, y_sm)\n",
    "new_output = ranfor.predict(new_table)\n",
    "new_pred = new_table\n",
    "new_pred['predict'] = pd.DataFrame(new_output, columns=['predict'])\n",
    "print(new_pred)"
   ]
  },
  {
   "cell_type": "code",
   "execution_count": 47,
   "metadata": {
    "id": "GIx7bXEryEaH"
   },
   "outputs": [
    {
     "data": {
      "text/html": [
       "<div>\n",
       "<style scoped>\n",
       "    .dataframe tbody tr th:only-of-type {\n",
       "        vertical-align: middle;\n",
       "    }\n",
       "\n",
       "    .dataframe tbody tr th {\n",
       "        vertical-align: top;\n",
       "    }\n",
       "\n",
       "    .dataframe thead th {\n",
       "        text-align: right;\n",
       "    }\n",
       "</style>\n",
       "<table border=\"1\" class=\"dataframe\">\n",
       "  <thead>\n",
       "    <tr style=\"text-align: right;\">\n",
       "      <th></th>\n",
       "      <th>certificate</th>\n",
       "      <th>certificate_num</th>\n",
       "      <th>service_name</th>\n",
       "      <th>count</th>\n",
       "    </tr>\n",
       "  </thead>\n",
       "  <tbody>\n",
       "    <tr>\n",
       "      <th>0</th>\n",
       "      <td>Adult</td>\n",
       "      <td>0</td>\n",
       "      <td>Amazon</td>\n",
       "      <td>3</td>\n",
       "    </tr>\n",
       "    <tr>\n",
       "      <th>18</th>\n",
       "      <td>Teens</td>\n",
       "      <td>6</td>\n",
       "      <td>Amazon</td>\n",
       "      <td>1</td>\n",
       "    </tr>\n",
       "    <tr>\n",
       "      <th>9</th>\n",
       "      <td>Parental Guidance</td>\n",
       "      <td>3</td>\n",
       "      <td>Amazon</td>\n",
       "      <td>7</td>\n",
       "    </tr>\n",
       "    <tr>\n",
       "      <th>6</th>\n",
       "      <td>No Rating</td>\n",
       "      <td>2</td>\n",
       "      <td>Amazon</td>\n",
       "      <td>1</td>\n",
       "    </tr>\n",
       "    <tr>\n",
       "      <th>19</th>\n",
       "      <td>Teens</td>\n",
       "      <td>6</td>\n",
       "      <td>Disney</td>\n",
       "      <td>122</td>\n",
       "    </tr>\n",
       "    <tr>\n",
       "      <th>15</th>\n",
       "      <td>Suitable For All</td>\n",
       "      <td>5</td>\n",
       "      <td>Disney</td>\n",
       "      <td>241</td>\n",
       "    </tr>\n",
       "    <tr>\n",
       "      <th>10</th>\n",
       "      <td>Parental Guidance</td>\n",
       "      <td>3</td>\n",
       "      <td>Disney</td>\n",
       "      <td>308</td>\n",
       "    </tr>\n",
       "    <tr>\n",
       "      <th>3</th>\n",
       "      <td>Kids</td>\n",
       "      <td>1</td>\n",
       "      <td>Disney</td>\n",
       "      <td>410</td>\n",
       "    </tr>\n",
       "    <tr>\n",
       "      <th>7</th>\n",
       "      <td>No Rating</td>\n",
       "      <td>2</td>\n",
       "      <td>Hulu</td>\n",
       "      <td>1</td>\n",
       "    </tr>\n",
       "    <tr>\n",
       "      <th>4</th>\n",
       "      <td>Kids</td>\n",
       "      <td>1</td>\n",
       "      <td>Hulu</td>\n",
       "      <td>240</td>\n",
       "    </tr>\n",
       "    <tr>\n",
       "      <th>20</th>\n",
       "      <td>Teens</td>\n",
       "      <td>6</td>\n",
       "      <td>Hulu</td>\n",
       "      <td>759</td>\n",
       "    </tr>\n",
       "    <tr>\n",
       "      <th>11</th>\n",
       "      <td>Parental Guidance</td>\n",
       "      <td>3</td>\n",
       "      <td>Hulu</td>\n",
       "      <td>53</td>\n",
       "    </tr>\n",
       "    <tr>\n",
       "      <th>13</th>\n",
       "      <td>Persons 18 and over</td>\n",
       "      <td>4</td>\n",
       "      <td>Hulu</td>\n",
       "      <td>189</td>\n",
       "    </tr>\n",
       "    <tr>\n",
       "      <th>16</th>\n",
       "      <td>Suitable For All</td>\n",
       "      <td>5</td>\n",
       "      <td>Hulu</td>\n",
       "      <td>10</td>\n",
       "    </tr>\n",
       "    <tr>\n",
       "      <th>1</th>\n",
       "      <td>Adult</td>\n",
       "      <td>0</td>\n",
       "      <td>Hulu</td>\n",
       "      <td>227</td>\n",
       "    </tr>\n",
       "    <tr>\n",
       "      <th>8</th>\n",
       "      <td>No Rating</td>\n",
       "      <td>2</td>\n",
       "      <td>Netflix</td>\n",
       "      <td>62</td>\n",
       "    </tr>\n",
       "    <tr>\n",
       "      <th>12</th>\n",
       "      <td>Parental Guidance</td>\n",
       "      <td>3</td>\n",
       "      <td>Netflix</td>\n",
       "      <td>302</td>\n",
       "    </tr>\n",
       "    <tr>\n",
       "      <th>14</th>\n",
       "      <td>Persons 18 and over</td>\n",
       "      <td>4</td>\n",
       "      <td>Netflix</td>\n",
       "      <td>872</td>\n",
       "    </tr>\n",
       "    <tr>\n",
       "      <th>17</th>\n",
       "      <td>Suitable For All</td>\n",
       "      <td>5</td>\n",
       "      <td>Netflix</td>\n",
       "      <td>42</td>\n",
       "    </tr>\n",
       "    <tr>\n",
       "      <th>2</th>\n",
       "      <td>Adult</td>\n",
       "      <td>0</td>\n",
       "      <td>Netflix</td>\n",
       "      <td>2321</td>\n",
       "    </tr>\n",
       "    <tr>\n",
       "      <th>5</th>\n",
       "      <td>Kids</td>\n",
       "      <td>1</td>\n",
       "      <td>Netflix</td>\n",
       "      <td>819</td>\n",
       "    </tr>\n",
       "    <tr>\n",
       "      <th>21</th>\n",
       "      <td>Teens</td>\n",
       "      <td>6</td>\n",
       "      <td>Netflix</td>\n",
       "      <td>2072</td>\n",
       "    </tr>\n",
       "  </tbody>\n",
       "</table>\n",
       "</div>"
      ],
      "text/plain": [
       "            certificate  certificate_num service_name  count\n",
       "0                 Adult                0       Amazon      3\n",
       "18                Teens                6       Amazon      1\n",
       "9     Parental Guidance                3       Amazon      7\n",
       "6             No Rating                2       Amazon      1\n",
       "19                Teens                6       Disney    122\n",
       "15     Suitable For All                5       Disney    241\n",
       "10    Parental Guidance                3       Disney    308\n",
       "3                  Kids                1       Disney    410\n",
       "7             No Rating                2         Hulu      1\n",
       "4                  Kids                1         Hulu    240\n",
       "20                Teens                6         Hulu    759\n",
       "11    Parental Guidance                3         Hulu     53\n",
       "13  Persons 18 and over                4         Hulu    189\n",
       "16     Suitable For All                5         Hulu     10\n",
       "1                 Adult                0         Hulu    227\n",
       "8             No Rating                2      Netflix     62\n",
       "12    Parental Guidance                3      Netflix    302\n",
       "14  Persons 18 and over                4      Netflix    872\n",
       "17     Suitable For All                5      Netflix     42\n",
       "2                 Adult                0      Netflix   2321\n",
       "5                  Kids                1      Netflix    819\n",
       "21                Teens                6      Netflix   2072"
      ]
     },
     "execution_count": 47,
     "metadata": {},
     "output_type": "execute_result"
    }
   ],
   "source": [
    "# check if it is because Netflix does not have other certificate so that Amazon is leading\n",
    "df.groupby([\"certificate\",\"certificate_num\",\"service_name\"]).size().reset_index().rename(columns={0:\"count\"}).sort_values(\"service_name\")"
   ]
  },
  {
   "cell_type": "code",
   "execution_count": 48,
   "metadata": {
    "id": "EMJbtY8Eynw3"
   },
   "outputs": [
    {
     "data": {
      "text/html": [
       "<div>\n",
       "<style scoped>\n",
       "    .dataframe tbody tr th:only-of-type {\n",
       "        vertical-align: middle;\n",
       "    }\n",
       "\n",
       "    .dataframe tbody tr th {\n",
       "        vertical-align: top;\n",
       "    }\n",
       "\n",
       "    .dataframe thead th {\n",
       "        text-align: right;\n",
       "    }\n",
       "</style>\n",
       "<table border=\"1\" class=\"dataframe\">\n",
       "  <thead>\n",
       "    <tr style=\"text-align: right;\">\n",
       "      <th></th>\n",
       "      <th>imdb_rating</th>\n",
       "      <th>year_added</th>\n",
       "      <th>release_year</th>\n",
       "      <th>type_num</th>\n",
       "    </tr>\n",
       "  </thead>\n",
       "  <tbody>\n",
       "    <tr>\n",
       "      <th>0</th>\n",
       "      <td>10.0</td>\n",
       "      <td>2023.0</td>\n",
       "      <td>2023.0</td>\n",
       "      <td>0.0</td>\n",
       "    </tr>\n",
       "    <tr>\n",
       "      <th>1</th>\n",
       "      <td>10.0</td>\n",
       "      <td>2023.0</td>\n",
       "      <td>2023.0</td>\n",
       "      <td>0.0</td>\n",
       "    </tr>\n",
       "    <tr>\n",
       "      <th>2</th>\n",
       "      <td>10.0</td>\n",
       "      <td>2023.0</td>\n",
       "      <td>2023.0</td>\n",
       "      <td>0.0</td>\n",
       "    </tr>\n",
       "  </tbody>\n",
       "</table>\n",
       "</div>"
      ],
      "text/plain": [
       "   imdb_rating  year_added  release_year  type_num\n",
       "0         10.0      2023.0        2023.0       0.0\n",
       "1         10.0      2023.0        2023.0       0.0\n",
       "2         10.0      2023.0        2023.0       0.0"
      ]
     },
     "execution_count": 48,
     "metadata": {},
     "output_type": "execute_result"
    }
   ],
   "source": [
    "# take away certificate_num\n",
    "new_input2 = np.array([[10.0, 2023, 2023, 0],\n",
    "                      [10.0, 2023, 2023, 0],\n",
    "                      [10.0, 2023, 2023, 0],\n",
    "                      [10.0, 2023, 2023, 0],\n",
    "                      [10.0, 2023, 2023, 0],\n",
    "                      [10.0, 2023, 2023, 0],\n",
    "                      [10.0, 2023, 2023, 0],\n",
    "\n",
    "                      [10.0, 2023, 2023, 1],\n",
    "                      [10.0, 2023, 2023, 1],\n",
    "                      [10.0, 2023, 2023, 1],\n",
    "                      [10.0, 2023, 2023, 1],\n",
    "                      [10.0, 2023, 2023, 1],\n",
    "                      [10.0, 2023, 2023, 1],\n",
    "                      [10.0, 2023, 2023, 1],\n",
    "\n",
    "                      [10.0, 2027, 2027, 0],\n",
    "                      [10.0, 2027, 2027, 0],\n",
    "                      [10.0, 2027, 2027, 0],\n",
    "                      [10.0, 2027, 2027, 0],\n",
    "                      [10.0, 2027, 2027, 0],\n",
    "                      [10.0, 2027, 2027, 0],\n",
    "                      [10.0, 2027, 2027, 0],\n",
    "\n",
    "                      ])\n",
    "\n",
    "new_table2 = pd.DataFrame(new_input2, columns = [\"imdb_rating\",\"year_added\",\"release_year\",\"type_num\"])\n",
    "new_table2.head(3)"
   ]
  },
  {
   "cell_type": "code",
   "execution_count": 49,
   "metadata": {
    "id": "cBvHN1d4zCBk"
   },
   "outputs": [
    {
     "name": "stdout",
     "output_type": "stream",
     "text": [
      "    imdb_rating  year_added  release_year  type_num  predict\n",
      "0          10.0      2023.0        2023.0       0.0  Netflix\n",
      "1          10.0      2023.0        2023.0       0.0  Netflix\n",
      "2          10.0      2023.0        2023.0       0.0  Netflix\n",
      "3          10.0      2023.0        2023.0       0.0  Netflix\n",
      "4          10.0      2023.0        2023.0       0.0  Netflix\n",
      "5          10.0      2023.0        2023.0       0.0  Netflix\n",
      "6          10.0      2023.0        2023.0       0.0  Netflix\n",
      "7          10.0      2023.0        2023.0       1.0  Netflix\n",
      "8          10.0      2023.0        2023.0       1.0  Netflix\n",
      "9          10.0      2023.0        2023.0       1.0  Netflix\n",
      "10         10.0      2023.0        2023.0       1.0  Netflix\n",
      "11         10.0      2023.0        2023.0       1.0  Netflix\n",
      "12         10.0      2023.0        2023.0       1.0  Netflix\n",
      "13         10.0      2023.0        2023.0       1.0  Netflix\n",
      "14         10.0      2027.0        2027.0       0.0  Netflix\n",
      "15         10.0      2027.0        2027.0       0.0  Netflix\n",
      "16         10.0      2027.0        2027.0       0.0  Netflix\n",
      "17         10.0      2027.0        2027.0       0.0  Netflix\n",
      "18         10.0      2027.0        2027.0       0.0  Netflix\n",
      "19         10.0      2027.0        2027.0       0.0  Netflix\n",
      "20         10.0      2027.0        2027.0       0.0  Netflix\n"
     ]
    }
   ],
   "source": [
    "# remove certificate to see if it is impact\n",
    "\n",
    "# train the data without certificate_num\n",
    "#x = df_normalize[df_normalize.columns[:-1]]\n",
    "#y = df_normalize['service_name']\n",
    "\n",
    "#x_train, x_test, y_train, y_test = train_test_split(x, y, test_size = 0.3, random_state = 42, stratify=y)\n",
    "\n",
    "x_train2 = pd.DataFrame(x_train, columns = [\"imdb_rating\",\"year_added\",\"release_year\",\"certificate_num\",\"type_num\"])\n",
    "sm = SMOTE(sampling_strategy='minority',random_state=42)\n",
    "x_sm2, y_sm2 = sm.fit_resample(x_train2, y_train)\n",
    "x_sm2 = x_sm2.drop(\"certificate_num\", axis=1)\n",
    "\n",
    "# fit into Random Forest Classifier\n",
    "ranfor = RandomForestClassifier(random_state=42)\n",
    "ranfor.fit(x_sm2, y_sm2)\n",
    "\n",
    "# predict class using new input\n",
    "new_output2 = ranfor.predict(new_table2)\n",
    "new_pred2 = new_table2\n",
    "new_pred2['predict'] = pd.DataFrame(new_output2, columns=['predict'])\n",
    "print(new_pred2)"
   ]
  },
  {
   "cell_type": "markdown",
   "metadata": {
    "id": "848TlbwSWrtS"
   },
   "source": [
    "\n",
    "Evaluate Genre using model"
   ]
  },
  {
   "cell_type": "code",
   "execution_count": 50,
   "metadata": {
    "id": "YQcPPTUP7W-P"
   },
   "outputs": [
    {
     "name": "stdout",
     "output_type": "stream",
     "text": [
      "     year_added      genre  num_of_show service_name\n",
      "0          2008  Adventure            1         Hulu\n",
      "1          2008     Comedy            2         Hulu\n",
      "2          2008      Drama            1         Hulu\n",
      "3          2008     Family            2         Hulu\n",
      "4          2009     Action            7         Hulu\n",
      "..          ...        ...          ...          ...\n",
      "529        2021   Thriller          111      Netflix\n",
      "530        2021        War            1         Hulu\n",
      "531        2021        War            9      Netflix\n",
      "532        2021    Western            2         Hulu\n",
      "533        2021    Western            5      Netflix\n",
      "\n",
      "[534 rows x 4 columns]\n"
     ]
    }
   ],
   "source": [
    "encorder = preprocessing.LabelEncoder()\n",
    "\n",
    "# get a dataframe with individual genre\n",
    "b = df[[\"title\",\"type\",\"year_added\",\"genre\",\"service_name\"]]\n",
    "#this function is to separate genres to rows\n",
    "\n",
    "# convert listed of genres to rows, vertically stack to a dataframe\n",
    "b = pd.DataFrame(df.genre.str.split(',').tolist(), index=[df.title, df.year_added, df.service_name]).stack()\n",
    "b = b.reset_index()[[0, 'title','year_added','service_name']]\n",
    "b.columns = ['genre', 'title','year_added','service_name']  # rename columns\n",
    "b2 = b.groupby(['year_added','genre','service_name']).genre.agg(['count']).rename(columns={'count':'num_of_show'}).reset_index()\n",
    "b2 = b2[[\"year_added\",\"genre\",\"num_of_show\",\"service_name\"]]\n",
    "\n",
    "print(b2)"
   ]
  },
  {
   "cell_type": "code",
   "execution_count": 51,
   "metadata": {
    "id": "pi5AzknCeGBw"
   },
   "outputs": [],
   "source": [
    "# put genre in numeric so that we can apply into model\n",
    "#lables, uniques = pd.factorize(b2[\"genre\"])\n",
    "#lables\n",
    "#b2[\"genre_num\"] = pd.factorize(b2[\"genre\"])[0]\n",
    "#b2.groupby([\"genre\",\"genre_num\"]).size().reset_index().rename(columns={0:\"count\"}).sort_values(\"genre_num\")\n"
   ]
  },
  {
   "cell_type": "code",
   "execution_count": 52,
   "metadata": {
    "id": "UyWCBnYQjNoz"
   },
   "outputs": [],
   "source": [
    "b2['genre'] = encorder.fit_transform(b2['genre'])"
   ]
  },
  {
   "cell_type": "code",
   "execution_count": 53,
   "metadata": {
    "id": "z3Lv3YAAV4fj"
   },
   "outputs": [
    {
     "data": {
      "text/plain": [
       "year_added      0\n",
       "genre           0\n",
       "num_of_show     0\n",
       "service_name    0\n",
       "dtype: int64"
      ]
     },
     "execution_count": 53,
     "metadata": {},
     "output_type": "execute_result"
    }
   ],
   "source": [
    "b2.isna().sum()"
   ]
  },
  {
   "cell_type": "code",
   "execution_count": 54,
   "metadata": {
    "id": "RcQDn69mfQpC"
   },
   "outputs": [
    {
     "data": {
      "image/png": "[encoded data removed]",
      "text/plain": [
       "<Figure size 432x288 with 2 Axes>"
      ]
     },
     "metadata": {
      "needs_background": "light"
     },
     "output_type": "display_data"
    }
   ],
   "source": [
    "# visualization of correlation\n",
    " \n",
    "hm_b2 = sns.heatmap(b2.corr(), annot = True)\n",
    " \n",
    "hm_b2.set(title = \"Correlation\")\n",
    " \n",
    "plt.show()"
   ]
  },
  {
   "cell_type": "code",
   "execution_count": 55,
   "metadata": {
    "id": "wgZOptDxhtqk"
   },
   "outputs": [
    {
     "data": {
      "text/plain": [
       "<AxesSubplot:>"
      ]
     },
     "execution_count": 55,
     "metadata": {},
     "output_type": "execute_result"
    },
    {
     "data": {
      "image/png": "[encoded data removed]",
      "text/plain": [
       "<Figure size 432x288 with 1 Axes>"
      ]
     },
     "metadata": {
      "needs_background": "light"
     },
     "output_type": "display_data"
    }
   ],
   "source": [
    "# check if data is imbalanced or not\n",
    "b2['service_name'].value_counts().plot(kind='barh')\n",
    "    "
   ]
  },
  {
   "cell_type": "code",
   "execution_count": 56,
   "metadata": {
    "id": "hakgf3-Yth6G"
   },
   "outputs": [
    {
     "data": {
      "text/html": [
       "<div>\n",
       "<style scoped>\n",
       "    .dataframe tbody tr th:only-of-type {\n",
       "        vertical-align: middle;\n",
       "    }\n",
       "\n",
       "    .dataframe tbody tr th {\n",
       "        vertical-align: top;\n",
       "    }\n",
       "\n",
       "    .dataframe thead th {\n",
       "        text-align: right;\n",
       "    }\n",
       "</style>\n",
       "<table border=\"1\" class=\"dataframe\">\n",
       "  <thead>\n",
       "    <tr style=\"text-align: right;\">\n",
       "      <th></th>\n",
       "      <th>year_added</th>\n",
       "      <th>genre</th>\n",
       "      <th>num_of_show</th>\n",
       "      <th>service_name</th>\n",
       "    </tr>\n",
       "  </thead>\n",
       "  <tbody>\n",
       "    <tr>\n",
       "      <th>0</th>\n",
       "      <td>0.000000</td>\n",
       "      <td>0.074074</td>\n",
       "      <td>0.000000</td>\n",
       "      <td>Hulu</td>\n",
       "    </tr>\n",
       "    <tr>\n",
       "      <th>1</th>\n",
       "      <td>0.000000</td>\n",
       "      <td>0.185185</td>\n",
       "      <td>0.001422</td>\n",
       "      <td>Hulu</td>\n",
       "    </tr>\n",
       "    <tr>\n",
       "      <th>2</th>\n",
       "      <td>0.000000</td>\n",
       "      <td>0.296296</td>\n",
       "      <td>0.000000</td>\n",
       "      <td>Hulu</td>\n",
       "    </tr>\n",
       "    <tr>\n",
       "      <th>3</th>\n",
       "      <td>0.000000</td>\n",
       "      <td>0.333333</td>\n",
       "      <td>0.001422</td>\n",
       "      <td>Hulu</td>\n",
       "    </tr>\n",
       "    <tr>\n",
       "      <th>4</th>\n",
       "      <td>0.076923</td>\n",
       "      <td>0.000000</td>\n",
       "      <td>0.008535</td>\n",
       "      <td>Hulu</td>\n",
       "    </tr>\n",
       "  </tbody>\n",
       "</table>\n",
       "</div>"
      ],
      "text/plain": [
       "   year_added     genre  num_of_show service_name\n",
       "0    0.000000  0.074074     0.000000         Hulu\n",
       "1    0.000000  0.185185     0.001422         Hulu\n",
       "2    0.000000  0.296296     0.000000         Hulu\n",
       "3    0.000000  0.333333     0.001422         Hulu\n",
       "4    0.076923  0.000000     0.008535         Hulu"
      ]
     },
     "execution_count": 56,
     "metadata": {},
     "output_type": "execute_result"
    }
   ],
   "source": [
    "b2 = b2[[\"year_added\",\"genre\",\"num_of_show\",\"service_name\"]]\n",
    "b3 = b2[[\"year_added\",\"genre\",\"num_of_show\"]]\n",
    "\n",
    "b2_normalize = b3.apply(lambda x:(x-x.min()) / (x.max()-x.min()))\n",
    "b2_normalize = b2_normalize.join(b2['service_name'])\n",
    "b2_normalize.head()"
   ]
  },
  {
   "cell_type": "code",
   "execution_count": 57,
   "metadata": {
    "id": "mbF4pWjQvI83"
   },
   "outputs": [
    {
     "data": {
      "text/html": [
       "<div>\n",
       "<style scoped>\n",
       "    .dataframe tbody tr th:only-of-type {\n",
       "        vertical-align: middle;\n",
       "    }\n",
       "\n",
       "    .dataframe tbody tr th {\n",
       "        vertical-align: top;\n",
       "    }\n",
       "\n",
       "    .dataframe thead th {\n",
       "        text-align: right;\n",
       "    }\n",
       "</style>\n",
       "<table border=\"1\" class=\"dataframe\">\n",
       "  <thead>\n",
       "    <tr style=\"text-align: right;\">\n",
       "      <th></th>\n",
       "      <th>year_added</th>\n",
       "      <th>genre</th>\n",
       "      <th>num_of_show</th>\n",
       "    </tr>\n",
       "  </thead>\n",
       "  <tbody>\n",
       "    <tr>\n",
       "      <th>count</th>\n",
       "      <td>534.000000</td>\n",
       "      <td>534.000000</td>\n",
       "      <td>534.000000</td>\n",
       "    </tr>\n",
       "    <tr>\n",
       "      <th>mean</th>\n",
       "      <td>0.709306</td>\n",
       "      <td>0.469483</td>\n",
       "      <td>0.051846</td>\n",
       "    </tr>\n",
       "    <tr>\n",
       "      <th>std</th>\n",
       "      <td>0.250712</td>\n",
       "      <td>0.298291</td>\n",
       "      <td>0.113473</td>\n",
       "    </tr>\n",
       "    <tr>\n",
       "      <th>min</th>\n",
       "      <td>0.000000</td>\n",
       "      <td>0.000000</td>\n",
       "      <td>0.000000</td>\n",
       "    </tr>\n",
       "    <tr>\n",
       "      <th>25%</th>\n",
       "      <td>0.538462</td>\n",
       "      <td>0.222222</td>\n",
       "      <td>0.001422</td>\n",
       "    </tr>\n",
       "    <tr>\n",
       "      <th>50%</th>\n",
       "      <td>0.769231</td>\n",
       "      <td>0.444444</td>\n",
       "      <td>0.011380</td>\n",
       "    </tr>\n",
       "    <tr>\n",
       "      <th>75%</th>\n",
       "      <td>0.923077</td>\n",
       "      <td>0.740741</td>\n",
       "      <td>0.048364</td>\n",
       "    </tr>\n",
       "    <tr>\n",
       "      <th>max</th>\n",
       "      <td>1.000000</td>\n",
       "      <td>1.000000</td>\n",
       "      <td>1.000000</td>\n",
       "    </tr>\n",
       "  </tbody>\n",
       "</table>\n",
       "</div>"
      ],
      "text/plain": [
       "       year_added       genre  num_of_show\n",
       "count  534.000000  534.000000   534.000000\n",
       "mean     0.709306    0.469483     0.051846\n",
       "std      0.250712    0.298291     0.113473\n",
       "min      0.000000    0.000000     0.000000\n",
       "25%      0.538462    0.222222     0.001422\n",
       "50%      0.769231    0.444444     0.011380\n",
       "75%      0.923077    0.740741     0.048364\n",
       "max      1.000000    1.000000     1.000000"
      ]
     },
     "execution_count": 57,
     "metadata": {},
     "output_type": "execute_result"
    }
   ],
   "source": [
    "b2_normalize.describe()"
   ]
  },
  {
   "cell_type": "code",
   "execution_count": 58,
   "metadata": {
    "id": "2xLpno9iKnSn"
   },
   "outputs": [],
   "source": [
    "# prepare data and target\n",
    "x_genre = b2_normalize.drop(columns=['service_name','num_of_show'])\n",
    "y_genre = b2_normalize['service_name']\n",
    "\n",
    "#scale the data (feature scaling)\n",
    "sc = StandardScaler()\n",
    "x_genre = sc.fit_transform(x_genre)\n",
    "\n",
    "x_train, x_test, y_train, y_test = train_test_split(x_genre, y_genre, test_size = 0.3, random_state = 42, stratify=y_genre)"
   ]
  },
  {
   "cell_type": "code",
   "execution_count": 59,
   "metadata": {
    "id": "9-HldwGYNwJ-"
   },
   "outputs": [],
   "source": [
    "# SMOTE\n",
    "sm = SMOTE(random_state=42)\n",
    "x_sm, y_sm = sm.fit_resample(x_genre, y_genre)"
   ]
  },
  {
   "cell_type": "code",
   "execution_count": 60,
   "metadata": {
    "id": "PaXr6DN_SiVe"
   },
   "outputs": [
    {
     "data": {
      "text/html": [
       "<div>\n",
       "<style scoped>\n",
       "    .dataframe tbody tr th:only-of-type {\n",
       "        vertical-align: middle;\n",
       "    }\n",
       "\n",
       "    .dataframe tbody tr th {\n",
       "        vertical-align: top;\n",
       "    }\n",
       "\n",
       "    .dataframe thead th {\n",
       "        text-align: right;\n",
       "    }\n",
       "</style>\n",
       "<table border=\"1\" class=\"dataframe\">\n",
       "  <thead>\n",
       "    <tr style=\"text-align: right;\">\n",
       "      <th></th>\n",
       "      <th>year_added</th>\n",
       "      <th>genre</th>\n",
       "    </tr>\n",
       "  </thead>\n",
       "  <tbody>\n",
       "    <tr>\n",
       "      <th>0</th>\n",
       "      <td>2023</td>\n",
       "      <td>0</td>\n",
       "    </tr>\n",
       "    <tr>\n",
       "      <th>1</th>\n",
       "      <td>2023</td>\n",
       "      <td>1</td>\n",
       "    </tr>\n",
       "    <tr>\n",
       "      <th>2</th>\n",
       "      <td>2023</td>\n",
       "      <td>2</td>\n",
       "    </tr>\n",
       "    <tr>\n",
       "      <th>3</th>\n",
       "      <td>2023</td>\n",
       "      <td>3</td>\n",
       "    </tr>\n",
       "    <tr>\n",
       "      <th>4</th>\n",
       "      <td>2023</td>\n",
       "      <td>4</td>\n",
       "    </tr>\n",
       "  </tbody>\n",
       "</table>\n",
       "</div>"
      ],
      "text/plain": [
       "   year_added  genre\n",
       "0        2023      0\n",
       "1        2023      1\n",
       "2        2023      2\n",
       "3        2023      3\n",
       "4        2023      4"
      ]
     },
     "execution_count": 60,
     "metadata": {},
     "output_type": "execute_result"
    }
   ],
   "source": [
    "# new input to predict class\n",
    "new_input3 = np.array([[2023,0],\n",
    "                       [2023,1],\n",
    "                       [2023,2],\n",
    "                       [2023,3],\n",
    "                       [2023,4],\n",
    "                       [2023,5],\n",
    "                       [2023,6],\n",
    "                       [2023,7],\n",
    "                       [2023,8],\n",
    "                       [2023,9],\n",
    "                       [2023,10],\n",
    "                       [2023,11],\n",
    "                       [2023,12],\n",
    "                       [2023,13],\n",
    "                       [2023,14],\n",
    "                       [2023,15],\n",
    "                       [2023,16],\n",
    "                       [2023,17],\n",
    "                       [2023,18],\n",
    "                       [2023,19],\n",
    "                       [2023,20],\n",
    "                       [2023,21],\n",
    "                       [2023,22],\n",
    "                       [2023,23],\n",
    "                       [2023,24],\n",
    "                       [2023,25],\n",
    "                       [2023,26],\n",
    "                       [2023,27],\n",
    "\n",
    "                       [2024,0],\n",
    "                       [2024,1],\n",
    "                       [2024,2],\n",
    "                       [2024,3],\n",
    "                       [2024,4],\n",
    "                       [2024,5],\n",
    "                       [2024,6],\n",
    "                       [2024,7],\n",
    "\n",
    "                       [2027,10],\n",
    "                       [2027,11],\n",
    "                       [2027,12],\n",
    "                       [2027,13],\n",
    "                       [2027,14],\n",
    "                       [2027,15],\n",
    "\n",
    "                      ])\n",
    "\n",
    "new_table3 = pd.DataFrame(new_input3, columns = [\"year_added\",\"genre\"])\n",
    "new_table3.head()"
   ]
  },
  {
   "cell_type": "code",
   "execution_count": 61,
   "metadata": {
    "id": "cJiucoPEEqSi"
   },
   "outputs": [
    {
     "name": "stdout",
     "output_type": "stream",
     "text": [
      "    year_added  genre  predict\n",
      "0         2023      0   Amazon\n",
      "1         2023      1   Amazon\n",
      "2         2023      2  Netflix\n",
      "3         2023      3  Netflix\n",
      "4         2023      4  Netflix\n",
      "5         2023      5  Netflix\n",
      "6         2023      6  Netflix\n",
      "7         2023      7  Netflix\n",
      "8         2023      8  Netflix\n",
      "9         2023      9  Netflix\n",
      "10        2023     10  Netflix\n",
      "11        2023     11  Netflix\n",
      "12        2023     12  Netflix\n",
      "13        2023     13  Netflix\n",
      "14        2023     14  Netflix\n",
      "15        2023     15  Netflix\n",
      "16        2023     16  Netflix\n",
      "17        2023     17  Netflix\n",
      "18        2023     18  Netflix\n",
      "19        2023     19  Netflix\n",
      "20        2023     20  Netflix\n",
      "21        2023     21  Netflix\n",
      "22        2023     22  Netflix\n",
      "23        2023     23  Netflix\n",
      "24        2023     24  Netflix\n",
      "25        2023     25  Netflix\n",
      "26        2023     26  Netflix\n",
      "27        2023     27  Netflix\n",
      "28        2024      0   Amazon\n",
      "29        2024      1   Amazon\n",
      "30        2024      2  Netflix\n",
      "31        2024      3  Netflix\n",
      "32        2024      4  Netflix\n",
      "33        2024      5  Netflix\n",
      "34        2024      6  Netflix\n",
      "35        2024      7  Netflix\n",
      "36        2027     10  Netflix\n",
      "37        2027     11  Netflix\n",
      "38        2027     12  Netflix\n",
      "39        2027     13  Netflix\n",
      "40        2027     14  Netflix\n",
      "41        2027     15  Netflix\n"
     ]
    },
    {
     "name": "stderr",
     "output_type": "stream",
     "text": [
      "/opt/homebrew/lib/python3.9/site-packages/sklearn/base.py:443: UserWarning: X has feature names, but RandomForestClassifier was fitted without feature names\n",
      "  warnings.warn(\n"
     ]
    }
   ],
   "source": [
    "# predict class using genre\n",
    "ranfor = RandomForestClassifier(random_state=42)\n",
    "ranfor.fit(x_sm, y_sm)\n",
    "new_output3 = ranfor.predict(new_table3)\n",
    "new_pred3 = new_table3\n",
    "new_pred3['predict'] = pd.DataFrame(new_output3, columns=['predict'])\n",
    "print(new_pred3)"
   ]
  },
  {
   "cell_type": "markdown",
   "metadata": {
    "id": "sLIbimRK66kI"
   },
   "source": [
    "Evaluate Country to predict class"
   ]
  },
  {
   "cell_type": "code",
   "execution_count": 62,
   "metadata": {
    "id": "HJkV2n9B65dE"
   },
   "outputs": [
    {
     "name": "stdout",
     "output_type": "stream",
     "text": [
      "     year_added        country  num_of_show service_name\n",
      "0          2008  United States            2         Hulu\n",
      "1          2009        Denmark            1      Netflix\n",
      "2          2009          Japan            7         Hulu\n",
      "3          2009  United States            1      Netflix\n",
      "4          2010          Japan            8         Hulu\n",
      "..          ...            ...          ...          ...\n",
      "921        2021  United States            7       Amazon\n",
      "922        2021  United States          177       Disney\n",
      "923        2021  United States          211         Hulu\n",
      "924        2021  United States          516      Netflix\n",
      "925        2021        Vietnam            2      Netflix\n",
      "\n",
      "[926 rows x 4 columns]\n"
     ]
    }
   ],
   "source": [
    "encorder = preprocessing.LabelEncoder()\n",
    " \n",
    "# get a dataframe with individual genre\n",
    "bcountry = df[[\"year_added\",\"country\",\"service_name\"]]\n",
    "#this function is to separate genres to rows\n",
    " \n",
    "# convert listed of genres to rows, vertically stack to a dataframe\n",
    "bcountry = pd.DataFrame(df.country.str.split(',').tolist(), index=[df.year_added, df.service_name]).stack()\n",
    "bcountry = bcountry.reset_index()[[0, 'year_added','service_name']]\n",
    "bcountry.columns = ['country','year_added','service_name']  # rename columns\n",
    "bcountry2 = bcountry.groupby(['year_added','country','service_name']).country.agg(['count']).rename(columns={'count':'num_of_show'}).reset_index()\n",
    "bcountry2 = bcountry2[[\"year_added\",\"country\",\"num_of_show\",\"service_name\"]]\n",
    "print(bcountry2)"
   ]
  },
  {
   "cell_type": "code",
   "execution_count": 63,
   "metadata": {
    "id": "4OlJ2uqu8QEK"
   },
   "outputs": [],
   "source": [
    "# put genre in numeric so that we can apply into model\n",
    "#lables, uniques = pd.factorize(b2[\"country\"])\n",
    "#lables\n",
    "#b2[\"country_num\"] = pd.factorize(b2[\"country\"])[0]\n",
    "#b2.groupby([\"country\",\"country_num\"]).size().reset_index().rename(columns={0:\"count\"}).sort_values(\"country_num\")\n"
   ]
  },
  {
   "cell_type": "code",
   "execution_count": 64,
   "metadata": {
    "id": "LbN5BWYt8sw1"
   },
   "outputs": [],
   "source": [
    "bcountry2['country'] = encorder.fit_transform(bcountry2['country'])"
   ]
  },
  {
   "cell_type": "code",
   "execution_count": 65,
   "metadata": {
    "id": "4VO0zNQC8xna"
   },
   "outputs": [
    {
     "data": {
      "text/plain": [
       "year_added      0\n",
       "country         0\n",
       "num_of_show     0\n",
       "service_name    0\n",
       "dtype: int64"
      ]
     },
     "execution_count": 65,
     "metadata": {},
     "output_type": "execute_result"
    }
   ],
   "source": [
    "bcountry2.isna().sum()"
   ]
  },
  {
   "cell_type": "code",
   "execution_count": 66,
   "metadata": {
    "id": "NcgZL6PA83qA"
   },
   "outputs": [
    {
     "data": {
      "image/png": "[encoded data removed]",
      "text/plain": [
       "<Figure size 432x288 with 2 Axes>"
      ]
     },
     "metadata": {
      "needs_background": "light"
     },
     "output_type": "display_data"
    }
   ],
   "source": [
    "# visualization of correlation\n",
    "hm_bcountry2 = sns.heatmap(bcountry2.corr(), annot = True)\n",
    "hm_bcountry2.set(title = \"Correlation\")\n",
    "plt.show()"
   ]
  },
  {
   "cell_type": "code",
   "execution_count": 67,
   "metadata": {
    "id": "kwILboQ38-3o"
   },
   "outputs": [
    {
     "data": {
      "text/plain": [
       "<AxesSubplot:>"
      ]
     },
     "execution_count": 67,
     "metadata": {},
     "output_type": "execute_result"
    },
    {
     "data": {
      "image/png": "[encoded data removed]",
      "text/plain": [
       "<Figure size 432x288 with 1 Axes>"
      ]
     },
     "metadata": {
      "needs_background": "light"
     },
     "output_type": "display_data"
    }
   ],
   "source": [
    "# check if data is imbalanced or not\n",
    "bcountry2['service_name'].value_counts().plot(kind='barh')"
   ]
  },
  {
   "cell_type": "code",
   "execution_count": 68,
   "metadata": {
    "id": "9uCEv4cH9QWn"
   },
   "outputs": [
    {
     "data": {
      "text/html": [
       "<div>\n",
       "<style scoped>\n",
       "    .dataframe tbody tr th:only-of-type {\n",
       "        vertical-align: middle;\n",
       "    }\n",
       "\n",
       "    .dataframe tbody tr th {\n",
       "        vertical-align: top;\n",
       "    }\n",
       "\n",
       "    .dataframe thead th {\n",
       "        text-align: right;\n",
       "    }\n",
       "</style>\n",
       "<table border=\"1\" class=\"dataframe\">\n",
       "  <thead>\n",
       "    <tr style=\"text-align: right;\">\n",
       "      <th></th>\n",
       "      <th>year_added</th>\n",
       "      <th>country</th>\n",
       "      <th>num_of_show</th>\n",
       "      <th>service_name</th>\n",
       "    </tr>\n",
       "  </thead>\n",
       "  <tbody>\n",
       "    <tr>\n",
       "      <th>0</th>\n",
       "      <td>0.000000</td>\n",
       "      <td>0.978723</td>\n",
       "      <td>0.001458</td>\n",
       "      <td>Hulu</td>\n",
       "    </tr>\n",
       "    <tr>\n",
       "      <th>1</th>\n",
       "      <td>0.076923</td>\n",
       "      <td>0.664894</td>\n",
       "      <td>0.000000</td>\n",
       "      <td>Netflix</td>\n",
       "    </tr>\n",
       "    <tr>\n",
       "      <th>2</th>\n",
       "      <td>0.076923</td>\n",
       "      <td>0.760638</td>\n",
       "      <td>0.008746</td>\n",
       "      <td>Hulu</td>\n",
       "    </tr>\n",
       "    <tr>\n",
       "      <th>3</th>\n",
       "      <td>0.076923</td>\n",
       "      <td>0.978723</td>\n",
       "      <td>0.000000</td>\n",
       "      <td>Netflix</td>\n",
       "    </tr>\n",
       "    <tr>\n",
       "      <th>4</th>\n",
       "      <td>0.153846</td>\n",
       "      <td>0.760638</td>\n",
       "      <td>0.010204</td>\n",
       "      <td>Hulu</td>\n",
       "    </tr>\n",
       "  </tbody>\n",
       "</table>\n",
       "</div>"
      ],
      "text/plain": [
       "   year_added   country  num_of_show service_name\n",
       "0    0.000000  0.978723     0.001458         Hulu\n",
       "1    0.076923  0.664894     0.000000      Netflix\n",
       "2    0.076923  0.760638     0.008746         Hulu\n",
       "3    0.076923  0.978723     0.000000      Netflix\n",
       "4    0.153846  0.760638     0.010204         Hulu"
      ]
     },
     "execution_count": 68,
     "metadata": {},
     "output_type": "execute_result"
    }
   ],
   "source": [
    "# normalize country\n",
    "bcountry2 = bcountry2[[\"year_added\",\"country\",\"num_of_show\",\"service_name\"]]\n",
    "bcountry3 = bcountry2[[\"year_added\",\"country\",\"num_of_show\"]]\n",
    " \n",
    "bcountry2_normalize = bcountry3.apply(lambda x:(x-x.min()) / (x.max()-x.min()))\n",
    "bcountry2_normalize = bcountry2_normalize.join(bcountry2['service_name'])\n",
    "bcountry2_normalize.head()"
   ]
  },
  {
   "cell_type": "code",
   "execution_count": 69,
   "metadata": {
    "id": "hHggEoew9iFt"
   },
   "outputs": [
    {
     "data": {
      "text/html": [
       "<div>\n",
       "<style scoped>\n",
       "    .dataframe tbody tr th:only-of-type {\n",
       "        vertical-align: middle;\n",
       "    }\n",
       "\n",
       "    .dataframe tbody tr th {\n",
       "        vertical-align: top;\n",
       "    }\n",
       "\n",
       "    .dataframe thead th {\n",
       "        text-align: right;\n",
       "    }\n",
       "</style>\n",
       "<table border=\"1\" class=\"dataframe\">\n",
       "  <thead>\n",
       "    <tr style=\"text-align: right;\">\n",
       "      <th></th>\n",
       "      <th>year_added</th>\n",
       "      <th>country</th>\n",
       "      <th>num_of_show</th>\n",
       "    </tr>\n",
       "  </thead>\n",
       "  <tbody>\n",
       "    <tr>\n",
       "      <th>count</th>\n",
       "      <td>926.000000</td>\n",
       "      <td>926.000000</td>\n",
       "      <td>926.000000</td>\n",
       "    </tr>\n",
       "    <tr>\n",
       "      <th>mean</th>\n",
       "      <td>0.800881</td>\n",
       "      <td>0.540376</td>\n",
       "      <td>0.016838</td>\n",
       "    </tr>\n",
       "    <tr>\n",
       "      <th>std</th>\n",
       "      <td>0.168724</td>\n",
       "      <td>0.290249</td>\n",
       "      <td>0.072914</td>\n",
       "    </tr>\n",
       "    <tr>\n",
       "      <th>min</th>\n",
       "      <td>0.000000</td>\n",
       "      <td>0.000000</td>\n",
       "      <td>0.000000</td>\n",
       "    </tr>\n",
       "    <tr>\n",
       "      <th>25%</th>\n",
       "      <td>0.692308</td>\n",
       "      <td>0.260638</td>\n",
       "      <td>0.000000</td>\n",
       "    </tr>\n",
       "    <tr>\n",
       "      <th>50%</th>\n",
       "      <td>0.846154</td>\n",
       "      <td>0.550532</td>\n",
       "      <td>0.001458</td>\n",
       "    </tr>\n",
       "    <tr>\n",
       "      <th>75%</th>\n",
       "      <td>0.923077</td>\n",
       "      <td>0.765957</td>\n",
       "      <td>0.008746</td>\n",
       "    </tr>\n",
       "    <tr>\n",
       "      <th>max</th>\n",
       "      <td>1.000000</td>\n",
       "      <td>1.000000</td>\n",
       "      <td>1.000000</td>\n",
       "    </tr>\n",
       "  </tbody>\n",
       "</table>\n",
       "</div>"
      ],
      "text/plain": [
       "       year_added     country  num_of_show\n",
       "count  926.000000  926.000000   926.000000\n",
       "mean     0.800881    0.540376     0.016838\n",
       "std      0.168724    0.290249     0.072914\n",
       "min      0.000000    0.000000     0.000000\n",
       "25%      0.692308    0.260638     0.000000\n",
       "50%      0.846154    0.550532     0.001458\n",
       "75%      0.923077    0.765957     0.008746\n",
       "max      1.000000    1.000000     1.000000"
      ]
     },
     "execution_count": 69,
     "metadata": {},
     "output_type": "execute_result"
    }
   ],
   "source": [
    "bcountry2_normalize.describe()"
   ]
  },
  {
   "cell_type": "code",
   "execution_count": 70,
   "metadata": {
    "id": "xN6h2Lum9l7R"
   },
   "outputs": [],
   "source": [
    "# prepare data and target\n",
    "x_country = b2_normalize.drop(columns=['service_name','num_of_show'])\n",
    "y_country = b2_normalize['service_name']\n",
    " \n",
    "#scale the data (feature scaling)\n",
    "sc = StandardScaler()\n",
    "x_country = sc.fit_transform(x_country)\n",
    " \n",
    "x_train, x_test, y_train, y_test = train_test_split(x_country, y_country, test_size = 0.3, random_state = 42, stratify=y_country)"
   ]
  },
  {
   "cell_type": "code",
   "execution_count": 71,
   "metadata": {
    "id": "h9Gu6-iv93uB"
   },
   "outputs": [],
   "source": [
    "# SMOTE\n",
    "sm = RandomOverSampler(random_state=42)\n",
    "x_sm_country, y_sm_country = sm.fit_resample(x_country, y_country)"
   ]
  },
  {
   "cell_type": "code",
   "execution_count": 72,
   "metadata": {
    "id": "fy2tc6F7-ZJU"
   },
   "outputs": [
    {
     "data": {
      "text/html": [
       "<div>\n",
       "<style scoped>\n",
       "    .dataframe tbody tr th:only-of-type {\n",
       "        vertical-align: middle;\n",
       "    }\n",
       "\n",
       "    .dataframe tbody tr th {\n",
       "        vertical-align: top;\n",
       "    }\n",
       "\n",
       "    .dataframe thead th {\n",
       "        text-align: right;\n",
       "    }\n",
       "</style>\n",
       "<table border=\"1\" class=\"dataframe\">\n",
       "  <thead>\n",
       "    <tr style=\"text-align: right;\">\n",
       "      <th></th>\n",
       "      <th>year_added</th>\n",
       "      <th>country</th>\n",
       "    </tr>\n",
       "  </thead>\n",
       "  <tbody>\n",
       "    <tr>\n",
       "      <th>0</th>\n",
       "      <td>2023</td>\n",
       "      <td>0</td>\n",
       "    </tr>\n",
       "    <tr>\n",
       "      <th>1</th>\n",
       "      <td>2023</td>\n",
       "      <td>1</td>\n",
       "    </tr>\n",
       "    <tr>\n",
       "      <th>2</th>\n",
       "      <td>2023</td>\n",
       "      <td>2</td>\n",
       "    </tr>\n",
       "    <tr>\n",
       "      <th>3</th>\n",
       "      <td>2023</td>\n",
       "      <td>3</td>\n",
       "    </tr>\n",
       "    <tr>\n",
       "      <th>4</th>\n",
       "      <td>2023</td>\n",
       "      <td>4</td>\n",
       "    </tr>\n",
       "  </tbody>\n",
       "</table>\n",
       "</div>"
      ],
      "text/plain": [
       "   year_added  country\n",
       "0        2023        0\n",
       "1        2023        1\n",
       "2        2023        2\n",
       "3        2023        3\n",
       "4        2023        4"
      ]
     },
     "execution_count": 72,
     "metadata": {},
     "output_type": "execute_result"
    }
   ],
   "source": [
    "# new input to predict class\n",
    "new_input4 = np.array([[2023,0],\n",
    "                       [2023,1],\n",
    "                       [2023,2],\n",
    "                       [2023,3],\n",
    "                       [2023,4],\n",
    "                       [2023,5],\n",
    "                       [2023,6],\n",
    "                       [2023,7],\n",
    "                       [2023,8],\n",
    "                       [2023,9],\n",
    "                       [2023,10],\n",
    "                       [2023,11],\n",
    "                       [2023,12],\n",
    "                       [2023,13],\n",
    "                       [2023,14],\n",
    "                       [2023,15],\n",
    "                       [2023,16],\n",
    "                       [2023,17],\n",
    "                       [2023,18],\n",
    "                       [2023,19],\n",
    "                       [2023,20],\n",
    "                       [2023,21],\n",
    "                       [2023,22],\n",
    "                       [2023,23],\n",
    "                       [2023,24],\n",
    "                       [2023,25],\n",
    "                       [2023,26],\n",
    "                       [2023,27],\n",
    "\n",
    "                       [2024,0],\n",
    "                       [2024,1],\n",
    "                       [2024,2],\n",
    "                       [2024,3],\n",
    "                       [2024,4],\n",
    "                       [2024,5],\n",
    "                       [2024,6],\n",
    "                       [2024,7],\n",
    "\n",
    "                       [2027,10],\n",
    "                       [2027,11],\n",
    "                       [2027,12],\n",
    "                       [2027,13],\n",
    "                       [2027,14],\n",
    "                       [2027,15],\n",
    "\n",
    "                      ])\n",
    "\n",
    "new_table4 = pd.DataFrame(new_input4, columns = [\"year_added\",\"country\"])\n",
    "new_table4.head()"
   ]
  },
  {
   "cell_type": "code",
   "execution_count": 73,
   "metadata": {
    "id": "456jHaJv-sEE"
   },
   "outputs": [
    {
     "name": "stdout",
     "output_type": "stream",
     "text": [
      "    year_added  country  predict\n",
      "0         2023        0   Disney\n",
      "1         2023        1   Disney\n",
      "2         2023        2  Netflix\n",
      "3         2023        3  Netflix\n",
      "4         2023        4  Netflix\n",
      "5         2023        5  Netflix\n",
      "6         2023        6  Netflix\n",
      "7         2023        7  Netflix\n",
      "8         2023        8  Netflix\n",
      "9         2023        9  Netflix\n",
      "10        2023       10  Netflix\n",
      "11        2023       11  Netflix\n",
      "12        2023       12  Netflix\n",
      "13        2023       13  Netflix\n",
      "14        2023       14  Netflix\n",
      "15        2023       15  Netflix\n",
      "16        2023       16  Netflix\n",
      "17        2023       17  Netflix\n",
      "18        2023       18  Netflix\n",
      "19        2023       19  Netflix\n",
      "20        2023       20  Netflix\n",
      "21        2023       21  Netflix\n",
      "22        2023       22  Netflix\n",
      "23        2023       23  Netflix\n",
      "24        2023       24  Netflix\n",
      "25        2023       25  Netflix\n",
      "26        2023       26  Netflix\n",
      "27        2023       27  Netflix\n",
      "28        2024        0   Disney\n",
      "29        2024        1   Disney\n",
      "30        2024        2  Netflix\n",
      "31        2024        3  Netflix\n",
      "32        2024        4  Netflix\n",
      "33        2024        5  Netflix\n",
      "34        2024        6  Netflix\n",
      "35        2024        7  Netflix\n",
      "36        2027       10  Netflix\n",
      "37        2027       11  Netflix\n",
      "38        2027       12  Netflix\n",
      "39        2027       13  Netflix\n",
      "40        2027       14  Netflix\n",
      "41        2027       15  Netflix\n"
     ]
    },
    {
     "name": "stderr",
     "output_type": "stream",
     "text": [
      "/opt/homebrew/lib/python3.9/site-packages/sklearn/base.py:443: UserWarning: X has feature names, but RandomForestClassifier was fitted without feature names\n",
      "  warnings.warn(\n"
     ]
    }
   ],
   "source": [
    "# predict class using genre\n",
    "ranfor = RandomForestClassifier(random_state=42)\n",
    "ranfor.fit(x_sm_country, y_sm_country)\n",
    "new_output4 = ranfor.predict(new_table4)\n",
    "new_pred4 = new_table4\n",
    "new_pred4['predict'] = pd.DataFrame(new_output4, columns=['predict'])\n",
    "print(new_pred4)"
   ]
  }
 ],
 "metadata": {
  "colab": {
   "collapsed_sections": [],
   "name": "Analysis_of_Streaming_Services.ipynb",
   "provenance": []
  },
  "kernelspec": {
   "display_name": "Python 3 (ipykernel)",
   "language": "python",
   "name": "python3"
  },
  "language_info": {
   "codemirror_mode": {
    "name": "ipython",
    "version": 3
   },
   "file_extension": ".py",
   "mimetype": "text/x-python",
   "name": "python",
   "nbconvert_exporter": "python",
   "pygments_lexer": "ipython3",
   "version": "3.9.12"
  }
 },
 "nbformat": 4,
 "nbformat_minor": 1
}
